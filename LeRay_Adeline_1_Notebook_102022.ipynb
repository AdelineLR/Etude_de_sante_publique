{
 "cells": [
  {
   "cell_type": "markdown",
   "id": "f5b30387",
   "metadata": {},
   "source": [
    "# Projet P4 - Réalisez une étude de santé publique avec Python\n",
    "\n",
    "*Parcours Data Analyst V2 - Adeline Le Ray - Octobre 2022*\n",
    "<hr>"
   ]
  },
  {
   "cell_type": "markdown",
   "id": "d536681d",
   "metadata": {},
   "source": [
    "## *Sommaire*\n",
    "**[Présentation du projet](#Presentation_projet)**\n",
    "* [1- Rappel du contexte](#0_1)\n",
    "* [2- Objectif](#0_2)\n",
    "* [3- Données sources](#0_3)\n",
    "* [4- Analyses à réaliser](#0_4)\n",
    "* [5- Démarche](#0_5)\n",
    "\n",
    "**[Partie 1 - Inspection et préparation des fichiers de données](#partie1)**\n",
    "* [1. Importation des librairies et des fichiers .csv\"](#1_1)\n",
    "* [2. Inspection des fichiers de données](#1_2)\n",
    "* [3. Préparation des données](#1_3)\n",
    "   \n",
    "**[Partie 2 - Analyse des données : réponses aux questions](#partie2)**\n",
    "* [Question 1 - Lien logique sur les utilisations de la disponibilité intérieure](#question1)\n",
    "* [Question 2 - Utilisation des céréales](#question2)\n",
    "* [Question 3 - Manioc en Thaïlande](#question3)\n",
    "* [Question 4 - Proportion des personnes en sous-nutrition en 2017](#question4)\n",
    "* [Question 5 - Nombre théorique de personnes pouvant être nourries à partir de la disponibilité alimentaire mondiale](#question5)\n",
    "* [Question 6 - Nombre théorique de personnes pouvant être nourries à partir de la disponibilité alimentaire des produits végétaux](#question6)\n",
    "* [Question 7 - Utilisation de la disponibilité intérieure](#question7)\n",
    "* [Question 8 - Pays pour lesquels la proportion de personnes sous-alimentées est la plus forte en 2017](#question8)\n",
    "* [Question 9 - Pays qui ont le plus bénéficié d’aide depuis 2013](#question9)\n",
    "* [Question 10 - Pays ayant le plus/le moins de disponibilité/habitant](#question10)\n",
    "\n",
    "**[Partie 3. Exploration des données](#partie3)**\n",
    "* [1- Informations sur les données](#3_1)\n",
    "* [2- Liste des produits et des pays bénéficiaires](#3_2)\n",
    "* [3- Proportion de la disponibilité alimentaire mondiale d'origine animale et végétale](#3_3)\n",
    "* [4- Produits contribuant le plus aux apports alimentaires et leur zone de production](#3_4)\n",
    "* [5- Top des produits destinés à l'alimentation animale](#3_5)\n",
    "* [6- Evolution de la proportion de la population mondiale en sous-nutrition](#3_6)\n",
    "* [7- Répartition de la proportion de population en sous-nutrition en 2017](#3_7)\n",
    "* [8- Evolution des aides alimentaires annuels](#3_8)\n",
    "* [9- Aides alimentaires par catégories de produits](#3_9)\n",
    "* [10- Répartion de la disponibilité alimentaire par habitant](#3_10)\n",
    "* [11- Zoom le top des pays en sous-nutrition : Haïti, RPD de Corée](#3_11)\n"
   ]
  },
  {
   "cell_type": "markdown",
   "id": "8015a5c3",
   "metadata": {},
   "source": [
    "\n",
    "## *Présentation du projet*<a class=\"anchor\" id=\"Presentation_projet\"></a>\n",
    "\n",
    "### 1- Rappel du contexte<a class=\"anchor\" id=\"0_1\"></a>\n",
    "\n",
    "J'ai récemment rejoint une équipe de chercheurs de la Food and Agriculture Organization of the United Nations (FAO), en tant que data analyst, pour remplacer Julien, l'ancien data analyst, qui a été muté dans une autre équipe.\n",
    "Le responsable de mon équipe est Marc, un chercheur en économie de la santé.\n",
    "\n",
    "### 2- Objectif<a class=\"anchor\" id=\"0_2\"></a>\n",
    "Dans le cadre des actions menées par la FAO, Food and Agriculture Organization of the United Nations, l'objectif de ce projet est de donner un panorama de l’état de la malnutrition dans le monde.\n",
    "\n",
    "### 3- Données sources<a class=\"anchor\" id=\"0_3\"></a>\n",
    "Les données utilisées pour l'étude sont issus du site FAO et téléchargeables [ici](https://www.fao.org/faostat/fr/#data).\n",
    "Les fichiers utilisés sont les suivants:\n",
    "- disponibilité alimentaire pour l'année 2013\n",
    "- insécurité alimentaire de 2013 à 2017\n",
    "- population mondiale de 2013 à 2018\n",
    "- aide alimentaire distribuée de 2013 à 2016\n",
    "\n",
    "### 4- Analyses à réaliser<a class=\"anchor\" id=\"0_4\"></a>\n",
    "Les points à étudier sont les suivants :\n",
    "1. Poursuivre les recherches de Julien, le précédent Data Analyst, en répondant aux questions laissées dans le lexique de données\n",
    "- Lien logique entre les 10 variables exprimées en milliers de tonnes sur les utilisations de la disponibilité intérieure\n",
    "- Utilisation des céréales : alimentation animaux, alimentation humaine et pertes\n",
    "- Le Manioc en Thaïlande\n",
    "\n",
    "2. Répondre aux demandes d'informations de Marc\n",
    "- Proportion de personnes en état de sous-nutrition en 2017\n",
    "- Nombre théorique de personnes qui pourraient être nourries à partir de la disponibilité alimentaire mondiale\n",
    "- Nombre théorique de personnes qui pourraient être nourries à partir de la disponibilité alimentaire des produits végétaux\n",
    "- Utilisation de la disponibilité intérieure, en particulier la part qui est attribuée à l’alimentation animale, celle qui est perdue et celle qui est concrètement utilisée pour l'alimentation humaine\n",
    "- Ainsi que toute information additionnelle jugée utile\n",
    "\n",
    "3. Répondre aux demandes de Mélanie \n",
    "- Pays pour lesquels la proportion de personnes sous-alimentées est la plus forte en 2017\n",
    "- Pays qui ont le plus bénéficié d’aide depuis 2013 \n",
    "- Pays ayant le plus/le moins de disponibilité/habitant\n",
    "- Ainsi que toutes les informations jugées utiles pour mettre en relief les pays qui semblent être le plus en difficulté, au niveau alimentaire.\n",
    "\n",
    "### 5- Démarche<a class=\"anchor\" id=\"0_5\"></a> \n",
    "La démarche utilisée pour réaliser le projet se découpe en 3 parties :\n",
    "1. Inspection et préparation des fichiers de données\n",
    "2. Analyse des données pour répondre aux questions\n",
    "3. Exploration des données : analyses complémentaires pour aller plus loin\n",
    "\n",
    "Les différentes parties sont détaillées ci-dessous."
   ]
  },
  {
   "cell_type": "markdown",
   "id": "c30adf90",
   "metadata": {},
   "source": [
    "## *Partie 1 - Inspection et préparation des fichiers de données*<a class=\"anchor\" id=\"partie1\"></a>\n",
    "\n",
    "La démarche de l'inspection des fichiers de données est la suivante :\n",
    "- Importation des librairies et des fichiers\n",
    "- Aperçu des data frames\n",
    "- Types de variables\n",
    "- Dimensions du data frame\n",
    "- Recherche des doublons\n",
    "- Recherche des valeurs manquantes\n",
    "\n",
    "Des modifications des data frames ont été réalisées : \n",
    "- Changement de type des variables\n",
    "- Remplacement des valeurs manquantes\n",
    "- Renommer les colonnes du data frame si non explicite"
   ]
  },
  {
   "cell_type": "markdown",
   "id": "ac023eb6",
   "metadata": {},
   "source": [
    "### 1. Importation des librairies et des fichiers .csv <a class=\"anchor\" id=\"1_1\"></a>"
   ]
  },
  {
   "cell_type": "code",
   "execution_count": 117,
   "id": "470710ea",
   "metadata": {},
   "outputs": [],
   "source": [
    "# Importation des librairies pandas, numpy, pyplot de matplotlib, seaborn\n",
    "import pandas as pd\n",
    "import numpy as np\n",
    "import matplotlib.pyplot as plt\n",
    "import seaborn as sns"
   ]
  },
  {
   "cell_type": "code",
   "execution_count": 118,
   "id": "b907a00e",
   "metadata": {},
   "outputs": [],
   "source": [
    "# importation des fichiers .csv\n",
    "dispo_alim=pd.read_csv('dispo_alimentaire.csv')\n",
    "aide_alim=pd.read_csv('aide_alimentaire.csv')\n",
    "population=pd.read_csv('population.csv')\n",
    "sous_nutri=pd.read_csv('sous_nutrition.csv')"
   ]
  },
  {
   "cell_type": "markdown",
   "id": "01bd7fb7",
   "metadata": {},
   "source": [
    "### 2. Inspection des fichiers de données<a class=\"anchor\" id=\"1_2\"></a>"
   ]
  },
  {
   "cell_type": "markdown",
   "id": "4ce33318",
   "metadata": {},
   "source": [
    "#### Aperçu des data frames<a class=\"anchor\" id=\"1_2_1\"></a>"
   ]
  },
  {
   "cell_type": "code",
   "execution_count": 119,
   "id": "5b8c626b",
   "metadata": {
    "scrolled": true
   },
   "outputs": [
    {
     "data": {
      "text/html": [
       "<div>\n",
       "<style scoped>\n",
       "    .dataframe tbody tr th:only-of-type {\n",
       "        vertical-align: middle;\n",
       "    }\n",
       "\n",
       "    .dataframe tbody tr th {\n",
       "        vertical-align: top;\n",
       "    }\n",
       "\n",
       "    .dataframe thead th {\n",
       "        text-align: right;\n",
       "    }\n",
       "</style>\n",
       "<table border=\"1\" class=\"dataframe\">\n",
       "  <thead>\n",
       "    <tr style=\"text-align: right;\">\n",
       "      <th></th>\n",
       "      <th>Zone</th>\n",
       "      <th>Produit</th>\n",
       "      <th>Origine</th>\n",
       "      <th>Aliments pour animaux</th>\n",
       "      <th>Autres Utilisations</th>\n",
       "      <th>Disponibilité alimentaire (Kcal/personne/jour)</th>\n",
       "      <th>Disponibilité alimentaire en quantité (kg/personne/an)</th>\n",
       "      <th>Disponibilité de matière grasse en quantité (g/personne/jour)</th>\n",
       "      <th>Disponibilité de protéines en quantité (g/personne/jour)</th>\n",
       "      <th>Disponibilité intérieure</th>\n",
       "      <th>Exportations - Quantité</th>\n",
       "      <th>Importations - Quantité</th>\n",
       "      <th>Nourriture</th>\n",
       "      <th>Pertes</th>\n",
       "      <th>Production</th>\n",
       "      <th>Semences</th>\n",
       "      <th>Traitement</th>\n",
       "      <th>Variation de stock</th>\n",
       "    </tr>\n",
       "  </thead>\n",
       "  <tbody>\n",
       "    <tr>\n",
       "      <th>0</th>\n",
       "      <td>Afghanistan</td>\n",
       "      <td>Abats Comestible</td>\n",
       "      <td>animale</td>\n",
       "      <td>NaN</td>\n",
       "      <td>NaN</td>\n",
       "      <td>5.0</td>\n",
       "      <td>1.72</td>\n",
       "      <td>0.20</td>\n",
       "      <td>0.77</td>\n",
       "      <td>53.0</td>\n",
       "      <td>NaN</td>\n",
       "      <td>NaN</td>\n",
       "      <td>53.0</td>\n",
       "      <td>NaN</td>\n",
       "      <td>53.0</td>\n",
       "      <td>NaN</td>\n",
       "      <td>NaN</td>\n",
       "      <td>NaN</td>\n",
       "    </tr>\n",
       "    <tr>\n",
       "      <th>1</th>\n",
       "      <td>Afghanistan</td>\n",
       "      <td>Agrumes, Autres</td>\n",
       "      <td>vegetale</td>\n",
       "      <td>NaN</td>\n",
       "      <td>NaN</td>\n",
       "      <td>1.0</td>\n",
       "      <td>1.29</td>\n",
       "      <td>0.01</td>\n",
       "      <td>0.02</td>\n",
       "      <td>41.0</td>\n",
       "      <td>2.0</td>\n",
       "      <td>40.0</td>\n",
       "      <td>39.0</td>\n",
       "      <td>2.0</td>\n",
       "      <td>3.0</td>\n",
       "      <td>NaN</td>\n",
       "      <td>NaN</td>\n",
       "      <td>NaN</td>\n",
       "    </tr>\n",
       "    <tr>\n",
       "      <th>2</th>\n",
       "      <td>Afghanistan</td>\n",
       "      <td>Aliments pour enfants</td>\n",
       "      <td>vegetale</td>\n",
       "      <td>NaN</td>\n",
       "      <td>NaN</td>\n",
       "      <td>1.0</td>\n",
       "      <td>0.06</td>\n",
       "      <td>0.01</td>\n",
       "      <td>0.03</td>\n",
       "      <td>2.0</td>\n",
       "      <td>NaN</td>\n",
       "      <td>2.0</td>\n",
       "      <td>2.0</td>\n",
       "      <td>NaN</td>\n",
       "      <td>NaN</td>\n",
       "      <td>NaN</td>\n",
       "      <td>NaN</td>\n",
       "      <td>NaN</td>\n",
       "    </tr>\n",
       "    <tr>\n",
       "      <th>3</th>\n",
       "      <td>Afghanistan</td>\n",
       "      <td>Ananas</td>\n",
       "      <td>vegetale</td>\n",
       "      <td>NaN</td>\n",
       "      <td>NaN</td>\n",
       "      <td>0.0</td>\n",
       "      <td>0.00</td>\n",
       "      <td>NaN</td>\n",
       "      <td>NaN</td>\n",
       "      <td>0.0</td>\n",
       "      <td>NaN</td>\n",
       "      <td>0.0</td>\n",
       "      <td>0.0</td>\n",
       "      <td>NaN</td>\n",
       "      <td>NaN</td>\n",
       "      <td>NaN</td>\n",
       "      <td>NaN</td>\n",
       "      <td>NaN</td>\n",
       "    </tr>\n",
       "    <tr>\n",
       "      <th>4</th>\n",
       "      <td>Afghanistan</td>\n",
       "      <td>Bananes</td>\n",
       "      <td>vegetale</td>\n",
       "      <td>NaN</td>\n",
       "      <td>NaN</td>\n",
       "      <td>4.0</td>\n",
       "      <td>2.70</td>\n",
       "      <td>0.02</td>\n",
       "      <td>0.05</td>\n",
       "      <td>82.0</td>\n",
       "      <td>NaN</td>\n",
       "      <td>82.0</td>\n",
       "      <td>82.0</td>\n",
       "      <td>NaN</td>\n",
       "      <td>NaN</td>\n",
       "      <td>NaN</td>\n",
       "      <td>NaN</td>\n",
       "      <td>NaN</td>\n",
       "    </tr>\n",
       "  </tbody>\n",
       "</table>\n",
       "</div>"
      ],
      "text/plain": [
       "          Zone                Produit   Origine  Aliments pour animaux  \\\n",
       "0  Afghanistan       Abats Comestible   animale                    NaN   \n",
       "1  Afghanistan        Agrumes, Autres  vegetale                    NaN   \n",
       "2  Afghanistan  Aliments pour enfants  vegetale                    NaN   \n",
       "3  Afghanistan                 Ananas  vegetale                    NaN   \n",
       "4  Afghanistan                Bananes  vegetale                    NaN   \n",
       "\n",
       "   Autres Utilisations  Disponibilité alimentaire (Kcal/personne/jour)  \\\n",
       "0                  NaN                                             5.0   \n",
       "1                  NaN                                             1.0   \n",
       "2                  NaN                                             1.0   \n",
       "3                  NaN                                             0.0   \n",
       "4                  NaN                                             4.0   \n",
       "\n",
       "   Disponibilité alimentaire en quantité (kg/personne/an)  \\\n",
       "0                                               1.72        \n",
       "1                                               1.29        \n",
       "2                                               0.06        \n",
       "3                                               0.00        \n",
       "4                                               2.70        \n",
       "\n",
       "   Disponibilité de matière grasse en quantité (g/personne/jour)  \\\n",
       "0                                               0.20               \n",
       "1                                               0.01               \n",
       "2                                               0.01               \n",
       "3                                                NaN               \n",
       "4                                               0.02               \n",
       "\n",
       "   Disponibilité de protéines en quantité (g/personne/jour)  \\\n",
       "0                                               0.77          \n",
       "1                                               0.02          \n",
       "2                                               0.03          \n",
       "3                                                NaN          \n",
       "4                                               0.05          \n",
       "\n",
       "   Disponibilité intérieure  Exportations - Quantité  Importations - Quantité  \\\n",
       "0                      53.0                      NaN                      NaN   \n",
       "1                      41.0                      2.0                     40.0   \n",
       "2                       2.0                      NaN                      2.0   \n",
       "3                       0.0                      NaN                      0.0   \n",
       "4                      82.0                      NaN                     82.0   \n",
       "\n",
       "   Nourriture  Pertes  Production  Semences  Traitement  Variation de stock  \n",
       "0        53.0     NaN        53.0       NaN         NaN                 NaN  \n",
       "1        39.0     2.0         3.0       NaN         NaN                 NaN  \n",
       "2         2.0     NaN         NaN       NaN         NaN                 NaN  \n",
       "3         0.0     NaN         NaN       NaN         NaN                 NaN  \n",
       "4        82.0     NaN         NaN       NaN         NaN                 NaN  "
      ]
     },
     "execution_count": 119,
     "metadata": {},
     "output_type": "execute_result"
    }
   ],
   "source": [
    "dispo_alim.head()"
   ]
  },
  {
   "cell_type": "code",
   "execution_count": 120,
   "id": "47859a08",
   "metadata": {},
   "outputs": [
    {
     "data": {
      "text/html": [
       "<div>\n",
       "<style scoped>\n",
       "    .dataframe tbody tr th:only-of-type {\n",
       "        vertical-align: middle;\n",
       "    }\n",
       "\n",
       "    .dataframe tbody tr th {\n",
       "        vertical-align: top;\n",
       "    }\n",
       "\n",
       "    .dataframe thead th {\n",
       "        text-align: right;\n",
       "    }\n",
       "</style>\n",
       "<table border=\"1\" class=\"dataframe\">\n",
       "  <thead>\n",
       "    <tr style=\"text-align: right;\">\n",
       "      <th></th>\n",
       "      <th>Pays bénéficiaire</th>\n",
       "      <th>Année</th>\n",
       "      <th>Produit</th>\n",
       "      <th>Valeur</th>\n",
       "    </tr>\n",
       "  </thead>\n",
       "  <tbody>\n",
       "    <tr>\n",
       "      <th>0</th>\n",
       "      <td>Afghanistan</td>\n",
       "      <td>2013</td>\n",
       "      <td>Autres non-céréales</td>\n",
       "      <td>682</td>\n",
       "    </tr>\n",
       "    <tr>\n",
       "      <th>1</th>\n",
       "      <td>Afghanistan</td>\n",
       "      <td>2014</td>\n",
       "      <td>Autres non-céréales</td>\n",
       "      <td>335</td>\n",
       "    </tr>\n",
       "    <tr>\n",
       "      <th>2</th>\n",
       "      <td>Afghanistan</td>\n",
       "      <td>2013</td>\n",
       "      <td>Blé et Farin</td>\n",
       "      <td>39224</td>\n",
       "    </tr>\n",
       "    <tr>\n",
       "      <th>3</th>\n",
       "      <td>Afghanistan</td>\n",
       "      <td>2014</td>\n",
       "      <td>Blé et Farin</td>\n",
       "      <td>15160</td>\n",
       "    </tr>\n",
       "    <tr>\n",
       "      <th>4</th>\n",
       "      <td>Afghanistan</td>\n",
       "      <td>2013</td>\n",
       "      <td>Céréales</td>\n",
       "      <td>40504</td>\n",
       "    </tr>\n",
       "  </tbody>\n",
       "</table>\n",
       "</div>"
      ],
      "text/plain": [
       "  Pays bénéficiaire  Année              Produit  Valeur\n",
       "0       Afghanistan   2013  Autres non-céréales     682\n",
       "1       Afghanistan   2014  Autres non-céréales     335\n",
       "2       Afghanistan   2013         Blé et Farin   39224\n",
       "3       Afghanistan   2014         Blé et Farin   15160\n",
       "4       Afghanistan   2013             Céréales   40504"
      ]
     },
     "execution_count": 120,
     "metadata": {},
     "output_type": "execute_result"
    }
   ],
   "source": [
    "aide_alim.head()"
   ]
  },
  {
   "cell_type": "code",
   "execution_count": 121,
   "id": "3710e9cc",
   "metadata": {},
   "outputs": [
    {
     "data": {
      "text/html": [
       "<div>\n",
       "<style scoped>\n",
       "    .dataframe tbody tr th:only-of-type {\n",
       "        vertical-align: middle;\n",
       "    }\n",
       "\n",
       "    .dataframe tbody tr th {\n",
       "        vertical-align: top;\n",
       "    }\n",
       "\n",
       "    .dataframe thead th {\n",
       "        text-align: right;\n",
       "    }\n",
       "</style>\n",
       "<table border=\"1\" class=\"dataframe\">\n",
       "  <thead>\n",
       "    <tr style=\"text-align: right;\">\n",
       "      <th></th>\n",
       "      <th>Zone</th>\n",
       "      <th>Année</th>\n",
       "      <th>Valeur</th>\n",
       "    </tr>\n",
       "  </thead>\n",
       "  <tbody>\n",
       "    <tr>\n",
       "      <th>0</th>\n",
       "      <td>Afghanistan</td>\n",
       "      <td>2013</td>\n",
       "      <td>32269.589</td>\n",
       "    </tr>\n",
       "    <tr>\n",
       "      <th>1</th>\n",
       "      <td>Afghanistan</td>\n",
       "      <td>2014</td>\n",
       "      <td>33370.794</td>\n",
       "    </tr>\n",
       "    <tr>\n",
       "      <th>2</th>\n",
       "      <td>Afghanistan</td>\n",
       "      <td>2015</td>\n",
       "      <td>34413.603</td>\n",
       "    </tr>\n",
       "    <tr>\n",
       "      <th>3</th>\n",
       "      <td>Afghanistan</td>\n",
       "      <td>2016</td>\n",
       "      <td>35383.032</td>\n",
       "    </tr>\n",
       "    <tr>\n",
       "      <th>4</th>\n",
       "      <td>Afghanistan</td>\n",
       "      <td>2017</td>\n",
       "      <td>36296.113</td>\n",
       "    </tr>\n",
       "  </tbody>\n",
       "</table>\n",
       "</div>"
      ],
      "text/plain": [
       "          Zone  Année     Valeur\n",
       "0  Afghanistan   2013  32269.589\n",
       "1  Afghanistan   2014  33370.794\n",
       "2  Afghanistan   2015  34413.603\n",
       "3  Afghanistan   2016  35383.032\n",
       "4  Afghanistan   2017  36296.113"
      ]
     },
     "execution_count": 121,
     "metadata": {},
     "output_type": "execute_result"
    }
   ],
   "source": [
    "population.head()"
   ]
  },
  {
   "cell_type": "code",
   "execution_count": 122,
   "id": "86148235",
   "metadata": {},
   "outputs": [
    {
     "data": {
      "text/html": [
       "<div>\n",
       "<style scoped>\n",
       "    .dataframe tbody tr th:only-of-type {\n",
       "        vertical-align: middle;\n",
       "    }\n",
       "\n",
       "    .dataframe tbody tr th {\n",
       "        vertical-align: top;\n",
       "    }\n",
       "\n",
       "    .dataframe thead th {\n",
       "        text-align: right;\n",
       "    }\n",
       "</style>\n",
       "<table border=\"1\" class=\"dataframe\">\n",
       "  <thead>\n",
       "    <tr style=\"text-align: right;\">\n",
       "      <th></th>\n",
       "      <th>Zone</th>\n",
       "      <th>Année</th>\n",
       "      <th>Valeur</th>\n",
       "    </tr>\n",
       "  </thead>\n",
       "  <tbody>\n",
       "    <tr>\n",
       "      <th>0</th>\n",
       "      <td>Afghanistan</td>\n",
       "      <td>2012-2014</td>\n",
       "      <td>8.6</td>\n",
       "    </tr>\n",
       "    <tr>\n",
       "      <th>1</th>\n",
       "      <td>Afghanistan</td>\n",
       "      <td>2013-2015</td>\n",
       "      <td>8.8</td>\n",
       "    </tr>\n",
       "    <tr>\n",
       "      <th>2</th>\n",
       "      <td>Afghanistan</td>\n",
       "      <td>2014-2016</td>\n",
       "      <td>8.9</td>\n",
       "    </tr>\n",
       "    <tr>\n",
       "      <th>3</th>\n",
       "      <td>Afghanistan</td>\n",
       "      <td>2015-2017</td>\n",
       "      <td>9.7</td>\n",
       "    </tr>\n",
       "    <tr>\n",
       "      <th>4</th>\n",
       "      <td>Afghanistan</td>\n",
       "      <td>2016-2018</td>\n",
       "      <td>10.5</td>\n",
       "    </tr>\n",
       "  </tbody>\n",
       "</table>\n",
       "</div>"
      ],
      "text/plain": [
       "          Zone      Année Valeur\n",
       "0  Afghanistan  2012-2014    8.6\n",
       "1  Afghanistan  2013-2015    8.8\n",
       "2  Afghanistan  2014-2016    8.9\n",
       "3  Afghanistan  2015-2017    9.7\n",
       "4  Afghanistan  2016-2018   10.5"
      ]
     },
     "execution_count": 122,
     "metadata": {},
     "output_type": "execute_result"
    }
   ],
   "source": [
    "sous_nutri.head()"
   ]
  },
  {
   "cell_type": "markdown",
   "id": "7ea6b33b",
   "metadata": {},
   "source": [
    "#### Types de variables<a class=\"anchor\" id=\"1_2_2\"></a>"
   ]
  },
  {
   "cell_type": "code",
   "execution_count": 123,
   "id": "2322a3ec",
   "metadata": {},
   "outputs": [
    {
     "data": {
      "text/plain": [
       "Zone                                                              object\n",
       "Produit                                                           object\n",
       "Origine                                                           object\n",
       "Aliments pour animaux                                            float64\n",
       "Autres Utilisations                                              float64\n",
       "Disponibilité alimentaire (Kcal/personne/jour)                   float64\n",
       "Disponibilité alimentaire en quantité (kg/personne/an)           float64\n",
       "Disponibilité de matière grasse en quantité (g/personne/jour)    float64\n",
       "Disponibilité de protéines en quantité (g/personne/jour)         float64\n",
       "Disponibilité intérieure                                         float64\n",
       "Exportations - Quantité                                          float64\n",
       "Importations - Quantité                                          float64\n",
       "Nourriture                                                       float64\n",
       "Pertes                                                           float64\n",
       "Production                                                       float64\n",
       "Semences                                                         float64\n",
       "Traitement                                                       float64\n",
       "Variation de stock                                               float64\n",
       "dtype: object"
      ]
     },
     "execution_count": 123,
     "metadata": {},
     "output_type": "execute_result"
    }
   ],
   "source": [
    "# affichage du type de variables\n",
    "dispo_alim.dtypes"
   ]
  },
  {
   "cell_type": "code",
   "execution_count": 124,
   "id": "f49837e4",
   "metadata": {},
   "outputs": [
    {
     "data": {
      "text/plain": [
       "Pays bénéficiaire    object\n",
       "Année                 int64\n",
       "Produit              object\n",
       "Valeur                int64\n",
       "dtype: object"
      ]
     },
     "execution_count": 124,
     "metadata": {},
     "output_type": "execute_result"
    }
   ],
   "source": [
    "aide_alim.dtypes"
   ]
  },
  {
   "cell_type": "code",
   "execution_count": 125,
   "id": "22109312",
   "metadata": {},
   "outputs": [
    {
     "data": {
      "text/plain": [
       "Zone       object\n",
       "Année       int64\n",
       "Valeur    float64\n",
       "dtype: object"
      ]
     },
     "execution_count": 125,
     "metadata": {},
     "output_type": "execute_result"
    }
   ],
   "source": [
    "population.dtypes"
   ]
  },
  {
   "cell_type": "code",
   "execution_count": 126,
   "id": "73c5a1a2",
   "metadata": {},
   "outputs": [
    {
     "data": {
      "text/plain": [
       "Zone      object\n",
       "Année     object\n",
       "Valeur    object\n",
       "dtype: object"
      ]
     },
     "execution_count": 126,
     "metadata": {},
     "output_type": "execute_result"
    }
   ],
   "source": [
    "sous_nutri.dtypes"
   ]
  },
  {
   "cell_type": "markdown",
   "id": "84897fc4",
   "metadata": {},
   "source": [
    "#### Dimensions du data frame (nombre de lignes, nombre de colonnes)<a class=\"anchor\" id=\"1_2_3\"></a>"
   ]
  },
  {
   "cell_type": "code",
   "execution_count": 127,
   "id": "ddf78022",
   "metadata": {},
   "outputs": [
    {
     "data": {
      "text/plain": [
       "(15605, 18)"
      ]
     },
     "execution_count": 127,
     "metadata": {},
     "output_type": "execute_result"
    }
   ],
   "source": [
    "# Affichage des dimensions du data frame\n",
    "dispo_alim.shape"
   ]
  },
  {
   "cell_type": "code",
   "execution_count": 128,
   "id": "1adcb9e3",
   "metadata": {},
   "outputs": [
    {
     "data": {
      "text/plain": [
       "(1475, 4)"
      ]
     },
     "execution_count": 128,
     "metadata": {},
     "output_type": "execute_result"
    }
   ],
   "source": [
    "aide_alim.shape"
   ]
  },
  {
   "cell_type": "code",
   "execution_count": 129,
   "id": "297f0f8c",
   "metadata": {
    "scrolled": true
   },
   "outputs": [
    {
     "data": {
      "text/plain": [
       "(1416, 3)"
      ]
     },
     "execution_count": 129,
     "metadata": {},
     "output_type": "execute_result"
    }
   ],
   "source": [
    "population.shape"
   ]
  },
  {
   "cell_type": "code",
   "execution_count": 130,
   "id": "3312c8d6",
   "metadata": {},
   "outputs": [
    {
     "data": {
      "text/plain": [
       "(1218, 3)"
      ]
     },
     "execution_count": 130,
     "metadata": {},
     "output_type": "execute_result"
    }
   ],
   "source": [
    "sous_nutri.shape"
   ]
  },
  {
   "cell_type": "markdown",
   "id": "26dbbaef",
   "metadata": {},
   "source": [
    "***Autre méthode : .info()***"
   ]
  },
  {
   "cell_type": "code",
   "execution_count": 131,
   "id": "ae6ceb7a",
   "metadata": {},
   "outputs": [
    {
     "name": "stdout",
     "output_type": "stream",
     "text": [
      "<class 'pandas.core.frame.DataFrame'>\n",
      "RangeIndex: 15605 entries, 0 to 15604\n",
      "Data columns (total 18 columns):\n",
      " #   Column                                                         Non-Null Count  Dtype  \n",
      "---  ------                                                         --------------  -----  \n",
      " 0   Zone                                                           15605 non-null  object \n",
      " 1   Produit                                                        15605 non-null  object \n",
      " 2   Origine                                                        15605 non-null  object \n",
      " 3   Aliments pour animaux                                          2720 non-null   float64\n",
      " 4   Autres Utilisations                                            5496 non-null   float64\n",
      " 5   Disponibilité alimentaire (Kcal/personne/jour)                 14241 non-null  float64\n",
      " 6   Disponibilité alimentaire en quantité (kg/personne/an)         14015 non-null  float64\n",
      " 7   Disponibilité de matière grasse en quantité (g/personne/jour)  11794 non-null  float64\n",
      " 8   Disponibilité de protéines en quantité (g/personne/jour)       11561 non-null  float64\n",
      " 9   Disponibilité intérieure                                       15382 non-null  float64\n",
      " 10  Exportations - Quantité                                        12226 non-null  float64\n",
      " 11  Importations - Quantité                                        14852 non-null  float64\n",
      " 12  Nourriture                                                     14015 non-null  float64\n",
      " 13  Pertes                                                         4278 non-null   float64\n",
      " 14  Production                                                     9180 non-null   float64\n",
      " 15  Semences                                                       2091 non-null   float64\n",
      " 16  Traitement                                                     2292 non-null   float64\n",
      " 17  Variation de stock                                             6776 non-null   float64\n",
      "dtypes: float64(15), object(3)\n",
      "memory usage: 2.1+ MB\n"
     ]
    }
   ],
   "source": [
    "dispo_alim.info()"
   ]
  },
  {
   "cell_type": "markdown",
   "id": "d2723c98",
   "metadata": {},
   "source": [
    "#### Recherche des doublons dans le data frame<a class=\"anchor\" id=\"1_2_4\"></a>"
   ]
  },
  {
   "cell_type": "code",
   "execution_count": 132,
   "id": "51b05947",
   "metadata": {},
   "outputs": [
    {
     "data": {
      "text/plain": [
       "0"
      ]
     },
     "execution_count": 132,
     "metadata": {},
     "output_type": "execute_result"
    }
   ],
   "source": [
    "# Recherche des doublons dans le data frame\n",
    "dispo_alim.duplicated().sum()"
   ]
  },
  {
   "cell_type": "code",
   "execution_count": 133,
   "id": "f667f060",
   "metadata": {},
   "outputs": [
    {
     "data": {
      "text/plain": [
       "0"
      ]
     },
     "execution_count": 133,
     "metadata": {},
     "output_type": "execute_result"
    }
   ],
   "source": [
    "aide_alim.duplicated().sum()"
   ]
  },
  {
   "cell_type": "code",
   "execution_count": 134,
   "id": "b2a2eb21",
   "metadata": {},
   "outputs": [
    {
     "data": {
      "text/plain": [
       "0"
      ]
     },
     "execution_count": 134,
     "metadata": {},
     "output_type": "execute_result"
    }
   ],
   "source": [
    "population.duplicated().sum()"
   ]
  },
  {
   "cell_type": "code",
   "execution_count": 135,
   "id": "1cd63adc",
   "metadata": {},
   "outputs": [
    {
     "data": {
      "text/plain": [
       "0"
      ]
     },
     "execution_count": 135,
     "metadata": {},
     "output_type": "execute_result"
    }
   ],
   "source": [
    "sous_nutri.duplicated().sum()"
   ]
  },
  {
   "cell_type": "markdown",
   "id": "9d6e89ab",
   "metadata": {},
   "source": [
    "#### Recherche des valeurs manquantes<a class=\"anchor\" id=\"1_2_5\"></a>"
   ]
  },
  {
   "cell_type": "code",
   "execution_count": 136,
   "id": "265ac30c",
   "metadata": {},
   "outputs": [
    {
     "data": {
      "text/plain": [
       "Zone                                                             0.000000\n",
       "Produit                                                          0.000000\n",
       "Origine                                                          0.000000\n",
       "Aliments pour animaux                                            0.825697\n",
       "Autres Utilisations                                              0.647805\n",
       "Disponibilité alimentaire (Kcal/personne/jour)                   0.087408\n",
       "Disponibilité alimentaire en quantité (kg/personne/an)           0.101890\n",
       "Disponibilité de matière grasse en quantité (g/personne/jour)    0.244217\n",
       "Disponibilité de protéines en quantité (g/personne/jour)         0.259148\n",
       "Disponibilité intérieure                                         0.014290\n",
       "Exportations - Quantité                                          0.216533\n",
       "Importations - Quantité                                          0.048254\n",
       "Nourriture                                                       0.101890\n",
       "Pertes                                                           0.725857\n",
       "Production                                                       0.411727\n",
       "Semences                                                         0.866004\n",
       "Traitement                                                       0.853124\n",
       "Variation de stock                                               0.565780\n",
       "dtype: float64"
      ]
     },
     "execution_count": 136,
     "metadata": {},
     "output_type": "execute_result"
    }
   ],
   "source": [
    "# affichage du pourcentage de valeurs manquantes pour chaque colonne\n",
    "dispo_alim.isna().mean()"
   ]
  },
  {
   "cell_type": "code",
   "execution_count": 137,
   "id": "53ac6927",
   "metadata": {},
   "outputs": [
    {
     "data": {
      "text/plain": [
       "Pays bénéficiaire    0.0\n",
       "Année                0.0\n",
       "Produit              0.0\n",
       "Valeur               0.0\n",
       "dtype: float64"
      ]
     },
     "execution_count": 137,
     "metadata": {},
     "output_type": "execute_result"
    }
   ],
   "source": [
    "aide_alim.isna().mean()"
   ]
  },
  {
   "cell_type": "code",
   "execution_count": 138,
   "id": "14ef257d",
   "metadata": {},
   "outputs": [
    {
     "data": {
      "text/plain": [
       "Zone      0.0\n",
       "Année     0.0\n",
       "Valeur    0.0\n",
       "dtype: float64"
      ]
     },
     "execution_count": 138,
     "metadata": {},
     "output_type": "execute_result"
    }
   ],
   "source": [
    "population.isna().mean()"
   ]
  },
  {
   "cell_type": "code",
   "execution_count": 139,
   "id": "cbbf4916",
   "metadata": {},
   "outputs": [
    {
     "data": {
      "text/plain": [
       "Zone      0.000000\n",
       "Année     0.000000\n",
       "Valeur    0.487685\n",
       "dtype: float64"
      ]
     },
     "execution_count": 139,
     "metadata": {},
     "output_type": "execute_result"
    }
   ],
   "source": [
    "sous_nutri.isna().mean()"
   ]
  },
  {
   "cell_type": "markdown",
   "id": "09177df0",
   "metadata": {},
   "source": [
    "### 3. Préparation des données <a class=\"anchor\" id=\"1_3\"></a>"
   ]
  },
  {
   "cell_type": "markdown",
   "id": "56cc048a",
   "metadata": {},
   "source": [
    "#### Fichier \"Disponibilité alimentaire\"<a class=\"anchor\" id=\"1_3_1\"></a>"
   ]
  },
  {
   "cell_type": "markdown",
   "id": "0be0abf9",
   "metadata": {},
   "source": [
    "- **Remplacement des valeurs null par 0 pour les colonnes en 'milliers de tonnes'**"
   ]
  },
  {
   "cell_type": "code",
   "execution_count": 140,
   "id": "4190766c",
   "metadata": {},
   "outputs": [],
   "source": [
    "# Remplacement des valeurs null par 0\n",
    "dispo_alim.loc[dispo_alim['Disponibilité intérieure'].isna(),'Disponibilité intérieure']=0\n",
    "dispo_alim.loc[dispo_alim['Exportations - Quantité'].isna(),'Exportations - Quantité']=0\n",
    "dispo_alim.loc[dispo_alim['Importations - Quantité'].isna(),'Importations - Quantité']=0\n",
    "dispo_alim.loc[dispo_alim['Variation de stock'].isna(),'Variation de stock']=0\n",
    "dispo_alim.loc[dispo_alim['Production'].isna(),'Production']=0\n",
    "dispo_alim.loc[dispo_alim['Nourriture'].isna(),'Nourriture']=0\n",
    "dispo_alim.loc[dispo_alim['Semences'].isna(),'Semences']=0\n",
    "dispo_alim.loc[dispo_alim['Traitement'].isna(),'Traitement']=0\n",
    "dispo_alim.loc[dispo_alim['Aliments pour animaux'].isna(),'Aliments pour animaux']=0\n",
    "dispo_alim.loc[dispo_alim['Autres Utilisations'].isna(),'Autres Utilisations']=0\n",
    "dispo_alim.loc[dispo_alim['Pertes'].isna(),'Pertes']=0"
   ]
  },
  {
   "cell_type": "markdown",
   "id": "598a42a6",
   "metadata": {},
   "source": [
    "- **Renommer la colonne 'Disponibilité alimentaire (Kcal/personne/jour)' en 'Disponibilité alimentaire (cal/personne/jour)'**"
   ]
  },
  {
   "cell_type": "code",
   "execution_count": 141,
   "id": "1440938e",
   "metadata": {},
   "outputs": [
    {
     "data": {
      "text/html": [
       "<div>\n",
       "<style scoped>\n",
       "    .dataframe tbody tr th:only-of-type {\n",
       "        vertical-align: middle;\n",
       "    }\n",
       "\n",
       "    .dataframe tbody tr th {\n",
       "        vertical-align: top;\n",
       "    }\n",
       "\n",
       "    .dataframe thead th {\n",
       "        text-align: right;\n",
       "    }\n",
       "</style>\n",
       "<table border=\"1\" class=\"dataframe\">\n",
       "  <thead>\n",
       "    <tr style=\"text-align: right;\">\n",
       "      <th></th>\n",
       "      <th>Zone</th>\n",
       "      <th>Produit</th>\n",
       "      <th>Origine</th>\n",
       "      <th>Aliments pour animaux</th>\n",
       "      <th>Autres Utilisations</th>\n",
       "      <th>Disponibilité alimentaire (cal/personne/jour)</th>\n",
       "      <th>Disponibilité alimentaire en quantité (kg/personne/an)</th>\n",
       "      <th>Disponibilité de matière grasse en quantité (g/personne/jour)</th>\n",
       "      <th>Disponibilité de protéines en quantité (g/personne/jour)</th>\n",
       "      <th>Disponibilité intérieure</th>\n",
       "      <th>Exportations - Quantité</th>\n",
       "      <th>Importations - Quantité</th>\n",
       "      <th>Nourriture</th>\n",
       "      <th>Pertes</th>\n",
       "      <th>Production</th>\n",
       "      <th>Semences</th>\n",
       "      <th>Traitement</th>\n",
       "      <th>Variation de stock</th>\n",
       "    </tr>\n",
       "  </thead>\n",
       "  <tbody>\n",
       "    <tr>\n",
       "      <th>0</th>\n",
       "      <td>Afghanistan</td>\n",
       "      <td>Abats Comestible</td>\n",
       "      <td>animale</td>\n",
       "      <td>0.0</td>\n",
       "      <td>0.0</td>\n",
       "      <td>5.0</td>\n",
       "      <td>1.72</td>\n",
       "      <td>0.20</td>\n",
       "      <td>0.77</td>\n",
       "      <td>53.0</td>\n",
       "      <td>0.0</td>\n",
       "      <td>0.0</td>\n",
       "      <td>53.0</td>\n",
       "      <td>0.0</td>\n",
       "      <td>53.0</td>\n",
       "      <td>0.0</td>\n",
       "      <td>0.0</td>\n",
       "      <td>0.0</td>\n",
       "    </tr>\n",
       "    <tr>\n",
       "      <th>1</th>\n",
       "      <td>Afghanistan</td>\n",
       "      <td>Agrumes, Autres</td>\n",
       "      <td>vegetale</td>\n",
       "      <td>0.0</td>\n",
       "      <td>0.0</td>\n",
       "      <td>1.0</td>\n",
       "      <td>1.29</td>\n",
       "      <td>0.01</td>\n",
       "      <td>0.02</td>\n",
       "      <td>41.0</td>\n",
       "      <td>2.0</td>\n",
       "      <td>40.0</td>\n",
       "      <td>39.0</td>\n",
       "      <td>2.0</td>\n",
       "      <td>3.0</td>\n",
       "      <td>0.0</td>\n",
       "      <td>0.0</td>\n",
       "      <td>0.0</td>\n",
       "    </tr>\n",
       "  </tbody>\n",
       "</table>\n",
       "</div>"
      ],
      "text/plain": [
       "          Zone           Produit   Origine  Aliments pour animaux  \\\n",
       "0  Afghanistan  Abats Comestible   animale                    0.0   \n",
       "1  Afghanistan   Agrumes, Autres  vegetale                    0.0   \n",
       "\n",
       "   Autres Utilisations  Disponibilité alimentaire (cal/personne/jour)  \\\n",
       "0                  0.0                                            5.0   \n",
       "1                  0.0                                            1.0   \n",
       "\n",
       "   Disponibilité alimentaire en quantité (kg/personne/an)  \\\n",
       "0                                               1.72        \n",
       "1                                               1.29        \n",
       "\n",
       "   Disponibilité de matière grasse en quantité (g/personne/jour)  \\\n",
       "0                                               0.20               \n",
       "1                                               0.01               \n",
       "\n",
       "   Disponibilité de protéines en quantité (g/personne/jour)  \\\n",
       "0                                               0.77          \n",
       "1                                               0.02          \n",
       "\n",
       "   Disponibilité intérieure  Exportations - Quantité  Importations - Quantité  \\\n",
       "0                      53.0                      0.0                      0.0   \n",
       "1                      41.0                      2.0                     40.0   \n",
       "\n",
       "   Nourriture  Pertes  Production  Semences  Traitement  Variation de stock  \n",
       "0        53.0     0.0        53.0       0.0         0.0                 0.0  \n",
       "1        39.0     2.0         3.0       0.0         0.0                 0.0  "
      ]
     },
     "execution_count": 141,
     "metadata": {},
     "output_type": "execute_result"
    }
   ],
   "source": [
    "dispo_alim.rename(columns={'Disponibilité alimentaire (Kcal/personne/jour)': 'Disponibilité alimentaire (cal/personne/jour)'},inplace = True)\n",
    "dispo_alim.head(2)"
   ]
  },
  {
   "cell_type": "markdown",
   "id": "62f74b4d",
   "metadata": {},
   "source": [
    "#### Fichier \"aide alimentaire\"<a class=\"anchor\" id=\"1_3_2\"></a>"
   ]
  },
  {
   "cell_type": "markdown",
   "id": "9b99030a",
   "metadata": {},
   "source": [
    "- **Renommer colonne 'Valeur' en 'Aide_alimentaire (tonnes)'**"
   ]
  },
  {
   "cell_type": "code",
   "execution_count": 142,
   "id": "9409016a",
   "metadata": {},
   "outputs": [
    {
     "data": {
      "text/html": [
       "<div>\n",
       "<style scoped>\n",
       "    .dataframe tbody tr th:only-of-type {\n",
       "        vertical-align: middle;\n",
       "    }\n",
       "\n",
       "    .dataframe tbody tr th {\n",
       "        vertical-align: top;\n",
       "    }\n",
       "\n",
       "    .dataframe thead th {\n",
       "        text-align: right;\n",
       "    }\n",
       "</style>\n",
       "<table border=\"1\" class=\"dataframe\">\n",
       "  <thead>\n",
       "    <tr style=\"text-align: right;\">\n",
       "      <th></th>\n",
       "      <th>Pays bénéficiaire</th>\n",
       "      <th>Année</th>\n",
       "      <th>Produit</th>\n",
       "      <th>Aide_alimentaire_tonnes</th>\n",
       "    </tr>\n",
       "  </thead>\n",
       "  <tbody>\n",
       "    <tr>\n",
       "      <th>0</th>\n",
       "      <td>Afghanistan</td>\n",
       "      <td>2013</td>\n",
       "      <td>Autres non-céréales</td>\n",
       "      <td>682</td>\n",
       "    </tr>\n",
       "    <tr>\n",
       "      <th>1</th>\n",
       "      <td>Afghanistan</td>\n",
       "      <td>2014</td>\n",
       "      <td>Autres non-céréales</td>\n",
       "      <td>335</td>\n",
       "    </tr>\n",
       "    <tr>\n",
       "      <th>2</th>\n",
       "      <td>Afghanistan</td>\n",
       "      <td>2013</td>\n",
       "      <td>Blé et Farin</td>\n",
       "      <td>39224</td>\n",
       "    </tr>\n",
       "    <tr>\n",
       "      <th>3</th>\n",
       "      <td>Afghanistan</td>\n",
       "      <td>2014</td>\n",
       "      <td>Blé et Farin</td>\n",
       "      <td>15160</td>\n",
       "    </tr>\n",
       "    <tr>\n",
       "      <th>4</th>\n",
       "      <td>Afghanistan</td>\n",
       "      <td>2013</td>\n",
       "      <td>Céréales</td>\n",
       "      <td>40504</td>\n",
       "    </tr>\n",
       "  </tbody>\n",
       "</table>\n",
       "</div>"
      ],
      "text/plain": [
       "  Pays bénéficiaire  Année              Produit  Aide_alimentaire_tonnes\n",
       "0       Afghanistan   2013  Autres non-céréales                      682\n",
       "1       Afghanistan   2014  Autres non-céréales                      335\n",
       "2       Afghanistan   2013         Blé et Farin                    39224\n",
       "3       Afghanistan   2014         Blé et Farin                    15160\n",
       "4       Afghanistan   2013             Céréales                    40504"
      ]
     },
     "execution_count": 142,
     "metadata": {},
     "output_type": "execute_result"
    }
   ],
   "source": [
    "# Renommage de la colonne 'Valeur'\n",
    "aide_alim.rename(columns={'Valeur': 'Aide_alimentaire_tonnes'}, inplace = True)\n",
    "aide_alim.head()"
   ]
  },
  {
   "cell_type": "markdown",
   "id": "b5de5473",
   "metadata": {},
   "source": [
    "#### Fichier  \"Population\"<a class=\"anchor\" id=\"1_3_3\"></a>"
   ]
  },
  {
   "cell_type": "markdown",
   "id": "b9a4804a",
   "metadata": {},
   "source": [
    "- **Renommer colonne 'Valeur' en 'Population (milliers)'**"
   ]
  },
  {
   "cell_type": "code",
   "execution_count": 143,
   "id": "37b439db",
   "metadata": {},
   "outputs": [
    {
     "data": {
      "text/html": [
       "<div>\n",
       "<style scoped>\n",
       "    .dataframe tbody tr th:only-of-type {\n",
       "        vertical-align: middle;\n",
       "    }\n",
       "\n",
       "    .dataframe tbody tr th {\n",
       "        vertical-align: top;\n",
       "    }\n",
       "\n",
       "    .dataframe thead th {\n",
       "        text-align: right;\n",
       "    }\n",
       "</style>\n",
       "<table border=\"1\" class=\"dataframe\">\n",
       "  <thead>\n",
       "    <tr style=\"text-align: right;\">\n",
       "      <th></th>\n",
       "      <th>Zone</th>\n",
       "      <th>Année</th>\n",
       "      <th>Population_milliers</th>\n",
       "    </tr>\n",
       "  </thead>\n",
       "  <tbody>\n",
       "    <tr>\n",
       "      <th>0</th>\n",
       "      <td>Afghanistan</td>\n",
       "      <td>2013</td>\n",
       "      <td>32269.589</td>\n",
       "    </tr>\n",
       "    <tr>\n",
       "      <th>1</th>\n",
       "      <td>Afghanistan</td>\n",
       "      <td>2014</td>\n",
       "      <td>33370.794</td>\n",
       "    </tr>\n",
       "    <tr>\n",
       "      <th>2</th>\n",
       "      <td>Afghanistan</td>\n",
       "      <td>2015</td>\n",
       "      <td>34413.603</td>\n",
       "    </tr>\n",
       "    <tr>\n",
       "      <th>3</th>\n",
       "      <td>Afghanistan</td>\n",
       "      <td>2016</td>\n",
       "      <td>35383.032</td>\n",
       "    </tr>\n",
       "    <tr>\n",
       "      <th>4</th>\n",
       "      <td>Afghanistan</td>\n",
       "      <td>2017</td>\n",
       "      <td>36296.113</td>\n",
       "    </tr>\n",
       "  </tbody>\n",
       "</table>\n",
       "</div>"
      ],
      "text/plain": [
       "          Zone  Année  Population_milliers\n",
       "0  Afghanistan   2013            32269.589\n",
       "1  Afghanistan   2014            33370.794\n",
       "2  Afghanistan   2015            34413.603\n",
       "3  Afghanistan   2016            35383.032\n",
       "4  Afghanistan   2017            36296.113"
      ]
     },
     "execution_count": 143,
     "metadata": {},
     "output_type": "execute_result"
    }
   ],
   "source": [
    "# renommage de la colonne Valeur\n",
    "population.rename(columns={'Valeur': 'Population_milliers'},inplace = True)\n",
    "population.head()"
   ]
  },
  {
   "cell_type": "markdown",
   "id": "698183eb",
   "metadata": {},
   "source": [
    "#### Fichier \"Sous-nutrition\"<a class=\"anchor\" id=\"1_3_4\"></a>"
   ]
  },
  {
   "cell_type": "markdown",
   "id": "e3cdbefb",
   "metadata": {},
   "source": [
    "- **Modification du type de variables pour \"Valeur\"**"
   ]
  },
  {
   "cell_type": "markdown",
   "id": "189b0f5d",
   "metadata": {},
   "source": [
    "- La colonne 'Valeur' est considérée comme 'string' et devrait être en 'float' : cette colonne est à convertir en numérique.\n",
    "- La colonne contient des valeurs '<0,1' qui sont des strings : ces valeurs empêchent la conversion en float. \n",
    "- Les valeurs '<0.1' seront stockées dans une nouvelle colonne pour garder une trace et remplacer dans la colonne 'Valeur' par une valeur < 0.1."
   ]
  },
  {
   "cell_type": "code",
   "execution_count": 144,
   "id": "fb294e02",
   "metadata": {
    "scrolled": true
   },
   "outputs": [
    {
     "data": {
      "text/plain": [
       "Zone           object\n",
       "Année          object\n",
       "Valeur        float64\n",
       "Valeur_old     object\n",
       "dtype: object"
      ]
     },
     "execution_count": 144,
     "metadata": {},
     "output_type": "execute_result"
    }
   ],
   "source": [
    "# la colonne contient une valeur string '<0.1' ce qui empêche la conversion en float \n",
    "sous_nutri['Valeur_old']=sous_nutri['Valeur']\n",
    "sous_nutri.loc[sous_nutri['Valeur']=='<0.1','Valeur']='0.001'\n",
    "# Conversion de la colonne en numérique\n",
    "sous_nutri['Valeur'] = pd.to_numeric(sous_nutri['Valeur'])\n",
    "# Affichage du type de variables \n",
    "sous_nutri.dtypes"
   ]
  },
  {
   "cell_type": "markdown",
   "id": "4b796059",
   "metadata": {},
   "source": [
    "- **Renommer la colonne 'Valeur' en 'Population_sous_alimentee_millions' et de la colonne 'Année' en 'Plage Année'**"
   ]
  },
  {
   "cell_type": "code",
   "execution_count": 145,
   "id": "8e81efd9",
   "metadata": {},
   "outputs": [
    {
     "data": {
      "text/html": [
       "<div>\n",
       "<style scoped>\n",
       "    .dataframe tbody tr th:only-of-type {\n",
       "        vertical-align: middle;\n",
       "    }\n",
       "\n",
       "    .dataframe tbody tr th {\n",
       "        vertical-align: top;\n",
       "    }\n",
       "\n",
       "    .dataframe thead th {\n",
       "        text-align: right;\n",
       "    }\n",
       "</style>\n",
       "<table border=\"1\" class=\"dataframe\">\n",
       "  <thead>\n",
       "    <tr style=\"text-align: right;\">\n",
       "      <th></th>\n",
       "      <th>Zone</th>\n",
       "      <th>Plage Année</th>\n",
       "      <th>Population_sous_alimentee_millions</th>\n",
       "      <th>Valeur_old</th>\n",
       "    </tr>\n",
       "  </thead>\n",
       "  <tbody>\n",
       "    <tr>\n",
       "      <th>0</th>\n",
       "      <td>Afghanistan</td>\n",
       "      <td>2012-2014</td>\n",
       "      <td>8.6</td>\n",
       "      <td>8.6</td>\n",
       "    </tr>\n",
       "    <tr>\n",
       "      <th>1</th>\n",
       "      <td>Afghanistan</td>\n",
       "      <td>2013-2015</td>\n",
       "      <td>8.8</td>\n",
       "      <td>8.8</td>\n",
       "    </tr>\n",
       "    <tr>\n",
       "      <th>2</th>\n",
       "      <td>Afghanistan</td>\n",
       "      <td>2014-2016</td>\n",
       "      <td>8.9</td>\n",
       "      <td>8.9</td>\n",
       "    </tr>\n",
       "    <tr>\n",
       "      <th>3</th>\n",
       "      <td>Afghanistan</td>\n",
       "      <td>2015-2017</td>\n",
       "      <td>9.7</td>\n",
       "      <td>9.7</td>\n",
       "    </tr>\n",
       "    <tr>\n",
       "      <th>4</th>\n",
       "      <td>Afghanistan</td>\n",
       "      <td>2016-2018</td>\n",
       "      <td>10.5</td>\n",
       "      <td>10.5</td>\n",
       "    </tr>\n",
       "  </tbody>\n",
       "</table>\n",
       "</div>"
      ],
      "text/plain": [
       "          Zone Plage Année  Population_sous_alimentee_millions Valeur_old\n",
       "0  Afghanistan   2012-2014                                 8.6        8.6\n",
       "1  Afghanistan   2013-2015                                 8.8        8.8\n",
       "2  Afghanistan   2014-2016                                 8.9        8.9\n",
       "3  Afghanistan   2015-2017                                 9.7        9.7\n",
       "4  Afghanistan   2016-2018                                10.5       10.5"
      ]
     },
     "execution_count": 145,
     "metadata": {},
     "output_type": "execute_result"
    }
   ],
   "source": [
    "#Renommage de la colonne 'Valeur' \n",
    "sous_nutri.rename(columns={'Valeur': 'Population_sous_alimentee_millions'}, inplace = True)\n",
    "#Renommage de la colonne 'Année'\n",
    "sous_nutri.rename(columns={'Année': 'Plage Année'}, inplace = True)\n",
    "sous_nutri.head()"
   ]
  },
  {
   "cell_type": "markdown",
   "id": "1c38fef5",
   "metadata": {},
   "source": [
    "- **Ajout d'une colonne 'Année moy'**"
   ]
  },
  {
   "cell_type": "code",
   "execution_count": 146,
   "id": "bd18fc14",
   "metadata": {
    "scrolled": true
   },
   "outputs": [
    {
     "data": {
      "text/plain": [
       "Plage Année\n",
       "2012-2014    203\n",
       "2013-2015    203\n",
       "2014-2016    203\n",
       "2015-2017    203\n",
       "2016-2018    203\n",
       "2017-2019    203\n",
       "Name: Plage Année, dtype: int64"
      ]
     },
     "execution_count": 146,
     "metadata": {},
     "output_type": "execute_result"
    }
   ],
   "source": [
    "#Déterminer le nombre de plage d'année\n",
    "sous_nutri.groupby(['Plage Année'])['Plage Année'].count()"
   ]
  },
  {
   "cell_type": "code",
   "execution_count": 147,
   "id": "e6699b3b",
   "metadata": {},
   "outputs": [
    {
     "data": {
      "text/plain": [
       "Zone                                   object\n",
       "Plage Année                            object\n",
       "Population_sous_alimentee_millions    float64\n",
       "Valeur_old                             object\n",
       "Année moy                               int64\n",
       "dtype: object"
      ]
     },
     "execution_count": 147,
     "metadata": {},
     "output_type": "execute_result"
    }
   ],
   "source": [
    "#Créer une colonne Année qui sera la moyenne de la plage d'année\n",
    "sous_nutri['Année moy']=sous_nutri['Plage Année']\n",
    "sous_nutri.loc[sous_nutri['Année moy']=='2012-2014','Année moy' ]=2013\n",
    "sous_nutri.loc[sous_nutri['Année moy']=='2013-2015','Année moy']=2014\n",
    "sous_nutri.loc[sous_nutri['Année moy']=='2014-2016','Année moy']=2015\n",
    "sous_nutri.loc[sous_nutri['Année moy']=='2015-2017','Année moy']=2016\n",
    "sous_nutri.loc[sous_nutri['Année moy']=='2016-2018','Année moy']=2017\n",
    "sous_nutri.loc[sous_nutri['Année moy']=='2017-2019','Année moy']=2018\n",
    "#changer le type de la colonne 'Année moy' avec la méthode pd.to_numeric\n",
    "sous_nutri['Année moy']=pd.to_numeric(sous_nutri['Année moy'])\n",
    "sous_nutri.dtypes"
   ]
  },
  {
   "cell_type": "markdown",
   "id": "ec3c4377",
   "metadata": {},
   "source": [
    "#### Création de dictionnaire (population mondiale et population en sous-nutrition) et d'un data frame \"Proportion de personnes alimentées\"<a class=\"anchor\" id=\"1_3_5\"></a>"
   ]
  },
  {
   "cell_type": "markdown",
   "id": "8a667743",
   "metadata": {},
   "source": [
    "- **Population mondiale par année en millions : création d'un dictionnaire \"pop_mondiale\"**"
   ]
  },
  {
   "cell_type": "code",
   "execution_count": 148,
   "id": "7b5eb9d0",
   "metadata": {
    "scrolled": false
   },
   "outputs": [
    {
     "data": {
      "text/plain": [
       "{2013: 7211.0,\n",
       " 2014: 7296.0,\n",
       " 2015: 7380.0,\n",
       " 2016: 7464.0,\n",
       " 2017: 7548.0,\n",
       " 2018: 7631.0}"
      ]
     },
     "execution_count": 148,
     "metadata": {},
     "output_type": "execute_result"
    }
   ],
   "source": [
    "pop_mondiale=round(population.groupby(['Année'])['Population_milliers'].sum()/1000)\n",
    "dict(pop_mondiale)"
   ]
  },
  {
   "cell_type": "markdown",
   "id": "ea57937e",
   "metadata": {},
   "source": [
    "- **Population sous alimentée par année en millions : création d'un dictionnaire \"pop_sous_nutri\"**"
   ]
  },
  {
   "cell_type": "code",
   "execution_count": 149,
   "id": "27678c92",
   "metadata": {},
   "outputs": [
    {
     "data": {
      "text/plain": [
       "{2013: 528.0, 2014: 524.0, 2015: 525.0, 2016: 529.0, 2017: 536.0, 2018: 544.0}"
      ]
     },
     "execution_count": 149,
     "metadata": {},
     "output_type": "execute_result"
    }
   ],
   "source": [
    "#Création dictionnaire de données avec la population mondiale sous alimentée par année\n",
    "pop_sous_nutri=round(sous_nutri.groupby(['Année moy'])['Population_sous_alimentee_millions'].sum())\n",
    "dict(pop_sous_nutri)"
   ]
  },
  {
   "cell_type": "markdown",
   "id": "389500d0",
   "metadata": {},
   "source": [
    "- **Proportion de personnes alimentées : création d'un data frame \"dfpop\"**"
   ]
  },
  {
   "cell_type": "code",
   "execution_count": 150,
   "id": "ebcc01ab",
   "metadata": {
    "scrolled": true
   },
   "outputs": [
    {
     "data": {
      "text/html": [
       "<div>\n",
       "<style scoped>\n",
       "    .dataframe tbody tr th:only-of-type {\n",
       "        vertical-align: middle;\n",
       "    }\n",
       "\n",
       "    .dataframe tbody tr th {\n",
       "        vertical-align: top;\n",
       "    }\n",
       "\n",
       "    .dataframe thead th {\n",
       "        text-align: right;\n",
       "    }\n",
       "</style>\n",
       "<table border=\"1\" class=\"dataframe\">\n",
       "  <thead>\n",
       "    <tr style=\"text-align: right;\">\n",
       "      <th></th>\n",
       "      <th>Zone</th>\n",
       "      <th>Année</th>\n",
       "      <th>Population_millions</th>\n",
       "      <th>Population_sous_alimentee_millions</th>\n",
       "      <th>Population sous alimentée (%)</th>\n",
       "    </tr>\n",
       "  </thead>\n",
       "  <tbody>\n",
       "    <tr>\n",
       "      <th>0</th>\n",
       "      <td>Afghanistan</td>\n",
       "      <td>2013</td>\n",
       "      <td>32.27</td>\n",
       "      <td>8.6</td>\n",
       "      <td>26.65</td>\n",
       "    </tr>\n",
       "    <tr>\n",
       "      <th>1</th>\n",
       "      <td>Afghanistan</td>\n",
       "      <td>2014</td>\n",
       "      <td>33.37</td>\n",
       "      <td>8.8</td>\n",
       "      <td>26.37</td>\n",
       "    </tr>\n",
       "    <tr>\n",
       "      <th>2</th>\n",
       "      <td>Afghanistan</td>\n",
       "      <td>2015</td>\n",
       "      <td>34.41</td>\n",
       "      <td>8.9</td>\n",
       "      <td>25.86</td>\n",
       "    </tr>\n",
       "    <tr>\n",
       "      <th>3</th>\n",
       "      <td>Afghanistan</td>\n",
       "      <td>2016</td>\n",
       "      <td>35.38</td>\n",
       "      <td>9.7</td>\n",
       "      <td>27.42</td>\n",
       "    </tr>\n",
       "    <tr>\n",
       "      <th>4</th>\n",
       "      <td>Afghanistan</td>\n",
       "      <td>2017</td>\n",
       "      <td>36.30</td>\n",
       "      <td>10.5</td>\n",
       "      <td>28.93</td>\n",
       "    </tr>\n",
       "  </tbody>\n",
       "</table>\n",
       "</div>"
      ],
      "text/plain": [
       "          Zone  Année  Population_millions  \\\n",
       "0  Afghanistan   2013                32.27   \n",
       "1  Afghanistan   2014                33.37   \n",
       "2  Afghanistan   2015                34.41   \n",
       "3  Afghanistan   2016                35.38   \n",
       "4  Afghanistan   2017                36.30   \n",
       "\n",
       "   Population_sous_alimentee_millions  Population sous alimentée (%)  \n",
       "0                                 8.6                          26.65  \n",
       "1                                 8.8                          26.37  \n",
       "2                                 8.9                          25.86  \n",
       "3                                 9.7                          27.42  \n",
       "4                                10.5                          28.93  "
      ]
     },
     "execution_count": 150,
     "metadata": {},
     "output_type": "execute_result"
    }
   ],
   "source": [
    "dfpop=pd.merge(sous_nutri,population,left_on=['Zone','Année moy'],right_on=['Zone','Année'],how='outer')\n",
    "dfpop['Population_millions']=round(dfpop['Population_milliers']/(1000),2)\n",
    "dfpop['Population sous alimentée (%)']=round(dfpop['Population_sous_alimentee_millions']/dfpop['Population_millions']*(100),2)\n",
    "dfpop=dfpop[['Zone','Année','Population_millions','Population_sous_alimentee_millions','Population sous alimentée (%)']]\n",
    "dfpop.head()"
   ]
  },
  {
   "cell_type": "markdown",
   "id": "c5971342",
   "metadata": {},
   "source": [
    "## *Partie 2 - Analyse des données : réponses aux questions*<a class=\"anchor\" id=\"partie2\"></a>\n",
    "\n",
    "Cette partie a pour objectif de présenter les réponses aux analyses demandées, voir liste ci-dessous :\n",
    "\n",
    "**Demandes de Julien, Marc et Mélanie :**\n",
    "* [Question 1 - Lien logique sur les utilisations de la disponibilité intérieure](#question1)\n",
    "* [Question 2 - Utilisation des céréales](#question2)\n",
    "* [Question 3 - Manioc en Thaïlande](#question3)\n",
    "* [Question 4 - Proportion des personnes en sous-nutrition en 2017](#question4)\n",
    "* [Question 5 - Nombre théorique de personnes pouvant être nourries à partir de la disponibilité alimentaire mondiale](#question5)\n",
    "* [Question 6 - Nombre théorique de personnes pouvant être nourries à partir de la disponibilité alimentaire des produits végétaux](#question6)\n",
    "* [Question 7 - Utilisation de la disponibilité intérieure](#question7)\n",
    "* [Question 8 - Pays pour lesquels la proportion de personnes sous-alimentées est la plus forte en 2017](#question8)\n",
    "* [Question 9 - Pays qui ont le plus bénéficié d’aide depuis 2013](#question9)\n",
    "* [Question 10 - Pays ayant le plus/le moins de disponibilité/habitant](#question10)\n"
   ]
  },
  {
   "cell_type": "markdown",
   "id": "c16089a8",
   "metadata": {},
   "source": [
    "###  Question 1 - Lien logique entre les variables sur les utilisations de la disponibilité intérieure<a class=\"anchor\" id=\"question1\"></a>\n",
    "\n",
    "Point relevé par Julien :\n",
    "\n",
    ">Il y a un lien logique entre l’ensemble des 10 variables exprimées en milliers de tonnes sur les utilisations de la disponibilité intérieure, qui peut s’exprimer avec une équation du type :\n",
    "A1 + A2 + … = disponibilité intérieure = B1 + B2 + …\n",
    "\n",
    "#### 1.1 - Lien entre Disponibilité intérieure, Production, Importations, Exportations et Variations de stocks\n",
    "\n",
    "*Informations provenant du site de la FAO - [lien vers source](https://www.fao.org/faostat/fr/#data/FBS/metadata) :*\n",
    "\n",
    ">The **total quantity of foodstuffs produced** in a country added to the **total quantity imported** and adjusted to **any change in stocks** that may have occurred since the beginning of the reference period gives the supply available during that period.\n",
    "\n",
    "***Relation n°1 :***\n",
    "> Disponibilité intérieure = Production + Importations - Exportations + Variations de stock"
   ]
  },
  {
   "cell_type": "code",
   "execution_count": 151,
   "id": "3828ee68",
   "metadata": {},
   "outputs": [
    {
     "name": "stdout",
     "output_type": "stream",
     "text": [
      "Résultat 1.1 - Lien entre Disponibilité intérieure, Production, Importations, Exportations et Variations de stocks\n",
      "------------------------------------------------------------------------------------------------------------------\n",
      "\n",
      "Relation n°1 : Disponibilité intérieure = Production + Importations - Exportations + Variations de stock\n"
     ]
    },
    {
     "data": {
      "text/html": [
       "<div>\n",
       "<style scoped>\n",
       "    .dataframe tbody tr th:only-of-type {\n",
       "        vertical-align: middle;\n",
       "    }\n",
       "\n",
       "    .dataframe tbody tr th {\n",
       "        vertical-align: top;\n",
       "    }\n",
       "\n",
       "    .dataframe thead th {\n",
       "        text-align: right;\n",
       "    }\n",
       "</style>\n",
       "<table border=\"1\" class=\"dataframe\">\n",
       "  <thead>\n",
       "    <tr style=\"text-align: right;\">\n",
       "      <th></th>\n",
       "      <th>Disponibilité intérieure</th>\n",
       "      <th>prod_import_export</th>\n",
       "    </tr>\n",
       "  </thead>\n",
       "  <tbody>\n",
       "    <tr>\n",
       "      <th>0</th>\n",
       "      <td>53.0</td>\n",
       "      <td>53.0</td>\n",
       "    </tr>\n",
       "    <tr>\n",
       "      <th>1</th>\n",
       "      <td>41.0</td>\n",
       "      <td>41.0</td>\n",
       "    </tr>\n",
       "    <tr>\n",
       "      <th>2</th>\n",
       "      <td>2.0</td>\n",
       "      <td>2.0</td>\n",
       "    </tr>\n",
       "    <tr>\n",
       "      <th>3</th>\n",
       "      <td>0.0</td>\n",
       "      <td>0.0</td>\n",
       "    </tr>\n",
       "    <tr>\n",
       "      <th>4</th>\n",
       "      <td>82.0</td>\n",
       "      <td>82.0</td>\n",
       "    </tr>\n",
       "  </tbody>\n",
       "</table>\n",
       "</div>"
      ],
      "text/plain": [
       "   Disponibilité intérieure  prod_import_export\n",
       "0                      53.0                53.0\n",
       "1                      41.0                41.0\n",
       "2                       2.0                 2.0\n",
       "3                       0.0                 0.0\n",
       "4                      82.0                82.0"
      ]
     },
     "execution_count": 151,
     "metadata": {},
     "output_type": "execute_result"
    }
   ],
   "source": [
    "# Calcul de la disponibilité intérieure à partir des données de 'Production', 'Importations', 'Exportations' et 'Variations de stocks'\n",
    "dispo_alim['prod_import_export']=dispo_alim['Production']+dispo_alim['Importations - Quantité']-dispo_alim['Exportations - Quantité']+dispo_alim['Variation de stock']\n",
    "\n",
    "# Affichage du résultat\n",
    "print('Résultat 1.1 - Lien entre Disponibilité intérieure, Production, Importations, Exportations et Variations de stocks')\n",
    "print('------------------------------------------------------------------------------------------------------------------')\n",
    "print('')\n",
    "print('Relation n°1 : Disponibilité intérieure = Production + Importations - Exportations + Variations de stock')\n",
    "dispo_alim[['Disponibilité intérieure','prod_import_export']].head()"
   ]
  },
  {
   "cell_type": "markdown",
   "id": "487cc572",
   "metadata": {},
   "source": [
    "#### 1.2 - Lien entre Disponibilité intérieure et les colonnes d'utilisations de la nourriture\n",
    "\n",
    "Les différentes utilisations des ressources alimentaires sont les suivantes : \n",
    "* Nourriture : alimentation humaine\n",
    "* Semences : semences agricoles\n",
    "* Traitement : transformation des denrées alimentaires\n",
    "* Aliments pour animaux\n",
    "* Autres utilisations\n",
    "* Pertes\n",
    "\n",
    "**Relation n°2 :** \n",
    "\n",
    ">Disponibilité intérieure = Nourriture + Semences + Traitement + Aliments pour animaux + Autres utilisations - Pertes"
   ]
  },
  {
   "cell_type": "code",
   "execution_count": 152,
   "id": "1b0c499e",
   "metadata": {
    "scrolled": true
   },
   "outputs": [
    {
     "name": "stdout",
     "output_type": "stream",
     "text": [
      "Résultat 1.2 - Lien entre Disponibilité intérieure et les colonnes d'utilisations de la nourriture\n",
      "--------------------------------------------------------------------------------------------------\n",
      "\n",
      "Relation n°2 : Disponibilité intérieure = Nourriture + Semences + Traitement + Aliments pour animaux + Autres utilisations - Pertes\n"
     ]
    },
    {
     "data": {
      "text/html": [
       "<div>\n",
       "<style scoped>\n",
       "    .dataframe tbody tr th:only-of-type {\n",
       "        vertical-align: middle;\n",
       "    }\n",
       "\n",
       "    .dataframe tbody tr th {\n",
       "        vertical-align: top;\n",
       "    }\n",
       "\n",
       "    .dataframe thead th {\n",
       "        text-align: right;\n",
       "    }\n",
       "</style>\n",
       "<table border=\"1\" class=\"dataframe\">\n",
       "  <thead>\n",
       "    <tr style=\"text-align: right;\">\n",
       "      <th></th>\n",
       "      <th>Disponibilité intérieure</th>\n",
       "      <th>utilisation</th>\n",
       "    </tr>\n",
       "  </thead>\n",
       "  <tbody>\n",
       "    <tr>\n",
       "      <th>0</th>\n",
       "      <td>53.0</td>\n",
       "      <td>53.0</td>\n",
       "    </tr>\n",
       "    <tr>\n",
       "      <th>1</th>\n",
       "      <td>41.0</td>\n",
       "      <td>37.0</td>\n",
       "    </tr>\n",
       "    <tr>\n",
       "      <th>2</th>\n",
       "      <td>2.0</td>\n",
       "      <td>2.0</td>\n",
       "    </tr>\n",
       "    <tr>\n",
       "      <th>3</th>\n",
       "      <td>0.0</td>\n",
       "      <td>0.0</td>\n",
       "    </tr>\n",
       "    <tr>\n",
       "      <th>4</th>\n",
       "      <td>82.0</td>\n",
       "      <td>82.0</td>\n",
       "    </tr>\n",
       "  </tbody>\n",
       "</table>\n",
       "</div>"
      ],
      "text/plain": [
       "   Disponibilité intérieure  utilisation\n",
       "0                      53.0         53.0\n",
       "1                      41.0         37.0\n",
       "2                       2.0          2.0\n",
       "3                       0.0          0.0\n",
       "4                      82.0         82.0"
      ]
     },
     "execution_count": 152,
     "metadata": {},
     "output_type": "execute_result"
    }
   ],
   "source": [
    "# Calcul de la disponibilité intérieure à partir des données d'utilisations \n",
    "dispo_alim['utilisation']=dispo_alim['Nourriture']+dispo_alim['Semences']+dispo_alim['Traitement']+dispo_alim['Aliments pour animaux']+dispo_alim['Autres Utilisations']-dispo_alim['Pertes']\n",
    "print(\"Résultat 1.2 - Lien entre Disponibilité intérieure et les colonnes d'utilisations de la nourriture\")\n",
    "print('--------------------------------------------------------------------------------------------------')\n",
    "print('')\n",
    "print('Relation n°2 : Disponibilité intérieure = Nourriture + Semences + Traitement + Aliments pour animaux + Autres utilisations - Pertes')\n",
    "dispo_alim[['Disponibilité intérieure','utilisation']].head()"
   ]
  },
  {
   "cell_type": "code",
   "execution_count": 153,
   "id": "4a044e5e",
   "metadata": {},
   "outputs": [
    {
     "data": {
      "text/plain": [
       "0        53.0\n",
       "1        41.0\n",
       "2         2.0\n",
       "3         0.0\n",
       "4        82.0\n",
       "         ... \n",
       "15600     2.0\n",
       "15601     2.0\n",
       "15602     0.0\n",
       "15603     0.0\n",
       "15604     0.0\n",
       "Name: prod_import_export, Length: 15605, dtype: float64"
      ]
     },
     "execution_count": 153,
     "metadata": {},
     "output_type": "execute_result"
    }
   ],
   "source": [
    "#Suppression des colonnes ajoutées pour la démonstration\n",
    "dispo_alim.pop('utilisation')\n",
    "dispo_alim.pop('prod_import_export')"
   ]
  },
  {
   "cell_type": "markdown",
   "id": "017d84f3",
   "metadata": {},
   "source": [
    "### Question 2 - Utilisation des céréales <a class=\"anchor\" id=\"question2\"></a>\n",
    "\n",
    "Julien avait noté des chiffres intéressants sur l’utilisation des céréales, notamment la répartition entre l’alimentation humaine (colonne Nourriture) et l’alimentation pour animaux. \n",
    "\n",
    "La liste des céréales peut être trouvée dans l’onglet *Bilans alimentaires* du site internet de la [FAO](https://www.fao.org/faostat/fr/#data/FBSH) et dans le document [Bilans alimentaires - Manuel](https://www.fao.org/3/X9892F/x9892f03.htm#TopOfPage):\n",
    "- Blé, Riz, Orge, Maïs, Sègle, Avoine, Millet, Sorgho, Céréales Autres\n"
   ]
  },
  {
   "cell_type": "code",
   "execution_count": 154,
   "id": "7bfe70de",
   "metadata": {},
   "outputs": [
    {
     "name": "stdout",
     "output_type": "stream",
     "text": [
      "Résultat 2 - Utilisation des céréales : répartition alimentation animaux / alimentation humaine\n",
      "------------------------------------------------------------------------------------------------\n",
      "Au global, 42.8 % des céreales sont destinés à l'alimentation humaine et 36.2 % à l'alimentation animale.\n"
     ]
    },
    {
     "data": {
      "image/png": "[encoded data removed]",
      "text/plain": [
       "<Figure size 1296x720 with 1 Axes>"
      ]
     },
     "metadata": {
      "needs_background": "light"
     },
     "output_type": "display_data"
    }
   ],
   "source": [
    "#Création de la liste 'cereales' contenant les céréales trouvées dans l'onglet 'Bilans alimentaires'\n",
    "cereales=['Blé','Orge', 'Maïs', 'Sègle','Avoine', 'Millet','Sorgho', 'Céréales, Autres', 'Riz (Eq Blanchi)']\n",
    "\n",
    "#Filtrage sur les produits contenus dans la liste 'cereales'\n",
    "util_cereales=dispo_alim.loc[dispo_alim['Produit'].isin(cereales)]\n",
    "\n",
    "#Proportion de la disponibilité intérieure utilisée pour l'alimentaion humaine et pour l'alimentation animale\n",
    "util_cereales=util_cereales[['Disponibilité intérieure','Nourriture','Aliments pour animaux','Pertes','Semences','Traitement','Autres Utilisations']].sum()\n",
    "util_cereales['Alimentation humaine']=round(util_cereales['Nourriture']/util_cereales['Disponibilité intérieure']*(100),1)\n",
    "util_cereales['Alimentation animale']=round(util_cereales['Aliments pour animaux']/util_cereales['Disponibilité intérieure']*(100),1)\n",
    "util_cereales['Autres utilisations, semences et traitement']=round((util_cereales['Semences']+util_cereales['Traitement']+util_cereales['Autres Utilisations'])/util_cereales['Disponibilité intérieure']*(100),1)\n",
    "util_cereales['Pertes']=round(util_cereales['Pertes']/util_cereales['Disponibilité intérieure']*(100),1)\n",
    "\n",
    "#Affichage des résultats\n",
    "print('Résultat 2 - Utilisation des céréales : répartition alimentation animaux / alimentation humaine')\n",
    "print('------------------------------------------------------------------------------------------------')\n",
    "print(\"Au global,\",util_cereales['Alimentation humaine'],\"% des céreales sont destinés à l'alimentation humaine et\", util_cereales['Alimentation animale'],\"% à l'alimentation animale.\")\n",
    "\n",
    "#Préparation du data frame pour affichage d'un graphique\n",
    "util_cereales=util_cereales[['Alimentation humaine','Alimentation animale','Autres utilisations, semences et traitement','Pertes']]\n",
    "util_cereales=util_cereales.reset_index()\n",
    "util_cereales.columns=['Utilisation','Proportion']\n",
    "\n",
    "#Affichage d'un diagramme en barres\n",
    "plt.figure(figsize=(18,10))\n",
    "plt.bar(height=util_cereales['Proportion'],x=util_cereales['Utilisation'])\n",
    "plt.title('Répartition de la disponibilité mondiale en céréales en fonction de son utilisation', fontweight='bold', fontsize=20)\n",
    "plt.ylabel('Proportion de la disponibilité intérieure (%)', fontsize=16)\n",
    "#plt.ylim(0,50)\n",
    "plt.xticks(fontsize=14)\n",
    "plt.yticks(fontsize=16)\n",
    "plt.grid(axis='y',c='gray',ls='-',lw=0.5)\n",
    "\n",
    "#affichage des valeurs au-dessus des barres\n",
    "prop=util_cereales['Proportion'].tolist()\n",
    "for i in range(4):\n",
    "    plt.text(i-0.07,prop[i]+1,prop[i],fontsize=14)\n",
    "plt.show()\n"
   ]
  },
  {
   "cell_type": "code",
   "execution_count": 155,
   "id": "29876416",
   "metadata": {
    "scrolled": false
   },
   "outputs": [
    {
     "name": "stdout",
     "output_type": "stream",
     "text": [
      "Résultat 2.2 - Utilisation des céréales : répartition alimentation animaux / alimentation humaine\n",
      "------------------------------------------------------------------------------------------------\n",
      "Le tableau suivant montre, pour les céréales, la répartition entre l'alimentation humaine et l'alimentation animale\n"
     ]
    },
    {
     "data": {
      "text/html": [
       "<div>\n",
       "<style scoped>\n",
       "    .dataframe tbody tr th:only-of-type {\n",
       "        vertical-align: middle;\n",
       "    }\n",
       "\n",
       "    .dataframe tbody tr th {\n",
       "        vertical-align: top;\n",
       "    }\n",
       "\n",
       "    .dataframe thead th {\n",
       "        text-align: right;\n",
       "    }\n",
       "</style>\n",
       "<table border=\"1\" class=\"dataframe\">\n",
       "  <thead>\n",
       "    <tr style=\"text-align: right;\">\n",
       "      <th></th>\n",
       "      <th>Alimentation humaine %</th>\n",
       "      <th>Alimentation animale %</th>\n",
       "    </tr>\n",
       "    <tr>\n",
       "      <th>Produit</th>\n",
       "      <th></th>\n",
       "      <th></th>\n",
       "    </tr>\n",
       "  </thead>\n",
       "  <tbody>\n",
       "    <tr>\n",
       "      <th>Avoine</th>\n",
       "      <td>16.67</td>\n",
       "      <td>69.43</td>\n",
       "    </tr>\n",
       "    <tr>\n",
       "      <th>Blé</th>\n",
       "      <td>67.38</td>\n",
       "      <td>19.08</td>\n",
       "    </tr>\n",
       "    <tr>\n",
       "      <th>Céréales, Autres</th>\n",
       "      <td>19.37</td>\n",
       "      <td>69.26</td>\n",
       "    </tr>\n",
       "    <tr>\n",
       "      <th>Maïs</th>\n",
       "      <td>13.10</td>\n",
       "      <td>57.14</td>\n",
       "    </tr>\n",
       "    <tr>\n",
       "      <th>Millet</th>\n",
       "      <td>77.03</td>\n",
       "      <td>11.05</td>\n",
       "    </tr>\n",
       "    <tr>\n",
       "      <th>Orge</th>\n",
       "      <td>4.84</td>\n",
       "      <td>65.98</td>\n",
       "    </tr>\n",
       "    <tr>\n",
       "      <th>Riz (Eq Blanchi)</th>\n",
       "      <td>79.32</td>\n",
       "      <td>7.06</td>\n",
       "    </tr>\n",
       "    <tr>\n",
       "      <th>Sorgho</th>\n",
       "      <td>41.47</td>\n",
       "      <td>42.60</td>\n",
       "    </tr>\n",
       "  </tbody>\n",
       "</table>\n",
       "</div>"
      ],
      "text/plain": [
       "                  Alimentation humaine %  Alimentation animale %\n",
       "Produit                                                         \n",
       "Avoine                             16.67                   69.43\n",
       "Blé                                67.38                   19.08\n",
       "Céréales, Autres                   19.37                   69.26\n",
       "Maïs                               13.10                   57.14\n",
       "Millet                             77.03                   11.05\n",
       "Orge                                4.84                   65.98\n",
       "Riz (Eq Blanchi)                   79.32                    7.06\n",
       "Sorgho                             41.47                   42.60"
      ]
     },
     "metadata": {},
     "output_type": "display_data"
    },
    {
     "data": {
      "image/png": "[encoded data removed]",
      "text/plain": [
       "<Figure size 720x504 with 1 Axes>"
      ]
     },
     "metadata": {
      "needs_background": "light"
     },
     "output_type": "display_data"
    }
   ],
   "source": [
    "#Création de la liste 'cereales' contenant les céréales trouvées dans l'onglet 'Bilans alimentaires'\n",
    "cereales=['Blé','Orge', 'Maïs', 'Sègle','Avoine', 'Millet','Sorgho', 'Céréales, Autres', 'Riz (Eq Blanchi)']\n",
    "\n",
    "#Filtrage sur les produits contenus dans la liste 'cereales'\n",
    "dispo_alim_cereales=dispo_alim.loc[dispo_alim['Produit'].isin(cereales)]\n",
    "\n",
    "#Aggrégation sur le type de produit \n",
    "dispo_alim_cereales=dispo_alim_cereales.groupby(['Produit'])[['Disponibilité intérieure','Nourriture','Aliments pour animaux']].sum()\n",
    "\n",
    "#Proportion de la disponibilité intérieure utilisée pour l'alimentaion humaine et pour l'alimentation animale\n",
    "dispo_alim_cereales['Alimentation humaine %']=round(dispo_alim_cereales['Nourriture']/dispo_alim_cereales['Disponibilité intérieure']*(100),2)\n",
    "dispo_alim_cereales['Alimentation animale %']=round(dispo_alim_cereales['Aliments pour animaux']/dispo_alim_cereales['Disponibilité intérieure']*(100),2)\n",
    "\n",
    "#Affichage des résultats\n",
    "print('Résultat 2.2 - Utilisation des céréales : répartition alimentation animaux / alimentation humaine')\n",
    "print('------------------------------------------------------------------------------------------------')\n",
    "print(\"Le tableau suivant montre, pour les céréales, la répartition entre l'alimentation humaine et l'alimentation animale\")\n",
    "dispo_alim_cereales=dispo_alim_cereales[['Alimentation humaine %','Alimentation animale %']]\n",
    "display(dispo_alim_cereales)\n",
    "\n",
    "#Affichage d'un diagramme à barres\n",
    "dispo_alim_cereales=dispo_alim_cereales.reset_index()\n",
    "dispo_alim_cereales.plot(x='Produit', y=['Alimentation humaine %','Alimentation animale %'],kind='bar',figsize=(10,7))\n",
    "plt.ylabel('Pourcentage de la disponibilité intérieure (%)', fontsize=14)\n",
    "plt.xticks(fontsize=14)\n",
    "plt.yticks(fontsize=14)\n",
    "plt.title('Utilisation des céréales : répartition alimentation animale / alimentation humaine',fontweight='bold',fontsize=16)\n",
    "plt.grid(axis='y',c='gray',ls='-',lw=0.5)\n",
    "plt.show()"
   ]
  },
  {
   "cell_type": "markdown",
   "id": "91597a6f",
   "metadata": {},
   "source": [
    "**Analyse**:\n",
    "- Au global, 36% des céréales sont attribuées à l'alimentation animale et 43% à l'alimentation humaine.\n",
    "- Détails des céréales :\n",
    "    - Pour le riz, le blé et le millet, plus de 50% de la disponibilité mondiale est attribuée à l'alimentation humaine.\n",
    "    - Pour l'avoine, le maïs, l'orge et les céréales autres, c'est l'inverse : 55 à 70% attribuée à l'alimentation animale.\n",
    "- Les céréales représentent 65% des aides alimentaires mondiales pour les années 2013 à 2016, voir [Partie 3-9- Aides alimentaires par catégories de produits](#3_9)\n",
    "- Le blé est le deuxième aliment qui contribue le plus à la disponibilité alimentaire mondiale (19% de la disponibilité alimentaire), voir [Partie 3-4- Produits contribuant le plus aux apports alimentaires et leur zone de production](#3_4)\n",
    "    "
   ]
  },
  {
   "cell_type": "markdown",
   "id": "a5ce71d8",
   "metadata": {},
   "source": [
    "### Question 3 - Le manioc en Thaïlande<a class=\"anchor\" id=\"question3\"></a>\n",
    "\n",
    "Julien avait noté un exemple étonnant d’utilisation du manioc par la Thaïlande aux égards de la proportion de personnes en sous-nutrition, concernant à priori l’exportation par rapport à la production.\n",
    "\n",
    "Vous trouverez ci-dessous l'analyse finalisée concernant l'utilisation du manioc et la disponibilité alimentaire.\n"
   ]
  },
  {
   "cell_type": "markdown",
   "id": "16377c8e",
   "metadata": {},
   "source": [
    "- **Manioc : Production, importations et exportations**"
   ]
  },
  {
   "cell_type": "code",
   "execution_count": 156,
   "id": "99365630",
   "metadata": {},
   "outputs": [
    {
     "name": "stdout",
     "output_type": "stream",
     "text": [
      "Résultat 3 - Manioc en Thaïlande : Production, importations et exportations\n",
      "---------------------------------------------------------------------------\n",
      "La Thaïlande produit 30228.0 milliers de tonnes de manioc, en importe 1250.0 milliers de tonnes et en exporte 25214.0 milliers de tonnes.\n",
      "La Thaïlande exporte 83 % de sa production de manioc alors que la proportion de personnes sous-alimentée dans le pays est de 9.0 %.\n"
     ]
    },
    {
     "data": {
      "image/png": "[encoded data removed]",
      "text/plain": [
       "<Figure size 720x504 with 1 Axes>"
      ]
     },
     "metadata": {
      "needs_background": "light"
     },
     "output_type": "display_data"
    }
   ],
   "source": [
    "#Informations sur le manioc en Thaïlande : production, importations, exportations\n",
    "manioc_thailande = dispo_alim.loc[(dispo_alim['Produit'] == 'Manioc') & (dispo_alim['Zone'] == 'Thaïlande')]\n",
    "\n",
    "#Population en sous_nutrition en 2013\n",
    "sous_nutri_thailande=round(dfpop.loc[(dfpop['Année']==2017)&(dfpop['Zone'] == 'Thaïlande'),'Population sous alimentée (%)'],1)\n",
    "\n",
    "#Affichage des résultats\n",
    "print('Résultat 3 - Manioc en Thaïlande : Production, importations et exportations')\n",
    "print('---------------------------------------------------------------------------')\n",
    "print('La Thaïlande produit',manioc_thailande['Production'].iloc[0] ,'milliers de tonnes de manioc, en importe', \n",
    "        manioc_thailande['Importations - Quantité'].iloc[0], 'milliers de tonnes et en exporte', \n",
    "        manioc_thailande['Exportations - Quantité'].iloc[0], 'milliers de tonnes.' )\n",
    "print('La Thaïlande exporte',round(manioc_thailande['Exportations - Quantité'].iloc[0]/manioc_thailande['Production'].iloc[0]*(100)),'% de sa production de manioc alors que la proportion de personnes sous-alimentée dans le pays est de',sous_nutri_thailande.iloc[0], '%.')\n",
    "\n",
    "#Graphique : diagramme à barres\n",
    "manioc_thailande=manioc_thailande[['Production','Importations - Quantité','Exportations - Quantité']]\n",
    "manioc_thailande.columns=['Production','Importations','Exportations']\n",
    "manioc_thailande=manioc_thailande.transpose().reset_index()\n",
    "manioc_thailande.columns=['Manioc','Quantité (milliers de tonnes)']\n",
    "plt.figure(figsize=(10,7))\n",
    "plt.bar(height=manioc_thailande['Quantité (milliers de tonnes)'],x=manioc_thailande['Manioc'])\n",
    "plt.title(\"Le manioc en Thaïlande : Production, importation, exportation\", fontweight='bold', fontsize=16)\n",
    "plt.ylabel('Quantité (milliers de tonnes)', fontsize=14)\n",
    "plt.ylim(0,35000)\n",
    "plt.grid(axis='y',color='gray',linestyle='-')\n",
    "plt.yticks([10000,20000,30000], fontsize=14)\n",
    "plt.xticks(fontsize=14)\n",
    "\n",
    "#affichage des valeurs au-dessus des barres\n",
    "prop=manioc_thailande['Quantité (milliers de tonnes)'].tolist()\n",
    "for i in range(3):\n",
    "    plt.text(i-0.15,prop[i]+200,prop[i],fontsize=14)\n",
    "plt.show()"
   ]
  },
  {
   "cell_type": "markdown",
   "id": "86b1ba94",
   "metadata": {},
   "source": [
    "- **Nombre d'habitants pouvant être nourris avec les exportations de manioc**\n",
    "    - Hypothèses : \n",
    "        - Besoins journaliers en calories : voir hypothèse de la question 5\n",
    "        - Apport calorique d'un kg de manioc : 1570 kcal [source](https://www.santemagazine.fr/alimentation/nutriments/guide-des-calories/pommes-de-terre-et-autres-tubercules/manioc-917985)"
   ]
  },
  {
   "cell_type": "code",
   "execution_count": 157,
   "id": "afee7d94",
   "metadata": {},
   "outputs": [
    {
     "name": "stdout",
     "output_type": "stream",
     "text": [
      "Résultat 3 - Manioc en Thaïlande : Nombre d'habitants pouvant être nourris avec les exportations de manioc\n",
      "---------------------------------------------------------------------------\n",
      "La quantité de manioc exportée suffirait à nourrir 69.6 % de la population thaïlandaise.\n"
     ]
    }
   ],
   "source": [
    "#Aggrégation par 'Zone' pour avoir la disponibilité alimentaire totale\n",
    "manioc_thailande = dispo_alim.loc[(dispo_alim['Produit'] == 'Manioc') & (dispo_alim['Zone'] == 'Thaïlande')]\n",
    "\n",
    "#Apport calorique d'un kg de manioc\n",
    "manioc_kcal=1570\n",
    "\n",
    "#Quantité manioc exporté en kg\n",
    "manioc_export_kg=manioc_thailande['Exportations - Quantité']*(1000000)\n",
    "\n",
    "#Calcul du nombre théorique de personnes (en milliers) qui pourraient être nourriesà partir de la quantité de manioc exportée\n",
    "nb_th_pers_nourris_manioc = round(manioc_export_kg.iloc[0]*manioc_kcal/(2250)/365/1000,2)\n",
    "\n",
    "#Correspondance en ratio de la population thaïlandaise\n",
    "pop_thailande=population.loc[(population['Année']==2017)&(population['Zone']=='Thaïlande'),:]\n",
    "ratio_th_pers_nourris_manioc=round(nb_th_pers_nourris_manioc/pop_thailande['Population_milliers']*(100),1)\n",
    "\n",
    "#Affichage des résultats\n",
    "print(\"Résultat 3 - Manioc en Thaïlande : Nombre d'habitants pouvant être nourris avec les exportations de manioc\")\n",
    "print('---------------------------------------------------------------------------')\n",
    "print('La quantité de manioc exportée suffirait à nourrir',ratio_th_pers_nourris_manioc.iloc[0],'% de la population thaïlandaise.')"
   ]
  },
  {
   "cell_type": "markdown",
   "id": "50b1e1a4",
   "metadata": {},
   "source": [
    "- **Analyse des résultats:**\n",
    "    - En 2017, 9% de la population thaïlandaise est en sous-nutrition.\n",
    "    - La Thaïlande exporte 83% de sa production de manioc.\n",
    "    - La quantité de manioc exportée suffirait à nourrir 70% de la population thaïlandaise. \n",
    "    - Dans le monde, 34% de la production mondiale de manioc est attribuée à l'alimentation animale [voir Partie 3-5- Top des produits destinés à l'alimentation animale](#3_5)"
   ]
  },
  {
   "cell_type": "markdown",
   "id": "0c2068f9",
   "metadata": {},
   "source": [
    "- **Pour aller plus loin:**\n",
    "    \n",
    "    - Utilisation de la disponibilité intérieure du manioc\n",
    "    - Analyse de la production, l'importation et l'exportation des autres produits en Thaïlande\n",
    "    - Autres pays producteurs de manioc : rapport production / exportation"
   ]
  },
  {
   "cell_type": "markdown",
   "id": "1b2b8b5f",
   "metadata": {},
   "source": [
    "### Question 4 - Proportion des personnes en sous-nutrition en 2017<a class=\"anchor\" id=\"question4\"></a>"
   ]
  },
  {
   "cell_type": "code",
   "execution_count": 158,
   "id": "7444f8d9",
   "metadata": {},
   "outputs": [
    {
     "name": "stdout",
     "output_type": "stream",
     "text": [
      "Résultat 4 - Proportion des personnes en sous-nutrition en 2017\n",
      "---------------------------------------------------------------\n",
      "En 2017, la population mondiale s'élève à 7548.0 millions d'habitants et la population en sous-nutrition à 536.0 millions d'habitants.\n",
      "La proportion mondiale de personnes en sous-nutrition en 2017 est de 7.1 %.\n"
     ]
    }
   ],
   "source": [
    "#calcul de la proportion des personnes en sous-nutrition en 2017 à partir des dictionnaires\n",
    "prop_pop_ss_alim_2017 = round(pop_sous_nutri[2017]/pop_mondiale[2017]*100,2)#appel des dictionnaires créés dans la partie 1\n",
    "\n",
    "#impression des résultats\n",
    "print('Résultat 4 - Proportion des personnes en sous-nutrition en 2017')\n",
    "print('---------------------------------------------------------------')\n",
    "print(\"En 2017, la population mondiale s'élève à\", pop_mondiale[2017],\"millions d'habitants et la population en sous-nutrition à\",\n",
    "     pop_sous_nutri[2017], \"millions d'habitants.\" )\n",
    "print(\"La proportion mondiale de personnes en sous-nutrition en 2017 est de\",prop_pop_ss_alim_2017, \"%.\" )"
   ]
  },
  {
   "cell_type": "markdown",
   "id": "31766259",
   "metadata": {},
   "source": [
    "### Question 5 - Nombre théorique de personnes pouvant être nourries à partir de la disponibilité alimentaire mondiale<a class=\"anchor\" id=\"question5\"></a>\n",
    "\n",
    "- **Hypothèse du besoin journalier moyen :**\n",
    "\n",
    "D'après le [site internet Vidal](https://www.vidal.fr/sante/nutrition/equilibre-alimentaire-adulte/recommandations-nutritionnelles-adulte.html) :\n",
    "\n",
    "> *La quantité de calories nécessaire chaque jour à un adulte dépend de nombreux facteurs tels que le sexe, l’âge, la taille, le poids ou le niveau d’activité physique. Pour un homme adulte, l’apport conseillé en énergie est, en moyenne, de 2 400 à 2 600 kcal par jour, selon l’activité. Pour une femme adulte, il est de 1 800 à 2 200 kcal.*\n",
    "\n",
    "La population mondiale étant consititué à quasi 50% d'hommes et 50% de femmes (source: [ined](https://www.ined.fr/fr/tout-savoir-population/memos-demo/faq/plus-hommes-ou-femmes-sur-terre/#:~:text=S'il%20y%20a%20%C3%A0,femmes%20(49%2C6%20%25).)), nous considérerons pour la présente étude un **besoin journalier moyen de 2250 kcal**.\n",
    "\n",
    "- **Calcul de la disponibilité alimentaire (kcal/personne/jour)**\n",
    "\n",
    "D'après le document [Bilan alimentaires - Manuel](https://www.fao.org/3/X9892F/x9892f03.htm#TopOfPage) rédigé par la FAO :\n",
    "> *Les disponibilités par habitant exprimées en poids du produit sont calculées à partir des disponibilités totales pour la consommation humaine (c'est-à-dire «Alimentation humaine») en divisant ce chiffre par la population totale qui a effectivement eu accès aux approvisionnements alimentaires durant la période de référence.*\n",
    "\n",
    "Pour déterminer la disponibilité alimentaire mondiale (Kcal/jour), il faut multiplier la 'Disponibilité alimentaire (cal/personne/jour)' par la population du pays pour la même année, soit 2017."
   ]
  },
  {
   "cell_type": "code",
   "execution_count": 159,
   "id": "a7dafcab",
   "metadata": {
    "scrolled": true
   },
   "outputs": [
    {
     "name": "stdout",
     "output_type": "stream",
     "text": [
      "Résultat 5 - Nombre théorique de personnes qui pourraient être nourries à partir de la disponibilité alimentaire mondiale\n",
      "--------------------------------------------------------------------------------------------------------------------------\n",
      "Le nombre théorique de personnes qui auraient pu être nourries à partir de la disponibilité alimentaire mondiale en 2013 est de 9297 millions de personnes et la population mondiale en 2013 était de 7548 millions de personnes.\n",
      "\n",
      "En 2017, la disponibilité alimentaire mondiale permettait de nourrir 123 % de la population mondiale.\n"
     ]
    }
   ],
   "source": [
    "#Aggrégation par 'Zone' pour avoir la disponibilité alimentaire totale\n",
    "dispo_alim_mond=dispo_alim.groupby(['Zone'])['Disponibilité alimentaire (cal/personne/jour)'].sum()\n",
    "\n",
    "#Filtrage sur le data frame population pour l'année 2017\n",
    "pop_2017=population.loc[population['Année']==2017,:]\n",
    "\n",
    "#Jointure de dispo_alim_pays et pop_2017\n",
    "dispo_alim_mond=pd.merge(dispo_alim_mond,pop_2017,on='Zone',how='left')\n",
    "\n",
    "#Calcul de la disponiblité alimentaire par pays en Kcal/jour\n",
    "dispo_alim_mond['Disponibilité alimentaire (kcal/jour)']=dispo_alim_mond['Disponibilité alimentaire (cal/personne/jour)']*dispo_alim_mond['Population_milliers']\n",
    "\n",
    "#calcul du nombre théorique de personnes (en millions) qui pourraient être nourries à partir de la disponibilité alimentaire mondiale\n",
    "nb_th_pers_nourris = round(dispo_alim_mond['Disponibilité alimentaire (kcal/jour)'].sum()/(2250)/(1000))\n",
    "\n",
    "#Impression des résultats\n",
    "print('Résultat 5 - Nombre théorique de personnes qui pourraient être nourries à partir de la disponibilité alimentaire mondiale')\n",
    "print('--------------------------------------------------------------------------------------------------------------------------')\n",
    "print('Le nombre théorique de personnes qui auraient pu être nourries à partir de la disponibilité alimentaire mondiale en 2013 est de',\n",
    "      nb_th_pers_nourris,'millions de personnes et la population mondiale en 2013 était de', round(pop_mondiale[2017]) ,'millions de personnes.')\n",
    "print('')\n",
    "print('En 2017, la disponibilité alimentaire mondiale permettait de nourrir',round(nb_th_pers_nourris/pop_mondiale[2017]*100),'% de la population mondiale.')"
   ]
  },
  {
   "cell_type": "markdown",
   "id": "81f35df4",
   "metadata": {},
   "source": [
    "### Question 6 - Nombre théorique de personnes pouvant être nourries à partir de la disponibilité alimentaire des produits végétaux<a class=\"anchor\" id=\"question6\"></a>\n",
    "\n",
    "- Hypothèse identique à la question 5 : besoin journalier moyen de 2250 kcal.\n",
    "\n",
    "- Filtrage sur les produits d'origine végétale puis démarche identique à la question 5 "
   ]
  },
  {
   "cell_type": "code",
   "execution_count": 160,
   "id": "1bd1a589",
   "metadata": {},
   "outputs": [
    {
     "name": "stdout",
     "output_type": "stream",
     "text": [
      "Résultat 6 - Nb théorique de personnes pouvant être nourries à partir de la disponibilité alimentaire des produits végétaux\n",
      "----------------------------------------------------------------------------------------------------------------------------\n",
      "Le nombre théorique de personnes qui auraient pu être nourries à partir de la disponibilité alimentaire mondiale en produits végétaux en 2013 est de 9297 millions de personnes et la population mondiale en 2013 était de 7211 millions de personnes.\n",
      "\n",
      "En 2013, la disponibilité alimentaire mondiale des produits végétaux permettait de nourrir 106 % de la population mondiale.\n"
     ]
    }
   ],
   "source": [
    "#Filtrage sur l'origine 'Vegetale'\n",
    "dispo_alim_vege=dispo_alim.loc[dispo_alim['Origine']=='vegetale',:]\n",
    "\n",
    "#Aggrégation par 'Zone' pour avoir la disponibilité alimentaire totale\n",
    "dispo_alim_vege=dispo_alim_vege.groupby(['Zone'])['Disponibilité alimentaire (cal/personne/jour)'].sum()\n",
    "\n",
    "#Filtrage sur le data frame population pour l'année 2017\n",
    "pop_2017=population.loc[population['Année']==2017,:]\n",
    "\n",
    "#Jointure de dispo_alim_pays et pop_2017\n",
    "dispo_alim_vege=pd.merge(dispo_alim_vege,pop_2017,on='Zone',how='left')\n",
    "\n",
    "#Calcul de la disponiblité alimentaire par pays en Kcal/jour\n",
    "dispo_alim_vege['Disponibilité alimentaire (Kcal/jour)']=dispo_alim_vege['Disponibilité alimentaire (cal/personne/jour)']*dispo_alim_vege['Population_milliers']\n",
    "\n",
    "#calcul du nombre théorique de personnes (en millions) qui pourraient être nourries à partir de la disponibilité alimentaire mondiale\n",
    "nb_th_pers_nourris_vege = round(dispo_alim_vege['Disponibilité alimentaire (Kcal/jour)'].sum()/(2250)/(1000))\n",
    "\n",
    "#Impression des résultats\n",
    "print('Résultat 6 - Nb théorique de personnes pouvant être nourries à partir de la disponibilité alimentaire des produits végétaux')\n",
    "print('----------------------------------------------------------------------------------------------------------------------------')\n",
    "print('Le nombre théorique de personnes qui auraient pu être nourries à partir de la disponibilité alimentaire mondiale en produits végétaux en 2013 est de',\n",
    "      nb_th_pers_nourris,'millions de personnes et la population mondiale en 2013 était de', round(pop_mondiale[2013]) ,'millions de personnes.')\n",
    "print('')\n",
    "print('En 2013, la disponibilité alimentaire mondiale des produits végétaux permettait de nourrir',round(nb_th_pers_nourris_vege/pop_mondiale[2013]*100),'% de la population mondiale.')"
   ]
  },
  {
   "cell_type": "markdown",
   "id": "0e6c6e0b",
   "metadata": {},
   "source": [
    "La disponibilité alimentaire est à 82% d'origine végétale, [voir Partie 3-3- Proportion de la disponibilité alimentaire mondiale d'origine animale et végétale](#3_3)."
   ]
  },
  {
   "cell_type": "markdown",
   "id": "63767f3b",
   "metadata": {},
   "source": [
    "### Question 7 - Utilisation de la disponibilité intérieure<a class=\"anchor\" id=\"question7\"></a>\n",
    "\n",
    "L'objectif de l'analyse est de déterminer l'utilisation de la disponibilité intérieure, en particulier la part qui est attribuée à l’alimentation animale, celle qui est perdue et celle qui est concrètement utilisée pour l'alimentation humaine."
   ]
  },
  {
   "cell_type": "code",
   "execution_count": 161,
   "id": "1b864ffc",
   "metadata": {
    "scrolled": false
   },
   "outputs": [
    {
     "name": "stdout",
     "output_type": "stream",
     "text": [
      "Résultat 7 - Utilisation de la disponibilité intérieure, en particulier la part qui est attribuée à l’alimentation animale, celle qui est perdue et celle qui est concrètement utilisée pour l'alimentation humaine\n",
      "------------------------------------------------------------------------------------------------------------------------------\n",
      "La part de la disponilité intérieure attribuée à l'alimentation animale est de 13 %,\n",
      "celle attribuée à l'alimentation humaine de 50 %,\n",
      "et celle qui est perdue  de 5 %.\n"
     ]
    },
    {
     "data": {
      "image/png": "[encoded data removed]",
      "text/plain": [
       "<Figure size 720x504 with 1 Axes>"
      ]
     },
     "metadata": {},
     "output_type": "display_data"
    }
   ],
   "source": [
    "#Calcul de la part de la dispo intérieure utilisée pour l'alimentation animale, les pertes, l'alimentation humaine et les autres utilisations\n",
    "prop_alim_animale=round(dispo_alim['Aliments pour animaux'].sum()/dispo_alim['Disponibilité intérieure'].sum()*100)\n",
    "prop_alim_humaine=round(dispo_alim['Nourriture'].sum()/dispo_alim['Disponibilité intérieure'].sum()*100)\n",
    "prop_pertes=round(dispo_alim['Pertes'].sum()/dispo_alim['Disponibilité intérieure'].sum()*100)\n",
    "prop_autres_util=round(sum(dispo_alim[['Semences','Traitement','Autres Utilisations']].sum())/dispo_alim['Disponibilité intérieure'].sum()*100)\n",
    "\n",
    "#Création data frame avec les utilisations de la disponibilité alimentaire\n",
    "util_alim=dispo_alim[['Nourriture','Aliments pour animaux','Pertes','Semences','Traitement','Autres Utilisations']]\n",
    "util_alim.columns=['Alimentation humaine','Alimentation animale','Pertes','Semences','Traitement','Autres Utilisations']\n",
    "util_alim=util_alim[['Alimentation humaine','Alimentation animale','Pertes','Semences','Traitement','Autres Utilisations']].sum()\n",
    "util_alim=util_alim.reset_index()\n",
    "util_alim.columns=['Utilisation','Quantité (milliers de tonnes)']\n",
    "\n",
    "#Affichage des résultats\n",
    "print(\"Résultat 7 - Utilisation de la disponibilité intérieure, en particulier la part qui est attribuée à l’alimentation animale, celle qui est perdue et celle qui est concrètement utilisée pour l'alimentation humaine\")\n",
    "print('------------------------------------------------------------------------------------------------------------------------------')\n",
    "print(\"La part de la disponilité intérieure attribuée à l'alimentation animale est de\",prop_alim_animale,'%,')\n",
    "print(\"celle attribuée à l'alimentation humaine de\",prop_alim_humaine,'%,')\n",
    "print(\"et celle qui est perdue  de\",prop_pertes,'%.')\n",
    "\n",
    "#Graphique circulaire\n",
    "plt.figure(figsize=(10,7))\n",
    "plt.pie(x=util_alim['Quantité (milliers de tonnes)'],labels=util_alim['Utilisation'], autopct='%.1f%%',textprops={'fontsize': 14})\n",
    "plt.title(\"Utilisation de la disponibilité intérieure mondiale\", fontweight='bold', fontsize=16)\n",
    "plt.show()"
   ]
  },
  {
   "cell_type": "markdown",
   "id": "d72cf451",
   "metadata": {},
   "source": [
    "### Question 8 - Pays pour lesquels la proportion de personnes sous-alimentées est la plus forte en 2017<a class=\"anchor\" id=\"question8\"></a>"
   ]
  },
  {
   "cell_type": "code",
   "execution_count": 162,
   "id": "ec624dbe",
   "metadata": {
    "scrolled": true
   },
   "outputs": [
    {
     "name": "stdout",
     "output_type": "stream",
     "text": [
      "Résultat 8 - Top 10 des pays pour lesquels la proportion de personnes sous-alimentées est la plus forte en 2017\n",
      "---------------------------------------------------------------------------------------------------------------\n"
     ]
    },
    {
     "data": {
      "text/html": [
       "<div>\n",
       "<style scoped>\n",
       "    .dataframe tbody tr th:only-of-type {\n",
       "        vertical-align: middle;\n",
       "    }\n",
       "\n",
       "    .dataframe tbody tr th {\n",
       "        vertical-align: top;\n",
       "    }\n",
       "\n",
       "    .dataframe thead th {\n",
       "        text-align: right;\n",
       "    }\n",
       "</style>\n",
       "<table border=\"1\" class=\"dataframe\">\n",
       "  <thead>\n",
       "    <tr style=\"text-align: right;\">\n",
       "      <th></th>\n",
       "      <th>Année</th>\n",
       "      <th>Zone</th>\n",
       "      <th>prop_ss_alimentée</th>\n",
       "    </tr>\n",
       "  </thead>\n",
       "  <tbody>\n",
       "    <tr>\n",
       "      <th>78</th>\n",
       "      <td>2017</td>\n",
       "      <td>Haïti</td>\n",
       "      <td>48.27</td>\n",
       "    </tr>\n",
       "    <tr>\n",
       "      <th>157</th>\n",
       "      <td>2017</td>\n",
       "      <td>République populaire démocratique de Corée</td>\n",
       "      <td>47.19</td>\n",
       "    </tr>\n",
       "    <tr>\n",
       "      <th>108</th>\n",
       "      <td>2017</td>\n",
       "      <td>Madagascar</td>\n",
       "      <td>41.06</td>\n",
       "    </tr>\n",
       "    <tr>\n",
       "      <th>103</th>\n",
       "      <td>2017</td>\n",
       "      <td>Libéria</td>\n",
       "      <td>38.30</td>\n",
       "    </tr>\n",
       "    <tr>\n",
       "      <th>100</th>\n",
       "      <td>2017</td>\n",
       "      <td>Lesotho</td>\n",
       "      <td>38.28</td>\n",
       "    </tr>\n",
       "    <tr>\n",
       "      <th>183</th>\n",
       "      <td>2017</td>\n",
       "      <td>Tchad</td>\n",
       "      <td>37.95</td>\n",
       "    </tr>\n",
       "    <tr>\n",
       "      <th>161</th>\n",
       "      <td>2017</td>\n",
       "      <td>Rwanda</td>\n",
       "      <td>35.06</td>\n",
       "    </tr>\n",
       "    <tr>\n",
       "      <th>121</th>\n",
       "      <td>2017</td>\n",
       "      <td>Mozambique</td>\n",
       "      <td>32.81</td>\n",
       "    </tr>\n",
       "    <tr>\n",
       "      <th>186</th>\n",
       "      <td>2017</td>\n",
       "      <td>Timor-Leste</td>\n",
       "      <td>32.26</td>\n",
       "    </tr>\n",
       "    <tr>\n",
       "      <th>0</th>\n",
       "      <td>2017</td>\n",
       "      <td>Afghanistan</td>\n",
       "      <td>28.93</td>\n",
       "    </tr>\n",
       "  </tbody>\n",
       "</table>\n",
       "</div>"
      ],
      "text/plain": [
       "     Année                                        Zone  prop_ss_alimentée\n",
       "78    2017                                       Haïti              48.27\n",
       "157   2017  République populaire démocratique de Corée              47.19\n",
       "108   2017                                  Madagascar              41.06\n",
       "103   2017                                     Libéria              38.30\n",
       "100   2017                                     Lesotho              38.28\n",
       "183   2017                                       Tchad              37.95\n",
       "161   2017                                      Rwanda              35.06\n",
       "121   2017                                  Mozambique              32.81\n",
       "186   2017                                 Timor-Leste              32.26\n",
       "0     2017                                 Afghanistan              28.93"
      ]
     },
     "metadata": {},
     "output_type": "display_data"
    }
   ],
   "source": [
    "#Filtrage sur l'année 2017\n",
    "A=sous_nutri.loc[sous_nutri['Année moy']==2017,:]\n",
    "B=population.loc[population['Année']==2017,:]\n",
    "\n",
    "#Jointure des data frames 2017\n",
    "dfpop_2017=pd.merge(A,B,left_on='Zone',right_on='Zone',how='outer')\n",
    "\n",
    "#Suppression des colonnes inutiles\n",
    "dfpop_2017=dfpop_2017.drop(columns=['Plage Année','Valeur_old','Année moy'])\n",
    "\n",
    "#Conversion de la population de milliers à millions\n",
    "dfpop_2017['Population_milliers']=round(dfpop_2017['Population_milliers']/(1000),2)\n",
    "\n",
    "#Renommer la colonne population\n",
    "dfpop_2017.rename(columns={'Population_milliers': 'Population_millions'}, inplace=True)\n",
    "\n",
    "#Calcul de la proportion de population sous-alimentée\n",
    "dfpop_2017['prop_ss_alimentée']=round(dfpop_2017['Population_sous_alimentee_millions']/dfpop_2017['Population_millions']*(100),2)\n",
    "\n",
    "#Tri decroissant sur la proportion de population sous-alimentée\n",
    "dfpop_2017=dfpop_2017.sort_values('prop_ss_alimentée',ascending=False)\n",
    "\n",
    "#Réorganisation des colonnes et affichage du top 10\n",
    "print('Résultat 8 - Top 10 des pays pour lesquels la proportion de personnes sous-alimentées est la plus forte en 2017')\n",
    "print('---------------------------------------------------------------------------------------------------------------')\n",
    "df_top10=dfpop_2017[['Année','Zone','prop_ss_alimentée']].head(10)\n",
    "display(df_top10)\n"
   ]
  },
  {
   "cell_type": "markdown",
   "id": "f79a8833",
   "metadata": {},
   "source": [
    "*A noter que les données ne sont pas disponibles pour tous les pays (voir résultat de la question 10)*"
   ]
  },
  {
   "cell_type": "code",
   "execution_count": 163,
   "id": "25cefeff",
   "metadata": {},
   "outputs": [
    {
     "data": {
      "image/png": "[encoded data removed]",
      "text/plain": [
       "<Figure size 1296x720 with 1 Axes>"
      ]
     },
     "metadata": {
      "needs_background": "light"
     },
     "output_type": "display_data"
    }
   ],
   "source": [
    "#Remplacement de 'République populaire démocratique de Corée' par 'RPD de Corée'\n",
    "df_top10.loc[df_top10['Zone']=='République populaire démocratique de Corée','Zone']='RPD de Corée'\n",
    "\n",
    "#Affichage des résultats dans un diagramme en barre\n",
    "df_top10.loc[df_top10['Zone']=='République populaire démocratique de Corée','Zone']='RPD de Corée'\n",
    "plt.figure(figsize=(18,10))\n",
    "plt.bar(height=df_top10['prop_ss_alimentée'],x=df_top10['Zone'])\n",
    "plt.title(\"Top 10 des pays pour lesquels la proportion de personnes sous-alimentées est la plus forte en 2017\", fontweight='bold', fontsize=14)\n",
    "plt.ylabel('Proportion de la population en sous-nutrition (%)', fontsize=12)\n",
    "plt.ylim(0,55)\n",
    "plt.grid(axis='y',color='gray',linestyle='-')\n",
    "\n",
    "#affichage des valeurs au-dessus des barres\n",
    "prop=df_top10['prop_ss_alimentée'].tolist()\n",
    "for i in range(10):\n",
    "    plt.text(i-0.2,prop[i]+0.5,prop[i],fontsize=11)\n",
    "plt.show()"
   ]
  },
  {
   "cell_type": "markdown",
   "id": "9d6f944d",
   "metadata": {},
   "source": [
    "*Note : RPD = République populaire démocratique*"
   ]
  },
  {
   "cell_type": "markdown",
   "id": "498e58a6",
   "metadata": {},
   "source": [
    "8 pays sur les 10 du top 10 ont un tiers ou plus de leur population en sous-nutrition, soit entre 1 habitant sur 2 et 1 sur 3 en sous-nutrition. \n",
    "\n",
    "Haïti a presque la moitié de sa population en sous-nutrition.\n",
    "\n",
    "**Pour aller plus loin** : voir [Partie3-11- Zoom sur le top 3 des pays en sous-nutrition : Haïti, RPD de Corée et Madagascar](#3_11)"
   ]
  },
  {
   "cell_type": "markdown",
   "id": "40880e72",
   "metadata": {},
   "source": [
    "###  Question 9 - Pays qui ont le plus bénéficié d’aide depuis 2013<a class=\"anchor\" id=\"question9\"></a>"
   ]
  },
  {
   "cell_type": "code",
   "execution_count": 164,
   "id": "38e7a14a",
   "metadata": {},
   "outputs": [
    {
     "name": "stdout",
     "output_type": "stream",
     "text": [
      "Résultat 9 - Top 10 des pays qui ont le plus bénéficié d’aide depuis 2013\n",
      "-------------------------------------------------------------------------\n"
     ]
    },
    {
     "data": {
      "text/html": [
       "<div>\n",
       "<style scoped>\n",
       "    .dataframe tbody tr th:only-of-type {\n",
       "        vertical-align: middle;\n",
       "    }\n",
       "\n",
       "    .dataframe tbody tr th {\n",
       "        vertical-align: top;\n",
       "    }\n",
       "\n",
       "    .dataframe thead th {\n",
       "        text-align: right;\n",
       "    }\n",
       "</style>\n",
       "<table border=\"1\" class=\"dataframe\">\n",
       "  <thead>\n",
       "    <tr style=\"text-align: right;\">\n",
       "      <th></th>\n",
       "      <th>Pays bénéficiaire</th>\n",
       "      <th>Aide_alimentaire_tonnes</th>\n",
       "      <th>Proportion des aides mondiales (%)</th>\n",
       "      <th>Population sous alimentée moyenne (%)</th>\n",
       "    </tr>\n",
       "  </thead>\n",
       "  <tbody>\n",
       "    <tr>\n",
       "      <th>50</th>\n",
       "      <td>République arabe syrienne</td>\n",
       "      <td>1858943</td>\n",
       "      <td>16.8</td>\n",
       "      <td>NaN</td>\n",
       "    </tr>\n",
       "    <tr>\n",
       "      <th>75</th>\n",
       "      <td>Éthiopie</td>\n",
       "      <td>1381294</td>\n",
       "      <td>12.5</td>\n",
       "      <td>22.3</td>\n",
       "    </tr>\n",
       "    <tr>\n",
       "      <th>70</th>\n",
       "      <td>Yémen</td>\n",
       "      <td>1206484</td>\n",
       "      <td>10.9</td>\n",
       "      <td>NaN</td>\n",
       "    </tr>\n",
       "    <tr>\n",
       "      <th>61</th>\n",
       "      <td>Soudan du Sud</td>\n",
       "      <td>695248</td>\n",
       "      <td>6.3</td>\n",
       "      <td>NaN</td>\n",
       "    </tr>\n",
       "    <tr>\n",
       "      <th>60</th>\n",
       "      <td>Soudan</td>\n",
       "      <td>669784</td>\n",
       "      <td>6.1</td>\n",
       "      <td>12.9</td>\n",
       "    </tr>\n",
       "    <tr>\n",
       "      <th>30</th>\n",
       "      <td>Kenya</td>\n",
       "      <td>552836</td>\n",
       "      <td>5.0</td>\n",
       "      <td>22.7</td>\n",
       "    </tr>\n",
       "    <tr>\n",
       "      <th>3</th>\n",
       "      <td>Bangladesh</td>\n",
       "      <td>348188</td>\n",
       "      <td>3.2</td>\n",
       "      <td>14.0</td>\n",
       "    </tr>\n",
       "    <tr>\n",
       "      <th>59</th>\n",
       "      <td>Somalie</td>\n",
       "      <td>292678</td>\n",
       "      <td>2.7</td>\n",
       "      <td>NaN</td>\n",
       "    </tr>\n",
       "    <tr>\n",
       "      <th>53</th>\n",
       "      <td>République démocratique du Congo</td>\n",
       "      <td>288502</td>\n",
       "      <td>2.6</td>\n",
       "      <td>NaN</td>\n",
       "    </tr>\n",
       "    <tr>\n",
       "      <th>43</th>\n",
       "      <td>Niger</td>\n",
       "      <td>276344</td>\n",
       "      <td>2.5</td>\n",
       "      <td>NaN</td>\n",
       "    </tr>\n",
       "  </tbody>\n",
       "</table>\n",
       "</div>"
      ],
      "text/plain": [
       "                   Pays bénéficiaire  Aide_alimentaire_tonnes  \\\n",
       "50         République arabe syrienne                  1858943   \n",
       "75                          Éthiopie                  1381294   \n",
       "70                             Yémen                  1206484   \n",
       "61                     Soudan du Sud                   695248   \n",
       "60                            Soudan                   669784   \n",
       "30                             Kenya                   552836   \n",
       "3                         Bangladesh                   348188   \n",
       "59                           Somalie                   292678   \n",
       "53  République démocratique du Congo                   288502   \n",
       "43                             Niger                   276344   \n",
       "\n",
       "    Proportion des aides mondiales (%)  Population sous alimentée moyenne (%)  \n",
       "50                                16.8                                    NaN  \n",
       "75                                12.5                                   22.3  \n",
       "70                                10.9                                    NaN  \n",
       "61                                 6.3                                    NaN  \n",
       "60                                 6.1                                   12.9  \n",
       "30                                 5.0                                   22.7  \n",
       "3                                  3.2                                   14.0  \n",
       "59                                 2.7                                    NaN  \n",
       "53                                 2.6                                    NaN  \n",
       "43                                 2.5                                    NaN  "
      ]
     },
     "metadata": {},
     "output_type": "display_data"
    }
   ],
   "source": [
    "#Aggrégation par pays\n",
    "aide_alim_pays=aide_alim.groupby('Pays bénéficiaire')['Aide_alimentaire_tonnes'].sum()\n",
    "aide_alim_pays=aide_alim_pays.reset_index()\n",
    "\n",
    "#Proportion des aides reçues\n",
    "aide_alim_pays['Proportion des aides mondiales (%)']=round(aide_alim_pays['Aide_alimentaire_tonnes']/aide_alim_pays['Aide_alimentaire_tonnes'].sum()*(100),1)\n",
    "aide_alim_pays=aide_alim_pays.reset_index()\n",
    "\n",
    "#Population moyenne en sous-nutrition depuis 2013\n",
    "dfpop_moy=round(dfpop.groupby(['Zone'])['Population sous alimentée (%)'].mean(),1)\n",
    "dfpop_moy=dfpop_moy.reset_index()\n",
    "dfpop_moy.rename(columns={'Population sous alimentée (%)':'Population sous alimentée moyenne (%)'},inplace=True)\n",
    "dfpop_moy=dfpop_moy.reset_index()\n",
    "\n",
    "#Jointure pour afficher l'aide alimentaire et le % de population en sous-nutrition\n",
    "aide_alim_pays=pd.merge(aide_alim_pays,dfpop_moy,left_on='Pays bénéficiaire', right_on='Zone',how='left')\n",
    "\n",
    "aide_alim_pays=aide_alim_pays[['Pays bénéficiaire','Aide_alimentaire_tonnes', 'Proportion des aides mondiales (%)','Population sous alimentée moyenne (%)']]\n",
    "\n",
    "#Top 10 des pays pour les aides alimentaires reçues de 2013 à 2016 \n",
    "print('Résultat 9 - Top 10 des pays qui ont le plus bénéficié d’aide depuis 2013')\n",
    "print('-------------------------------------------------------------------------')\n",
    "aide_alim_pays_top10=aide_alim_pays.sort_values('Aide_alimentaire_tonnes',ascending=False).iloc[:10]\n",
    "display(aide_alim_pays_top10)\n",
    "\n"
   ]
  },
  {
   "cell_type": "code",
   "execution_count": 165,
   "id": "bc3112cc",
   "metadata": {},
   "outputs": [
    {
     "data": {
      "image/png": "[encoded data removed]",
      "text/plain": [
       "<Figure size 1296x720 with 1 Axes>"
      ]
     },
     "metadata": {
      "needs_background": "light"
     },
     "output_type": "display_data"
    }
   ],
   "source": [
    "#Remplacement de 'République populaire démocratique de Corée' par 'RPD de Corée'\n",
    "aide_alim_pays_top10.loc[aide_alim_pays_top10['Pays bénéficiaire']=='République démocratique du Congo','Pays bénéficiaire']='RD de Congo'\n",
    "\n",
    "#Ajout d'une colonne 'Aide en milliers de tonnes'\n",
    "aide_alim_pays_top10['Aide_alimentaire (milliers de tonnes)']=round(aide_alim_pays_top10['Aide_alimentaire_tonnes']/(1000),0)\n",
    "\n",
    "#Affichage d'un diagramme à barres\n",
    "plt.figure(figsize=(18,10))\n",
    "plt.bar(height=aide_alim_pays_top10['Proportion des aides mondiales (%)'],x=aide_alim_pays_top10['Pays bénéficiaire'])\n",
    "plt.title(\"Top 10 des pays qui ont le plus bénéficié d’aide depuis 2013\", fontweight='bold', fontsize=14)\n",
    "plt.ylabel('Proportion des aides mondiales (%)', fontsize=12)\n",
    "plt.ylim(0,20)\n",
    "plt.yticks([0.0,5.0,10.0,15.0,20.0])\n",
    "prop=aide_alim_pays_top10['Proportion des aides mondiales (%)'].tolist()\n",
    "for i in range(10):\n",
    "    plt.text(i-0.1,prop[i]+0.1,prop[i],fontsize=11)\n",
    "plt.show()"
   ]
  },
  {
   "cell_type": "markdown",
   "id": "a5545237",
   "metadata": {},
   "source": [
    "*Note : RD = République démocratique*"
   ]
  },
  {
   "cell_type": "markdown",
   "id": "5bc4b28f",
   "metadata": {},
   "source": [
    "- **Analyse**:\n",
    "\n",
    "Les pays qui ont bénéficié du plus d'aides alimentaires ne sont pas ceux qui ont la proportion de la population en sous-nutrition la plus forte.\n",
    "\n",
    "La Syrie, l'Ethiopie et le Yémen ont reçu depuis 2013 le plus d'aide alimentaire.\n",
    "- La Syrie est en guerre depuis 2011.\n",
    "- Une crise alimentaire en 2011 a touchée la Corne de l'Afrique (Ethiopie, Soudan du Sud, Soudan, Somalie, Kenya).\n",
    "- Le Yémen est en guerre civile depuis 2014\n",
    "\n",
    "Les aides alimentaires ont baissé de 82% de 2013 à 2016, voir [Partie 3-8- Evolution des aides alimentaires annuels](#3_8)"
   ]
  },
  {
   "cell_type": "markdown",
   "id": "036b8a33",
   "metadata": {},
   "source": [
    "### Question 10 - Pays ayant le plus/le moins de disponibilité/habitant<a class=\"anchor\" id=\"question10\"></a>"
   ]
  },
  {
   "cell_type": "code",
   "execution_count": 166,
   "id": "8b08b842",
   "metadata": {
    "scrolled": false
   },
   "outputs": [
    {
     "name": "stdout",
     "output_type": "stream",
     "text": [
      "Résultat 10.1 - Top 10 des pays  ayant le plus de disponibilité/habitant (année 2013)\n",
      "-------------------------------------------------------------------------------------\n"
     ]
    },
    {
     "data": {
      "text/html": [
       "<div>\n",
       "<style scoped>\n",
       "    .dataframe tbody tr th:only-of-type {\n",
       "        vertical-align: middle;\n",
       "    }\n",
       "\n",
       "    .dataframe tbody tr th {\n",
       "        vertical-align: top;\n",
       "    }\n",
       "\n",
       "    .dataframe thead th {\n",
       "        text-align: right;\n",
       "    }\n",
       "</style>\n",
       "<table border=\"1\" class=\"dataframe\">\n",
       "  <thead>\n",
       "    <tr style=\"text-align: right;\">\n",
       "      <th></th>\n",
       "      <th>Zone</th>\n",
       "      <th>Disponibilité alimentaire (cal/personne/jour)</th>\n",
       "      <th>Population sous alimentée (%)</th>\n",
       "    </tr>\n",
       "  </thead>\n",
       "  <tbody>\n",
       "    <tr>\n",
       "      <th>11</th>\n",
       "      <td>Autriche</td>\n",
       "      <td>3770.0</td>\n",
       "      <td>NaN</td>\n",
       "    </tr>\n",
       "    <tr>\n",
       "      <th>16</th>\n",
       "      <td>Belgique</td>\n",
       "      <td>3737.0</td>\n",
       "      <td>NaN</td>\n",
       "    </tr>\n",
       "    <tr>\n",
       "      <th>159</th>\n",
       "      <td>Turquie</td>\n",
       "      <td>3708.0</td>\n",
       "      <td>NaN</td>\n",
       "    </tr>\n",
       "    <tr>\n",
       "      <th>171</th>\n",
       "      <td>États-Unis d'Amérique</td>\n",
       "      <td>3682.0</td>\n",
       "      <td>NaN</td>\n",
       "    </tr>\n",
       "    <tr>\n",
       "      <th>74</th>\n",
       "      <td>Israël</td>\n",
       "      <td>3610.0</td>\n",
       "      <td>NaN</td>\n",
       "    </tr>\n",
       "    <tr>\n",
       "      <th>72</th>\n",
       "      <td>Irlande</td>\n",
       "      <td>3602.0</td>\n",
       "      <td>NaN</td>\n",
       "    </tr>\n",
       "    <tr>\n",
       "      <th>75</th>\n",
       "      <td>Italie</td>\n",
       "      <td>3578.0</td>\n",
       "      <td>NaN</td>\n",
       "    </tr>\n",
       "    <tr>\n",
       "      <th>89</th>\n",
       "      <td>Luxembourg</td>\n",
       "      <td>3540.0</td>\n",
       "      <td>NaN</td>\n",
       "    </tr>\n",
       "    <tr>\n",
       "      <th>168</th>\n",
       "      <td>Égypte</td>\n",
       "      <td>3518.0</td>\n",
       "      <td>4.77</td>\n",
       "    </tr>\n",
       "    <tr>\n",
       "      <th>4</th>\n",
       "      <td>Allemagne</td>\n",
       "      <td>3503.0</td>\n",
       "      <td>NaN</td>\n",
       "    </tr>\n",
       "  </tbody>\n",
       "</table>\n",
       "</div>"
      ],
      "text/plain": [
       "                      Zone  Disponibilité alimentaire (cal/personne/jour)  \\\n",
       "11                Autriche                                         3770.0   \n",
       "16                Belgique                                         3737.0   \n",
       "159                Turquie                                         3708.0   \n",
       "171  États-Unis d'Amérique                                         3682.0   \n",
       "74                  Israël                                         3610.0   \n",
       "72                 Irlande                                         3602.0   \n",
       "75                  Italie                                         3578.0   \n",
       "89              Luxembourg                                         3540.0   \n",
       "168                 Égypte                                         3518.0   \n",
       "4                Allemagne                                         3503.0   \n",
       "\n",
       "     Population sous alimentée (%)  \n",
       "11                             NaN  \n",
       "16                             NaN  \n",
       "159                            NaN  \n",
       "171                            NaN  \n",
       "74                             NaN  \n",
       "72                             NaN  \n",
       "75                             NaN  \n",
       "89                             NaN  \n",
       "168                           4.77  \n",
       "4                              NaN  "
      ]
     },
     "execution_count": 166,
     "metadata": {},
     "output_type": "execute_result"
    }
   ],
   "source": [
    "#Aggrégation par zone\n",
    "dispo_alim_hab=dispo_alim.groupby('Zone').sum()\n",
    "\n",
    "#Données de population pour l'année 2017\n",
    "pop_2017=dfpop.loc[dfpop['Année']==2017]\n",
    "\n",
    "#Jointure entre la dispo alimentaire et les données de population\n",
    "dispo_alim_hab=pd.merge(dispo_alim_hab,pop_2017,on='Zone',how='left')\n",
    "\n",
    "#tri sur la colonne 'Disponibilité alimentaire (cal/personne/jour)'\n",
    "dispo_alim_hab=dispo_alim_hab.sort_values('Disponibilité alimentaire (cal/personne/jour)', ascending=False)\n",
    "\n",
    "#Affichage des résultats\n",
    "print('Résultat 10.1 - Top 10 des pays  ayant le plus de disponibilité/habitant (année 2013)')\n",
    "print('-------------------------------------------------------------------------------------')\n",
    "dispo_alim_hab[['Zone','Disponibilité alimentaire (cal/personne/jour)','Population sous alimentée (%)']].head(10)\n"
   ]
  },
  {
   "cell_type": "code",
   "execution_count": 167,
   "id": "446f6e66",
   "metadata": {},
   "outputs": [
    {
     "name": "stdout",
     "output_type": "stream",
     "text": [
      "Résultat 10.2 - Top 10 des pays ayant le moins de disponibilité/habitant (année 2013)\n",
      "-------------------------------------------------------------------------------------\n"
     ]
    },
    {
     "data": {
      "text/html": [
       "<div>\n",
       "<style scoped>\n",
       "    .dataframe tbody tr th:only-of-type {\n",
       "        vertical-align: middle;\n",
       "    }\n",
       "\n",
       "    .dataframe tbody tr th {\n",
       "        vertical-align: top;\n",
       "    }\n",
       "\n",
       "    .dataframe thead th {\n",
       "        text-align: right;\n",
       "    }\n",
       "</style>\n",
       "<table border=\"1\" class=\"dataframe\">\n",
       "  <thead>\n",
       "    <tr style=\"text-align: right;\">\n",
       "      <th></th>\n",
       "      <th>Zone</th>\n",
       "      <th>Disponibilité alimentaire (cal/personne/jour)</th>\n",
       "      <th>Population sous alimentée (%)</th>\n",
       "    </tr>\n",
       "  </thead>\n",
       "  <tbody>\n",
       "    <tr>\n",
       "      <th>172</th>\n",
       "      <td>Éthiopie</td>\n",
       "      <td>2129.0</td>\n",
       "      <td>19.83</td>\n",
       "    </tr>\n",
       "    <tr>\n",
       "      <th>114</th>\n",
       "      <td>Ouganda</td>\n",
       "      <td>2126.0</td>\n",
       "      <td>NaN</td>\n",
       "    </tr>\n",
       "    <tr>\n",
       "      <th>167</th>\n",
       "      <td>Zimbabwe</td>\n",
       "      <td>2113.0</td>\n",
       "      <td>NaN</td>\n",
       "    </tr>\n",
       "    <tr>\n",
       "      <th>151</th>\n",
       "      <td>Tchad</td>\n",
       "      <td>2109.0</td>\n",
       "      <td>37.95</td>\n",
       "    </tr>\n",
       "    <tr>\n",
       "      <th>133</th>\n",
       "      <td>République populaire démocratique de Corée</td>\n",
       "      <td>2093.0</td>\n",
       "      <td>47.19</td>\n",
       "    </tr>\n",
       "    <tr>\n",
       "      <th>65</th>\n",
       "      <td>Haïti</td>\n",
       "      <td>2089.0</td>\n",
       "      <td>48.27</td>\n",
       "    </tr>\n",
       "    <tr>\n",
       "      <th>0</th>\n",
       "      <td>Afghanistan</td>\n",
       "      <td>2087.0</td>\n",
       "      <td>28.93</td>\n",
       "    </tr>\n",
       "    <tr>\n",
       "      <th>91</th>\n",
       "      <td>Madagascar</td>\n",
       "      <td>2056.0</td>\n",
       "      <td>41.06</td>\n",
       "    </tr>\n",
       "    <tr>\n",
       "      <th>166</th>\n",
       "      <td>Zambie</td>\n",
       "      <td>1924.0</td>\n",
       "      <td>NaN</td>\n",
       "    </tr>\n",
       "    <tr>\n",
       "      <th>128</th>\n",
       "      <td>République centrafricaine</td>\n",
       "      <td>1879.0</td>\n",
       "      <td>NaN</td>\n",
       "    </tr>\n",
       "  </tbody>\n",
       "</table>\n",
       "</div>"
      ],
      "text/plain": [
       "                                           Zone  \\\n",
       "172                                    Éthiopie   \n",
       "114                                     Ouganda   \n",
       "167                                    Zimbabwe   \n",
       "151                                       Tchad   \n",
       "133  République populaire démocratique de Corée   \n",
       "65                                        Haïti   \n",
       "0                                   Afghanistan   \n",
       "91                                   Madagascar   \n",
       "166                                      Zambie   \n",
       "128                   République centrafricaine   \n",
       "\n",
       "     Disponibilité alimentaire (cal/personne/jour)  \\\n",
       "172                                         2129.0   \n",
       "114                                         2126.0   \n",
       "167                                         2113.0   \n",
       "151                                         2109.0   \n",
       "133                                         2093.0   \n",
       "65                                          2089.0   \n",
       "0                                           2087.0   \n",
       "91                                          2056.0   \n",
       "166                                         1924.0   \n",
       "128                                         1879.0   \n",
       "\n",
       "     Population sous alimentée (%)  \n",
       "172                          19.83  \n",
       "114                            NaN  \n",
       "167                            NaN  \n",
       "151                          37.95  \n",
       "133                          47.19  \n",
       "65                           48.27  \n",
       "0                            28.93  \n",
       "91                           41.06  \n",
       "166                            NaN  \n",
       "128                            NaN  "
      ]
     },
     "execution_count": 167,
     "metadata": {},
     "output_type": "execute_result"
    }
   ],
   "source": [
    "#Affichage des résultats\n",
    "print('Résultat 10.2 - Top 10 des pays ayant le moins de disponibilité/habitant (année 2013)')\n",
    "print('-------------------------------------------------------------------------------------')\n",
    "dispo_alim_hab[['Zone','Disponibilité alimentaire (cal/personne/jour)','Population sous alimentée (%)']].tail(10)"
   ]
  },
  {
   "cell_type": "markdown",
   "id": "7b310860",
   "metadata": {},
   "source": [
    "**Analyse** : \n",
    "\n",
    "- Pays ayant le moins de disponibilité par habitant\n",
    "    - 6 pays sur 10 sont européens\n",
    "    - L'Egypte fait partie des pays ayant le plus de disponibilité par habitant et pourtant, 5% de la population du pays est sous-alimentée.\n",
    "- Pays ayant le moins de disponibilité par habitant :\n",
    "    - plus d'un quart de la population en sous-nutrition.\n",
    "- 11,5% des pays ont un apport journalier inférieur au besoin moyen de 2250 kcal/jour/habitant, voir [Partie 3-10- Répartion de la disponibilité alimentaire par habitant](#3_10)"
   ]
  },
  {
   "attachments": {},
   "cell_type": "markdown",
   "id": "24c2b38c",
   "metadata": {},
   "source": [
    "## *Partie 3 - Exploration des données*<a class=\"anchor\" id=\"partie3\"></a>\n",
    "\n",
    "Sont indiquées ici les analyses complémentaires réalisées sur les données :\n",
    "* [1- Informations sur les données](#3_1)\n",
    "* [2- Liste des produits et des pays bénéficiaires](#3_2)\n",
    "* [3- Proportion de la disponibilité alimentaire mondiale d'origine animale et végétale](#3_3)\n",
    "* [4- Produits contribuant le plus aux apports alimentaires et leur zone de production](#3_4)\n",
    "* [5- Top des produits destinés à l'alimentation animale](#3_5)\n",
    "* [6- Evolution de la proportion de la population mondiale en sous-nutrition](#3_6)\n",
    "* [7- Répartition de la proportion de population en sous-nutrition en 2017](#3_7)\n",
    "* [8- Evolution des aides alimentaires annuels](#3_8)\n",
    "* [9- Aides alimentaires par catégories de produits](#3_9)\n",
    "* [10- Répartion de la disponibilité alimentaire par habitant](#3_10)\n",
    "* [11- Zoom sur le top des pays en sous-nutrition : Haïti, RPD de Corée et Madagascar](#3_11)\n",
    "\n",
    "**Analyses à réaliser pour aller plus loin :**\n",
    "- Evaluation du gaspillage alimentaire\n",
    "- Produits destinés à l’alimentation animale / pays producteurs / sous alimentation des pays producteurs\n",
    "    - Analyse de la production, l'importation et l'exportation des autres produits en Thaïlande\n",
    "    - Autres pays producteurs de manioc : rapport production / exportation\n",
    "- Rentabilité : Apport des aliments d’origine animale versus alimentation animale\n",
    "- Prévision de sous-nutrition pour les années à venir : impact des changements climatiques, de la guerre en Ukraine\n",
    "- Evolution de la disponibilité alimentaire en fonction des années et lien avec la baisse des aides alimentaires"
   ]
  },
  {
   "cell_type": "markdown",
   "id": "4aea610c",
   "metadata": {},
   "source": [
    "### 1- Informations sur les données<a class=\"anchor\" id=\"3_1\"></a>"
   ]
  },
  {
   "cell_type": "code",
   "execution_count": 168,
   "id": "eb12552c",
   "metadata": {
    "scrolled": false
   },
   "outputs": [
    {
     "data": {
      "text/html": [
       "<div>\n",
       "<style scoped>\n",
       "    .dataframe tbody tr th:only-of-type {\n",
       "        vertical-align: middle;\n",
       "    }\n",
       "\n",
       "    .dataframe tbody tr th {\n",
       "        vertical-align: top;\n",
       "    }\n",
       "\n",
       "    .dataframe thead th {\n",
       "        text-align: right;\n",
       "    }\n",
       "</style>\n",
       "<table border=\"1\" class=\"dataframe\">\n",
       "  <thead>\n",
       "    <tr style=\"text-align: right;\">\n",
       "      <th></th>\n",
       "      <th>Zone</th>\n",
       "      <th>Produit</th>\n",
       "      <th>Origine</th>\n",
       "      <th>Aliments pour animaux</th>\n",
       "      <th>Autres Utilisations</th>\n",
       "      <th>Disponibilité alimentaire (cal/personne/jour)</th>\n",
       "      <th>Disponibilité alimentaire en quantité (kg/personne/an)</th>\n",
       "      <th>Disponibilité de matière grasse en quantité (g/personne/jour)</th>\n",
       "      <th>Disponibilité de protéines en quantité (g/personne/jour)</th>\n",
       "      <th>Disponibilité intérieure</th>\n",
       "      <th>Exportations - Quantité</th>\n",
       "      <th>Importations - Quantité</th>\n",
       "      <th>Nourriture</th>\n",
       "      <th>Pertes</th>\n",
       "      <th>Production</th>\n",
       "      <th>Semences</th>\n",
       "      <th>Traitement</th>\n",
       "      <th>Variation de stock</th>\n",
       "    </tr>\n",
       "  </thead>\n",
       "  <tbody>\n",
       "    <tr>\n",
       "      <th>count</th>\n",
       "      <td>15605</td>\n",
       "      <td>15605</td>\n",
       "      <td>15605</td>\n",
       "      <td>15605.000000</td>\n",
       "      <td>15605.000000</td>\n",
       "      <td>14241.000000</td>\n",
       "      <td>14015.000000</td>\n",
       "      <td>11794.000000</td>\n",
       "      <td>11561.000000</td>\n",
       "      <td>15605.000000</td>\n",
       "      <td>15605.000000</td>\n",
       "      <td>15605.000000</td>\n",
       "      <td>15605.000000</td>\n",
       "      <td>15605.000000</td>\n",
       "      <td>15605.000000</td>\n",
       "      <td>15605.000000</td>\n",
       "      <td>15605.000000</td>\n",
       "      <td>15605.000000</td>\n",
       "    </tr>\n",
       "    <tr>\n",
       "      <th>unique</th>\n",
       "      <td>174</td>\n",
       "      <td>98</td>\n",
       "      <td>2</td>\n",
       "      <td>NaN</td>\n",
       "      <td>NaN</td>\n",
       "      <td>NaN</td>\n",
       "      <td>NaN</td>\n",
       "      <td>NaN</td>\n",
       "      <td>NaN</td>\n",
       "      <td>NaN</td>\n",
       "      <td>NaN</td>\n",
       "      <td>NaN</td>\n",
       "      <td>NaN</td>\n",
       "      <td>NaN</td>\n",
       "      <td>NaN</td>\n",
       "      <td>NaN</td>\n",
       "      <td>NaN</td>\n",
       "      <td>NaN</td>\n",
       "    </tr>\n",
       "    <tr>\n",
       "      <th>top</th>\n",
       "      <td>Inde</td>\n",
       "      <td>Abats Comestible</td>\n",
       "      <td>vegetale</td>\n",
       "      <td>NaN</td>\n",
       "      <td>NaN</td>\n",
       "      <td>NaN</td>\n",
       "      <td>NaN</td>\n",
       "      <td>NaN</td>\n",
       "      <td>NaN</td>\n",
       "      <td>NaN</td>\n",
       "      <td>NaN</td>\n",
       "      <td>NaN</td>\n",
       "      <td>NaN</td>\n",
       "      <td>NaN</td>\n",
       "      <td>NaN</td>\n",
       "      <td>NaN</td>\n",
       "      <td>NaN</td>\n",
       "      <td>NaN</td>\n",
       "    </tr>\n",
       "    <tr>\n",
       "      <th>freq</th>\n",
       "      <td>97</td>\n",
       "      <td>174</td>\n",
       "      <td>11896</td>\n",
       "      <td>NaN</td>\n",
       "      <td>NaN</td>\n",
       "      <td>NaN</td>\n",
       "      <td>NaN</td>\n",
       "      <td>NaN</td>\n",
       "      <td>NaN</td>\n",
       "      <td>NaN</td>\n",
       "      <td>NaN</td>\n",
       "      <td>NaN</td>\n",
       "      <td>NaN</td>\n",
       "      <td>NaN</td>\n",
       "      <td>NaN</td>\n",
       "      <td>NaN</td>\n",
       "      <td>NaN</td>\n",
       "      <td>NaN</td>\n",
       "    </tr>\n",
       "    <tr>\n",
       "      <th>mean</th>\n",
       "      <td>NaN</td>\n",
       "      <td>NaN</td>\n",
       "      <td>NaN</td>\n",
       "      <td>83.578661</td>\n",
       "      <td>55.432426</td>\n",
       "      <td>34.789832</td>\n",
       "      <td>8.719368</td>\n",
       "      <td>1.283111</td>\n",
       "      <td>1.223608</td>\n",
       "      <td>631.143480</td>\n",
       "      <td>86.649023</td>\n",
       "      <td>83.053701</td>\n",
       "      <td>312.480487</td>\n",
       "      <td>29.073887</td>\n",
       "      <td>641.440564</td>\n",
       "      <td>9.912272</td>\n",
       "      <td>141.280807</td>\n",
       "      <td>-6.690292</td>\n",
       "    </tr>\n",
       "    <tr>\n",
       "      <th>std</th>\n",
       "      <td>NaN</td>\n",
       "      <td>NaN</td>\n",
       "      <td>NaN</td>\n",
       "      <td>1779.289153</td>\n",
       "      <td>3013.629812</td>\n",
       "      <td>107.287655</td>\n",
       "      <td>24.618223</td>\n",
       "      <td>3.680399</td>\n",
       "      <td>3.598686</td>\n",
       "      <td>9002.563666</td>\n",
       "      <td>933.435208</td>\n",
       "      <td>700.099451</td>\n",
       "      <td>4242.854724</td>\n",
       "      <td>584.672236</td>\n",
       "      <td>9270.864198</td>\n",
       "      <td>194.897843</td>\n",
       "      <td>3992.567621</td>\n",
       "      <td>362.380787</td>\n",
       "    </tr>\n",
       "    <tr>\n",
       "      <th>min</th>\n",
       "      <td>NaN</td>\n",
       "      <td>NaN</td>\n",
       "      <td>NaN</td>\n",
       "      <td>0.000000</td>\n",
       "      <td>0.000000</td>\n",
       "      <td>-21.000000</td>\n",
       "      <td>-1.930000</td>\n",
       "      <td>-0.030000</td>\n",
       "      <td>-0.370000</td>\n",
       "      <td>-3430.000000</td>\n",
       "      <td>-41.000000</td>\n",
       "      <td>-201.000000</td>\n",
       "      <td>-246.000000</td>\n",
       "      <td>0.000000</td>\n",
       "      <td>0.000000</td>\n",
       "      <td>0.000000</td>\n",
       "      <td>-19.000000</td>\n",
       "      <td>-39863.000000</td>\n",
       "    </tr>\n",
       "    <tr>\n",
       "      <th>25%</th>\n",
       "      <td>NaN</td>\n",
       "      <td>NaN</td>\n",
       "      <td>NaN</td>\n",
       "      <td>0.000000</td>\n",
       "      <td>0.000000</td>\n",
       "      <td>0.000000</td>\n",
       "      <td>0.060000</td>\n",
       "      <td>0.010000</td>\n",
       "      <td>0.010000</td>\n",
       "      <td>0.000000</td>\n",
       "      <td>0.000000</td>\n",
       "      <td>0.000000</td>\n",
       "      <td>0.000000</td>\n",
       "      <td>0.000000</td>\n",
       "      <td>0.000000</td>\n",
       "      <td>0.000000</td>\n",
       "      <td>0.000000</td>\n",
       "      <td>0.000000</td>\n",
       "    </tr>\n",
       "    <tr>\n",
       "      <th>50%</th>\n",
       "      <td>NaN</td>\n",
       "      <td>NaN</td>\n",
       "      <td>NaN</td>\n",
       "      <td>0.000000</td>\n",
       "      <td>0.000000</td>\n",
       "      <td>4.000000</td>\n",
       "      <td>0.830000</td>\n",
       "      <td>0.080000</td>\n",
       "      <td>0.100000</td>\n",
       "      <td>6.000000</td>\n",
       "      <td>0.000000</td>\n",
       "      <td>1.000000</td>\n",
       "      <td>3.000000</td>\n",
       "      <td>0.000000</td>\n",
       "      <td>0.000000</td>\n",
       "      <td>0.000000</td>\n",
       "      <td>0.000000</td>\n",
       "      <td>0.000000</td>\n",
       "    </tr>\n",
       "    <tr>\n",
       "      <th>75%</th>\n",
       "      <td>NaN</td>\n",
       "      <td>NaN</td>\n",
       "      <td>NaN</td>\n",
       "      <td>0.000000</td>\n",
       "      <td>0.000000</td>\n",
       "      <td>21.000000</td>\n",
       "      <td>5.190000</td>\n",
       "      <td>0.630000</td>\n",
       "      <td>0.660000</td>\n",
       "      <td>73.000000</td>\n",
       "      <td>4.000000</td>\n",
       "      <td>16.000000</td>\n",
       "      <td>40.000000</td>\n",
       "      <td>0.000000</td>\n",
       "      <td>42.000000</td>\n",
       "      <td>0.000000</td>\n",
       "      <td>0.000000</td>\n",
       "      <td>0.000000</td>\n",
       "    </tr>\n",
       "    <tr>\n",
       "      <th>max</th>\n",
       "      <td>NaN</td>\n",
       "      <td>NaN</td>\n",
       "      <td>NaN</td>\n",
       "      <td>150000.000000</td>\n",
       "      <td>347309.000000</td>\n",
       "      <td>1711.000000</td>\n",
       "      <td>430.760000</td>\n",
       "      <td>60.760000</td>\n",
       "      <td>54.970000</td>\n",
       "      <td>739267.000000</td>\n",
       "      <td>42797.000000</td>\n",
       "      <td>63381.000000</td>\n",
       "      <td>426850.000000</td>\n",
       "      <td>55047.000000</td>\n",
       "      <td>739267.000000</td>\n",
       "      <td>17060.000000</td>\n",
       "      <td>326711.000000</td>\n",
       "      <td>5284.000000</td>\n",
       "    </tr>\n",
       "  </tbody>\n",
       "</table>\n",
       "</div>"
      ],
      "text/plain": [
       "         Zone           Produit   Origine  Aliments pour animaux  \\\n",
       "count   15605             15605     15605           15605.000000   \n",
       "unique    174                98         2                    NaN   \n",
       "top      Inde  Abats Comestible  vegetale                    NaN   \n",
       "freq       97               174     11896                    NaN   \n",
       "mean      NaN               NaN       NaN              83.578661   \n",
       "std       NaN               NaN       NaN            1779.289153   \n",
       "min       NaN               NaN       NaN               0.000000   \n",
       "25%       NaN               NaN       NaN               0.000000   \n",
       "50%       NaN               NaN       NaN               0.000000   \n",
       "75%       NaN               NaN       NaN               0.000000   \n",
       "max       NaN               NaN       NaN          150000.000000   \n",
       "\n",
       "        Autres Utilisations  Disponibilité alimentaire (cal/personne/jour)  \\\n",
       "count          15605.000000                                   14241.000000   \n",
       "unique                  NaN                                            NaN   \n",
       "top                     NaN                                            NaN   \n",
       "freq                    NaN                                            NaN   \n",
       "mean              55.432426                                      34.789832   \n",
       "std             3013.629812                                     107.287655   \n",
       "min                0.000000                                     -21.000000   \n",
       "25%                0.000000                                       0.000000   \n",
       "50%                0.000000                                       4.000000   \n",
       "75%                0.000000                                      21.000000   \n",
       "max           347309.000000                                    1711.000000   \n",
       "\n",
       "        Disponibilité alimentaire en quantité (kg/personne/an)  \\\n",
       "count                                        14015.000000        \n",
       "unique                                                NaN        \n",
       "top                                                   NaN        \n",
       "freq                                                  NaN        \n",
       "mean                                             8.719368        \n",
       "std                                             24.618223        \n",
       "min                                             -1.930000        \n",
       "25%                                              0.060000        \n",
       "50%                                              0.830000        \n",
       "75%                                              5.190000        \n",
       "max                                            430.760000        \n",
       "\n",
       "        Disponibilité de matière grasse en quantité (g/personne/jour)  \\\n",
       "count                                        11794.000000               \n",
       "unique                                                NaN               \n",
       "top                                                   NaN               \n",
       "freq                                                  NaN               \n",
       "mean                                             1.283111               \n",
       "std                                              3.680399               \n",
       "min                                             -0.030000               \n",
       "25%                                              0.010000               \n",
       "50%                                              0.080000               \n",
       "75%                                              0.630000               \n",
       "max                                             60.760000               \n",
       "\n",
       "        Disponibilité de protéines en quantité (g/personne/jour)  \\\n",
       "count                                        11561.000000          \n",
       "unique                                                NaN          \n",
       "top                                                   NaN          \n",
       "freq                                                  NaN          \n",
       "mean                                             1.223608          \n",
       "std                                              3.598686          \n",
       "min                                             -0.370000          \n",
       "25%                                              0.010000          \n",
       "50%                                              0.100000          \n",
       "75%                                              0.660000          \n",
       "max                                             54.970000          \n",
       "\n",
       "        Disponibilité intérieure  Exportations - Quantité  \\\n",
       "count               15605.000000             15605.000000   \n",
       "unique                       NaN                      NaN   \n",
       "top                          NaN                      NaN   \n",
       "freq                         NaN                      NaN   \n",
       "mean                  631.143480                86.649023   \n",
       "std                  9002.563666               933.435208   \n",
       "min                 -3430.000000               -41.000000   \n",
       "25%                     0.000000                 0.000000   \n",
       "50%                     6.000000                 0.000000   \n",
       "75%                    73.000000                 4.000000   \n",
       "max                739267.000000             42797.000000   \n",
       "\n",
       "        Importations - Quantité     Nourriture        Pertes     Production  \\\n",
       "count              15605.000000   15605.000000  15605.000000   15605.000000   \n",
       "unique                      NaN            NaN           NaN            NaN   \n",
       "top                         NaN            NaN           NaN            NaN   \n",
       "freq                        NaN            NaN           NaN            NaN   \n",
       "mean                  83.053701     312.480487     29.073887     641.440564   \n",
       "std                  700.099451    4242.854724    584.672236    9270.864198   \n",
       "min                 -201.000000    -246.000000      0.000000       0.000000   \n",
       "25%                    0.000000       0.000000      0.000000       0.000000   \n",
       "50%                    1.000000       3.000000      0.000000       0.000000   \n",
       "75%                   16.000000      40.000000      0.000000      42.000000   \n",
       "max                63381.000000  426850.000000  55047.000000  739267.000000   \n",
       "\n",
       "            Semences     Traitement  Variation de stock  \n",
       "count   15605.000000   15605.000000        15605.000000  \n",
       "unique           NaN            NaN                 NaN  \n",
       "top              NaN            NaN                 NaN  \n",
       "freq             NaN            NaN                 NaN  \n",
       "mean        9.912272     141.280807           -6.690292  \n",
       "std       194.897843    3992.567621          362.380787  \n",
       "min         0.000000     -19.000000       -39863.000000  \n",
       "25%         0.000000       0.000000            0.000000  \n",
       "50%         0.000000       0.000000            0.000000  \n",
       "75%         0.000000       0.000000            0.000000  \n",
       "max     17060.000000  326711.000000         5284.000000  "
      ]
     },
     "execution_count": 168,
     "metadata": {},
     "output_type": "execute_result"
    }
   ],
   "source": [
    "dispo_alim.describe(include='all')"
   ]
  },
  {
   "cell_type": "code",
   "execution_count": 169,
   "id": "02be0e53",
   "metadata": {
    "scrolled": true
   },
   "outputs": [
    {
     "data": {
      "text/html": [
       "<div>\n",
       "<style scoped>\n",
       "    .dataframe tbody tr th:only-of-type {\n",
       "        vertical-align: middle;\n",
       "    }\n",
       "\n",
       "    .dataframe tbody tr th {\n",
       "        vertical-align: top;\n",
       "    }\n",
       "\n",
       "    .dataframe thead th {\n",
       "        text-align: right;\n",
       "    }\n",
       "</style>\n",
       "<table border=\"1\" class=\"dataframe\">\n",
       "  <thead>\n",
       "    <tr style=\"text-align: right;\">\n",
       "      <th></th>\n",
       "      <th>Pays bénéficiaire</th>\n",
       "      <th>Année</th>\n",
       "      <th>Produit</th>\n",
       "      <th>Aide_alimentaire_tonnes</th>\n",
       "    </tr>\n",
       "  </thead>\n",
       "  <tbody>\n",
       "    <tr>\n",
       "      <th>count</th>\n",
       "      <td>1475</td>\n",
       "      <td>1475.000000</td>\n",
       "      <td>1475</td>\n",
       "      <td>1475.000000</td>\n",
       "    </tr>\n",
       "    <tr>\n",
       "      <th>unique</th>\n",
       "      <td>76</td>\n",
       "      <td>NaN</td>\n",
       "      <td>16</td>\n",
       "      <td>NaN</td>\n",
       "    </tr>\n",
       "    <tr>\n",
       "      <th>top</th>\n",
       "      <td>Algérie</td>\n",
       "      <td>NaN</td>\n",
       "      <td>Non-céréales</td>\n",
       "      <td>NaN</td>\n",
       "    </tr>\n",
       "    <tr>\n",
       "      <th>freq</th>\n",
       "      <td>39</td>\n",
       "      <td>NaN</td>\n",
       "      <td>220</td>\n",
       "      <td>NaN</td>\n",
       "    </tr>\n",
       "    <tr>\n",
       "      <th>mean</th>\n",
       "      <td>NaN</td>\n",
       "      <td>2014.054237</td>\n",
       "      <td>NaN</td>\n",
       "      <td>7481.966780</td>\n",
       "    </tr>\n",
       "    <tr>\n",
       "      <th>std</th>\n",
       "      <td>NaN</td>\n",
       "      <td>0.946916</td>\n",
       "      <td>NaN</td>\n",
       "      <td>23339.531424</td>\n",
       "    </tr>\n",
       "    <tr>\n",
       "      <th>min</th>\n",
       "      <td>NaN</td>\n",
       "      <td>2013.000000</td>\n",
       "      <td>NaN</td>\n",
       "      <td>0.000000</td>\n",
       "    </tr>\n",
       "    <tr>\n",
       "      <th>25%</th>\n",
       "      <td>NaN</td>\n",
       "      <td>2013.000000</td>\n",
       "      <td>NaN</td>\n",
       "      <td>287.500000</td>\n",
       "    </tr>\n",
       "    <tr>\n",
       "      <th>50%</th>\n",
       "      <td>NaN</td>\n",
       "      <td>2014.000000</td>\n",
       "      <td>NaN</td>\n",
       "      <td>1178.000000</td>\n",
       "    </tr>\n",
       "    <tr>\n",
       "      <th>75%</th>\n",
       "      <td>NaN</td>\n",
       "      <td>2015.000000</td>\n",
       "      <td>NaN</td>\n",
       "      <td>4334.500000</td>\n",
       "    </tr>\n",
       "    <tr>\n",
       "      <th>max</th>\n",
       "      <td>NaN</td>\n",
       "      <td>2016.000000</td>\n",
       "      <td>NaN</td>\n",
       "      <td>265013.000000</td>\n",
       "    </tr>\n",
       "  </tbody>\n",
       "</table>\n",
       "</div>"
      ],
      "text/plain": [
       "       Pays bénéficiaire        Année       Produit  Aide_alimentaire_tonnes\n",
       "count               1475  1475.000000          1475              1475.000000\n",
       "unique                76          NaN            16                      NaN\n",
       "top              Algérie          NaN  Non-céréales                      NaN\n",
       "freq                  39          NaN           220                      NaN\n",
       "mean                 NaN  2014.054237           NaN              7481.966780\n",
       "std                  NaN     0.946916           NaN             23339.531424\n",
       "min                  NaN  2013.000000           NaN                 0.000000\n",
       "25%                  NaN  2013.000000           NaN               287.500000\n",
       "50%                  NaN  2014.000000           NaN              1178.000000\n",
       "75%                  NaN  2015.000000           NaN              4334.500000\n",
       "max                  NaN  2016.000000           NaN            265013.000000"
      ]
     },
     "execution_count": 169,
     "metadata": {},
     "output_type": "execute_result"
    }
   ],
   "source": [
    "aide_alim.describe(include='all')"
   ]
  },
  {
   "cell_type": "code",
   "execution_count": 170,
   "id": "125331ae",
   "metadata": {},
   "outputs": [
    {
     "data": {
      "text/html": [
       "<div>\n",
       "<style scoped>\n",
       "    .dataframe tbody tr th:only-of-type {\n",
       "        vertical-align: middle;\n",
       "    }\n",
       "\n",
       "    .dataframe tbody tr th {\n",
       "        vertical-align: top;\n",
       "    }\n",
       "\n",
       "    .dataframe thead th {\n",
       "        text-align: right;\n",
       "    }\n",
       "</style>\n",
       "<table border=\"1\" class=\"dataframe\">\n",
       "  <thead>\n",
       "    <tr style=\"text-align: right;\">\n",
       "      <th></th>\n",
       "      <th>Zone</th>\n",
       "      <th>Année</th>\n",
       "      <th>Population_milliers</th>\n",
       "    </tr>\n",
       "  </thead>\n",
       "  <tbody>\n",
       "    <tr>\n",
       "      <th>count</th>\n",
       "      <td>1416</td>\n",
       "      <td>1416.000000</td>\n",
       "      <td>1.416000e+03</td>\n",
       "    </tr>\n",
       "    <tr>\n",
       "      <th>unique</th>\n",
       "      <td>236</td>\n",
       "      <td>NaN</td>\n",
       "      <td>NaN</td>\n",
       "    </tr>\n",
       "    <tr>\n",
       "      <th>top</th>\n",
       "      <td>Afghanistan</td>\n",
       "      <td>NaN</td>\n",
       "      <td>NaN</td>\n",
       "    </tr>\n",
       "    <tr>\n",
       "      <th>freq</th>\n",
       "      <td>6</td>\n",
       "      <td>NaN</td>\n",
       "      <td>NaN</td>\n",
       "    </tr>\n",
       "    <tr>\n",
       "      <th>mean</th>\n",
       "      <td>NaN</td>\n",
       "      <td>2015.500000</td>\n",
       "      <td>3.144793e+04</td>\n",
       "    </tr>\n",
       "    <tr>\n",
       "      <th>std</th>\n",
       "      <td>NaN</td>\n",
       "      <td>1.708428</td>\n",
       "      <td>1.300812e+05</td>\n",
       "    </tr>\n",
       "    <tr>\n",
       "      <th>min</th>\n",
       "      <td>NaN</td>\n",
       "      <td>2013.000000</td>\n",
       "      <td>7.930000e-01</td>\n",
       "    </tr>\n",
       "    <tr>\n",
       "      <th>25%</th>\n",
       "      <td>NaN</td>\n",
       "      <td>2014.000000</td>\n",
       "      <td>3.783410e+02</td>\n",
       "    </tr>\n",
       "    <tr>\n",
       "      <th>50%</th>\n",
       "      <td>NaN</td>\n",
       "      <td>2015.500000</td>\n",
       "      <td>5.126480e+03</td>\n",
       "    </tr>\n",
       "    <tr>\n",
       "      <th>75%</th>\n",
       "      <td>NaN</td>\n",
       "      <td>2017.000000</td>\n",
       "      <td>1.930666e+04</td>\n",
       "    </tr>\n",
       "    <tr>\n",
       "      <th>max</th>\n",
       "      <td>NaN</td>\n",
       "      <td>2018.000000</td>\n",
       "      <td>1.427648e+06</td>\n",
       "    </tr>\n",
       "  </tbody>\n",
       "</table>\n",
       "</div>"
      ],
      "text/plain": [
       "               Zone        Année  Population_milliers\n",
       "count          1416  1416.000000         1.416000e+03\n",
       "unique          236          NaN                  NaN\n",
       "top     Afghanistan          NaN                  NaN\n",
       "freq              6          NaN                  NaN\n",
       "mean            NaN  2015.500000         3.144793e+04\n",
       "std             NaN     1.708428         1.300812e+05\n",
       "min             NaN  2013.000000         7.930000e-01\n",
       "25%             NaN  2014.000000         3.783410e+02\n",
       "50%             NaN  2015.500000         5.126480e+03\n",
       "75%             NaN  2017.000000         1.930666e+04\n",
       "max             NaN  2018.000000         1.427648e+06"
      ]
     },
     "execution_count": 170,
     "metadata": {},
     "output_type": "execute_result"
    }
   ],
   "source": [
    "population.describe(include='all')"
   ]
  },
  {
   "cell_type": "code",
   "execution_count": 171,
   "id": "a70f63de",
   "metadata": {},
   "outputs": [
    {
     "data": {
      "text/html": [
       "<div>\n",
       "<style scoped>\n",
       "    .dataframe tbody tr th:only-of-type {\n",
       "        vertical-align: middle;\n",
       "    }\n",
       "\n",
       "    .dataframe tbody tr th {\n",
       "        vertical-align: top;\n",
       "    }\n",
       "\n",
       "    .dataframe thead th {\n",
       "        text-align: right;\n",
       "    }\n",
       "</style>\n",
       "<table border=\"1\" class=\"dataframe\">\n",
       "  <thead>\n",
       "    <tr style=\"text-align: right;\">\n",
       "      <th></th>\n",
       "      <th>Zone</th>\n",
       "      <th>Plage Année</th>\n",
       "      <th>Population_sous_alimentee_millions</th>\n",
       "      <th>Valeur_old</th>\n",
       "      <th>Année moy</th>\n",
       "    </tr>\n",
       "  </thead>\n",
       "  <tbody>\n",
       "    <tr>\n",
       "      <th>count</th>\n",
       "      <td>1218</td>\n",
       "      <td>1218</td>\n",
       "      <td>624.000000</td>\n",
       "      <td>624</td>\n",
       "      <td>1218.000000</td>\n",
       "    </tr>\n",
       "    <tr>\n",
       "      <th>unique</th>\n",
       "      <td>203</td>\n",
       "      <td>6</td>\n",
       "      <td>NaN</td>\n",
       "      <td>139</td>\n",
       "      <td>NaN</td>\n",
       "    </tr>\n",
       "    <tr>\n",
       "      <th>top</th>\n",
       "      <td>Afghanistan</td>\n",
       "      <td>2012-2014</td>\n",
       "      <td>NaN</td>\n",
       "      <td>&lt;0.1</td>\n",
       "      <td>NaN</td>\n",
       "    </tr>\n",
       "    <tr>\n",
       "      <th>freq</th>\n",
       "      <td>6</td>\n",
       "      <td>203</td>\n",
       "      <td>NaN</td>\n",
       "      <td>120</td>\n",
       "      <td>NaN</td>\n",
       "    </tr>\n",
       "    <tr>\n",
       "      <th>mean</th>\n",
       "      <td>NaN</td>\n",
       "      <td>NaN</td>\n",
       "      <td>5.104038</td>\n",
       "      <td>NaN</td>\n",
       "      <td>2015.500000</td>\n",
       "    </tr>\n",
       "    <tr>\n",
       "      <th>std</th>\n",
       "      <td>NaN</td>\n",
       "      <td>NaN</td>\n",
       "      <td>19.450783</td>\n",
       "      <td>NaN</td>\n",
       "      <td>1.708527</td>\n",
       "    </tr>\n",
       "    <tr>\n",
       "      <th>min</th>\n",
       "      <td>NaN</td>\n",
       "      <td>NaN</td>\n",
       "      <td>0.001000</td>\n",
       "      <td>NaN</td>\n",
       "      <td>2013.000000</td>\n",
       "    </tr>\n",
       "    <tr>\n",
       "      <th>25%</th>\n",
       "      <td>NaN</td>\n",
       "      <td>NaN</td>\n",
       "      <td>0.275000</td>\n",
       "      <td>NaN</td>\n",
       "      <td>2014.000000</td>\n",
       "    </tr>\n",
       "    <tr>\n",
       "      <th>50%</th>\n",
       "      <td>NaN</td>\n",
       "      <td>NaN</td>\n",
       "      <td>1.100000</td>\n",
       "      <td>NaN</td>\n",
       "      <td>2015.500000</td>\n",
       "    </tr>\n",
       "    <tr>\n",
       "      <th>75%</th>\n",
       "      <td>NaN</td>\n",
       "      <td>NaN</td>\n",
       "      <td>3.900000</td>\n",
       "      <td>NaN</td>\n",
       "      <td>2017.000000</td>\n",
       "    </tr>\n",
       "    <tr>\n",
       "      <th>max</th>\n",
       "      <td>NaN</td>\n",
       "      <td>NaN</td>\n",
       "      <td>203.800000</td>\n",
       "      <td>NaN</td>\n",
       "      <td>2018.000000</td>\n",
       "    </tr>\n",
       "  </tbody>\n",
       "</table>\n",
       "</div>"
      ],
      "text/plain": [
       "               Zone Plage Année  Population_sous_alimentee_millions  \\\n",
       "count          1218        1218                          624.000000   \n",
       "unique          203           6                                 NaN   \n",
       "top     Afghanistan   2012-2014                                 NaN   \n",
       "freq              6         203                                 NaN   \n",
       "mean            NaN         NaN                            5.104038   \n",
       "std             NaN         NaN                           19.450783   \n",
       "min             NaN         NaN                            0.001000   \n",
       "25%             NaN         NaN                            0.275000   \n",
       "50%             NaN         NaN                            1.100000   \n",
       "75%             NaN         NaN                            3.900000   \n",
       "max             NaN         NaN                          203.800000   \n",
       "\n",
       "       Valeur_old    Année moy  \n",
       "count         624  1218.000000  \n",
       "unique        139          NaN  \n",
       "top          <0.1          NaN  \n",
       "freq          120          NaN  \n",
       "mean          NaN  2015.500000  \n",
       "std           NaN     1.708527  \n",
       "min           NaN  2013.000000  \n",
       "25%           NaN  2014.000000  \n",
       "50%           NaN  2015.500000  \n",
       "75%           NaN  2017.000000  \n",
       "max           NaN  2018.000000  "
      ]
     },
     "execution_count": 171,
     "metadata": {},
     "output_type": "execute_result"
    }
   ],
   "source": [
    "sous_nutri.describe(include='all')"
   ]
  },
  {
   "cell_type": "markdown",
   "id": "4f4864c1",
   "metadata": {},
   "source": [
    "### 2- Liste des produits et des pays bénéficiaires<a class=\"anchor\" id=\"3_2\"></a>"
   ]
  },
  {
   "cell_type": "markdown",
   "id": "75c8b175",
   "metadata": {},
   "source": [
    "- **Disponibilité alimentaire : Produit vegetaux / autres origines**"
   ]
  },
  {
   "cell_type": "code",
   "execution_count": 172,
   "id": "522b59d0",
   "metadata": {},
   "outputs": [
    {
     "data": {
      "text/plain": [
       "Index(['Agrumes, Autres', 'Alcool, non Comestible', 'Aliments pour enfants',\n",
       "       'Ananas', 'Arachides Decortiquees', 'Avoine', 'Bananes',\n",
       "       'Bananes plantains', 'Bière', 'Blé', 'Boissons Alcooliques',\n",
       "       'Boissons Fermentés', 'Café', 'Citrons & Limes', 'Coco (Incl Coprah)',\n",
       "       'Céréales, Autres', 'Dattes', 'Edulcorants Autres', 'Feve de Cacao',\n",
       "       'Fruits, Autres', 'Girofles', 'Graines Colza/Moutarde',\n",
       "       'Graines de coton', 'Graines de tournesol', 'Haricots',\n",
       "       'Huil Plantes Oleif Autr', 'Huile Graines de Coton', 'Huile d'Arachide',\n",
       "       'Huile d'Olive', 'Huile de Coco', 'Huile de Colza&Moutarde',\n",
       "       'Huile de Germe de Maïs', 'Huile de Palme', 'Huile de Palmistes',\n",
       "       'Huile de Soja', 'Huile de Son de Riz', 'Huile de Sésame',\n",
       "       'Huile de Tournesol', 'Ignames', 'Légumes, Autres',\n",
       "       'Légumineuses Autres', 'Manioc', 'Maïs', 'Miel', 'Millet',\n",
       "       'Miscellanees', 'Noix', 'Oignons', 'Olives', 'Oranges, Mandarines',\n",
       "       'Orge', 'Palmistes', 'Pamplemousse', 'Patates douces', 'Piments',\n",
       "       'Plantes Oleiferes, Autre', 'Pois', 'Poivre', 'Pommes',\n",
       "       'Pommes de Terre', 'Racines nda', 'Raisin', 'Riz (Eq Blanchi)',\n",
       "       'Seigle', 'Soja', 'Sorgho', 'Sucre Eq Brut', 'Sucre non centrifugé',\n",
       "       'Sucre, betterave', 'Sucre, canne', 'Sésame', 'Thé', 'Tomates', 'Vin',\n",
       "       'Épices, Autres'],\n",
       "      dtype='object', name='Produit')"
      ]
     },
     "execution_count": 172,
     "metadata": {},
     "output_type": "execute_result"
    }
   ],
   "source": [
    "pdt_vege=dispo_alim.loc[dispo_alim['Origine'] == 'vegetale']\n",
    "pdt_vege=pdt_vege.groupby(['Produit']).sum()\n",
    "liste_pdt_vege=pdt_vege.index\n",
    "liste_pdt_vege"
   ]
  },
  {
   "cell_type": "code",
   "execution_count": 173,
   "id": "09689864",
   "metadata": {
    "scrolled": true
   },
   "outputs": [
    {
     "data": {
      "text/plain": [
       "Index(['Abats Comestible', 'Animaux Aquatiques Autre', 'Beurre, Ghee',\n",
       "       'Cephalopodes', 'Crustacés', 'Crème', 'Graisses Animales Crue',\n",
       "       'Huiles de Foie de Poisso', 'Huiles de Poissons', 'Lait - Excl Beurre',\n",
       "       'Mollusques, Autres', 'Oeufs', 'Perciform', 'Plantes Aquatiques',\n",
       "       'Poissons Eau Douce', 'Poissons Marins, Autres', 'Poissons Pelagiques',\n",
       "       'Viande d'Ovins/Caprins', 'Viande de Anim Aquatiq', 'Viande de Bovins',\n",
       "       'Viande de Suides', 'Viande de Volailles', 'Viande, Autre'],\n",
       "      dtype='object', name='Produit')"
      ]
     },
     "execution_count": 173,
     "metadata": {},
     "output_type": "execute_result"
    }
   ],
   "source": [
    "pdt_anim=dispo_alim.loc[dispo_alim['Origine'] == 'animale']\n",
    "pdt_anim=pdt_anim.groupby(['Produit']).sum()\n",
    "liste_pdt_anim=pdt_anim.index\n",
    "liste_pdt_anim"
   ]
  },
  {
   "cell_type": "markdown",
   "id": "674cfa33",
   "metadata": {},
   "source": [
    "- **Liste des pays bénificiants d'aides alimentaires**"
   ]
  },
  {
   "cell_type": "code",
   "execution_count": 174,
   "id": "3d758657",
   "metadata": {
    "scrolled": true
   },
   "outputs": [
    {
     "data": {
      "text/plain": [
       "Index(['Afghanistan', 'Algérie', 'Angola', 'Bangladesh', 'Bhoutan',\n",
       "       'Bolivie (État plurinational de)', 'Burkina Faso', 'Burundi', 'Bénin',\n",
       "       'Cambodge', 'Cameroun', 'Chine, continentale', 'Colombie', 'Comores',\n",
       "       'Congo', 'Cuba', 'Côte d'Ivoire', 'Djibouti', 'El Salvador', 'Gambie',\n",
       "       'Ghana', 'Guatemala', 'Guinée', 'Guinée-Bissau', 'Géorgie', 'Haïti',\n",
       "       'Honduras', 'Iran (République islamique d')', 'Iraq', 'Jordanie',\n",
       "       'Kenya', 'Kirghizistan', 'Lesotho', 'Liban', 'Libye', 'Libéria',\n",
       "       'Madagascar', 'Malawi', 'Mali', 'Mauritanie', 'Mozambique', 'Myanmar',\n",
       "       'Nicaragua', 'Niger', 'Népal', 'Ouganda', 'Pakistan', 'Palestine',\n",
       "       'Philippines', 'Rwanda', 'République arabe syrienne',\n",
       "       'République centrafricaine', 'République dominicaine',\n",
       "       'République démocratique du Congo',\n",
       "       'République démocratique populaire lao',\n",
       "       'République populaire démocratique de Corée',\n",
       "       'République-Unie de Tanzanie', 'Sao Tomé-et-Principe', 'Sierra Leone',\n",
       "       'Somalie', 'Soudan', 'Soudan du Sud', 'Sri Lanka', 'Swaziland',\n",
       "       'Sénégal', 'Tadjikistan', 'Tchad', 'Timor-Leste', 'Togo', 'Vanuatu',\n",
       "       'Yémen', 'Zambie', 'Zimbabwe', 'Égypte', 'Équateur', 'Éthiopie'],\n",
       "      dtype='object', name='Pays bénéficiaire')"
      ]
     },
     "execution_count": 174,
     "metadata": {},
     "output_type": "execute_result"
    }
   ],
   "source": [
    "pays_beneficiaires=aide_alim.groupby(['Pays bénéficiaire']).sum()\n",
    "liste_pays_beneficiaires=pays_beneficiaires.index\n",
    "liste_pays_beneficiaires"
   ]
  },
  {
   "cell_type": "markdown",
   "id": "15db61b8",
   "metadata": {},
   "source": [
    "### 3- Proportion de la disponibilité alimentaire mondiale d'origine animale et végétale<a class=\"anchor\" id=\"3_3\"></a>"
   ]
  },
  {
   "cell_type": "code",
   "execution_count": 175,
   "id": "46713ddd",
   "metadata": {
    "scrolled": false
   },
   "outputs": [
    {
     "name": "stdout",
     "output_type": "stream",
     "text": [
      "Proportion de la disponibilité alimentaire mondiale d'origine animale et végétale\n",
      "---------------------------------------------------------------------------------\n"
     ]
    },
    {
     "data": {
      "text/html": [
       "<div>\n",
       "<style scoped>\n",
       "    .dataframe tbody tr th:only-of-type {\n",
       "        vertical-align: middle;\n",
       "    }\n",
       "\n",
       "    .dataframe tbody tr th {\n",
       "        vertical-align: top;\n",
       "    }\n",
       "\n",
       "    .dataframe thead th {\n",
       "        text-align: right;\n",
       "    }\n",
       "</style>\n",
       "<table border=\"1\" class=\"dataframe\">\n",
       "  <thead>\n",
       "    <tr style=\"text-align: right;\">\n",
       "      <th></th>\n",
       "      <th>Disponibilité alimentaire (%)</th>\n",
       "      <th>Disponibilité de matière grasse (%)</th>\n",
       "      <th>Disponibilité de protéines (%)</th>\n",
       "    </tr>\n",
       "    <tr>\n",
       "      <th>Origine</th>\n",
       "      <th></th>\n",
       "      <th></th>\n",
       "      <th></th>\n",
       "    </tr>\n",
       "  </thead>\n",
       "  <tbody>\n",
       "    <tr>\n",
       "      <th>animale</th>\n",
       "      <td>17.0</td>\n",
       "      <td>45.0</td>\n",
       "      <td>39.0</td>\n",
       "    </tr>\n",
       "    <tr>\n",
       "      <th>vegetale</th>\n",
       "      <td>83.0</td>\n",
       "      <td>55.0</td>\n",
       "      <td>61.0</td>\n",
       "    </tr>\n",
       "  </tbody>\n",
       "</table>\n",
       "</div>"
      ],
      "text/plain": [
       "          Disponibilité alimentaire (%)  Disponibilité de matière grasse (%)  \\\n",
       "Origine                                                                        \n",
       "animale                            17.0                                 45.0   \n",
       "vegetale                           83.0                                 55.0   \n",
       "\n",
       "          Disponibilité de protéines (%)  \n",
       "Origine                                   \n",
       "animale                             39.0  \n",
       "vegetale                            61.0  "
      ]
     },
     "metadata": {},
     "output_type": "display_data"
    },
    {
     "data": {
      "image/png": "[encoded data removed]",
      "text/plain": [
       "<Figure size 720x504 with 1 Axes>"
      ]
     },
     "metadata": {},
     "output_type": "display_data"
    },
    {
     "data": {
      "image/png": "[encoded data removed]",
      "text/plain": [
       "<Figure size 720x504 with 1 Axes>"
      ]
     },
     "metadata": {
      "needs_background": "light"
     },
     "output_type": "display_data"
    }
   ],
   "source": [
    "#Filtrage sur le data frame population pour l'année 2017\n",
    "pop_2017=population.loc[population['Année']==2017,:]\n",
    "\n",
    "#Jointure de dispo_alim_pays et pop_2017\n",
    "df=pd.merge(dispo_alim,pop_2017,on='Zone',how='left')\n",
    "\n",
    "#Calcul des dispos alimentaires en quantité/jour\n",
    "df['Disponibilité alimentaire (kcal/jour)']=round(df['Disponibilité alimentaire (cal/personne/jour)']*df['Population_milliers'])\n",
    "df['Disponibilité de protéines en quantité (kg/jour)']=round(df['Disponibilité de protéines en quantité (g/personne/jour)']*df['Population_milliers'])\n",
    "df['Disponibilité de matière grasse en quantité (kg/jour)']=round(df['Disponibilité de matière grasse en quantité (g/personne/jour)']*df['Population_milliers'])\n",
    "\n",
    "#Aggrégation par Origine\n",
    "df=df.groupby('Origine')[['Disponibilité alimentaire (kcal/jour)','Disponibilité de matière grasse en quantité (kg/jour)','Disponibilité de protéines en quantité (kg/jour)']].sum()\n",
    "\n",
    "#Calcul des pourcentages\n",
    "df['Disponibilité alimentaire (%)']=round(df['Disponibilité alimentaire (kcal/jour)']/df['Disponibilité alimentaire (kcal/jour)'].sum()*(100))\n",
    "df['Disponibilité de protéines (%)']=round(df['Disponibilité de protéines en quantité (kg/jour)']/df['Disponibilité de protéines en quantité (kg/jour)'].sum()*(100))\n",
    "df['Disponibilité de matière grasse (%)']=round(df['Disponibilité de matière grasse en quantité (kg/jour)']/df['Disponibilité de matière grasse en quantité (kg/jour)'].sum()*(100))\n",
    "print(\"Proportion de la disponibilité alimentaire mondiale d'origine animale et végétale\")\n",
    "print('---------------------------------------------------------------------------------')\n",
    "display(df[['Disponibilité alimentaire (%)','Disponibilité de matière grasse (%)','Disponibilité de protéines (%)']])\n",
    "\n",
    "#Affichage d'un diagramme circulaire\n",
    "plt.figure(figsize=(10,7))\n",
    "df_pie=df.reset_index()\n",
    "plt.pie(x=df_pie['Disponibilité alimentaire (%)'],labels=df_pie['Origine'],autopct='%.1f%%',textprops={'fontsize': 14},explode=(0,0.1), shadow=True, colors=['darkturquoise','slateblue'])\n",
    "plt.title(\"Origine de la disponibilité alimentaire\",fontsize=16, fontweight='bold')\n",
    "plt.legend(title='Origine',fontsize=11,loc='lower right')\n",
    "plt.show()\n",
    "\n",
    "#Transposition du data frame\n",
    "df=df[['Disponibilité alimentaire (%)','Disponibilité de matière grasse (%)','Disponibilité de protéines (%)']]\n",
    "df=df.transpose().reset_index()\n",
    "df.columns=['Disponibilité','Animale','Végétale']\n",
    "\n",
    "#Affichage d'un diagramme à barres\n",
    "df.plot( x='Disponibilité',y=['Animale','Végétale'],kind='bar',figsize=(10,7))\n",
    "plt.ylabel('Pourcentage (%)')\n",
    "plt.xlabel('')\n",
    "plt.title(\"Proportion de la disponibilité alimentaire mondiale d'origine animale et végétale\",fontweight='bold',fontsize=14)\n",
    "plt.grid(axis='y',c='gray',ls='-',lw=0.5)\n",
    "plt.show()"
   ]
  },
  {
   "cell_type": "markdown",
   "id": "e91b0285",
   "metadata": {},
   "source": [
    "### 4- Produits contribuant le plus aux apports alimentaires et leur zone de production<a class=\"anchor\" id=\"3_4\"></a>"
   ]
  },
  {
   "cell_type": "markdown",
   "id": "be968d12",
   "metadata": {},
   "source": [
    "**Produits contribuant le plus aux apports énergétiques (kcal/jour)**"
   ]
  },
  {
   "cell_type": "code",
   "execution_count": 176,
   "id": "82afb918",
   "metadata": {},
   "outputs": [
    {
     "data": {
      "text/plain": [
       "Produit\n",
       "Riz (Eq Blanchi)       19.0\n",
       "Blé                    18.0\n",
       "Sucre Eq Brut           7.0\n",
       "Maïs                    5.0\n",
       "Lait - Excl Beurre      5.0\n",
       "Viande de Suides        4.0\n",
       "Huile de Soja           3.0\n",
       "Légumes, Autres         3.0\n",
       "Pommes de Terre         2.0\n",
       "Viande de Volailles     2.0\n",
       "Name: Disponibilité alimentaire (%), dtype: float64"
      ]
     },
     "execution_count": 176,
     "metadata": {},
     "output_type": "execute_result"
    }
   ],
   "source": [
    "#Filtrage sur le data frame population pour l'année 2013\n",
    "pop_2013=population.loc[population['Année']==2013,:]\n",
    "\n",
    "#Jointure de dispo_alim_pays et pop_2013\n",
    "df=pd.merge(dispo_alim,pop_2013,on='Zone',how='left')\n",
    "\n",
    "#Calcul des dispos alimentaires en quantité/jour\n",
    "df['Disponibilité alimentaire (kcal/jour)']=df['Disponibilité alimentaire (cal/personne/jour)']*df['Population_milliers']\n",
    "df['Disponibilité alimentaire (%)']=df['Disponibilité alimentaire (kcal/jour)']/df['Disponibilité alimentaire (kcal/jour)'].sum()*(100)\n",
    "df=df.groupby('Produit')['Disponibilité alimentaire (%)'].sum().sort_values(ascending=False)\n",
    "df=round(df)\n",
    "df[:10]"
   ]
  },
  {
   "cell_type": "markdown",
   "id": "91d70904",
   "metadata": {},
   "source": [
    "**Produits contribuant le plus aux apports en protéines (kg/jour)**"
   ]
  },
  {
   "cell_type": "code",
   "execution_count": 177,
   "id": "eb5e193f",
   "metadata": {},
   "outputs": [
    {
     "data": {
      "text/plain": [
       "Produit\n",
       "Blé                    20.0\n",
       "Riz (Eq Blanchi)       13.0\n",
       "Lait - Excl Beurre     10.0\n",
       "Viande de Volailles     6.0\n",
       "Viande de Suides        6.0\n",
       "Légumes, Autres         5.0\n",
       "Maïs                    5.0\n",
       "Viande de Bovins        4.0\n",
       "Oeufs                   3.0\n",
       "Légumineuses Autres     3.0\n",
       "Name: Disponibilité alimentaire en protéines(%), dtype: float64"
      ]
     },
     "execution_count": 177,
     "metadata": {},
     "output_type": "execute_result"
    }
   ],
   "source": [
    "#Filtrage sur le data frame population pour l'année 2017\n",
    "pop_2017=population.loc[population['Année']==2017,:]\n",
    "\n",
    "#Jointure de dispo_alim_pays et pop_2017\n",
    "df=pd.merge(dispo_alim,pop_2017,on='Zone',how='left')\n",
    "\n",
    "#Calcul des dispos alimentaires en quantité/jour\n",
    "df['Disponibilité alimentaire en protéines (kg/jour)']=df['Disponibilité de protéines en quantité (g/personne/jour)']*df['Population_milliers']\n",
    "df['Disponibilité alimentaire en protéines(%)']=df['Disponibilité alimentaire en protéines (kg/jour)']/df['Disponibilité alimentaire en protéines (kg/jour)'].sum()*(100)\n",
    "df=df.groupby('Produit')['Disponibilité alimentaire en protéines(%)'].sum().sort_values(ascending=False)\n",
    "df=round(df)\n",
    "df[:10]"
   ]
  },
  {
   "cell_type": "markdown",
   "id": "84a96f0a",
   "metadata": {},
   "source": [
    "Les produits contribuant le plus aux apports énergiques sont le riz et le blé."
   ]
  },
  {
   "cell_type": "code",
   "execution_count": 178,
   "id": "04c826f7",
   "metadata": {},
   "outputs": [
    {
     "data": {
      "text/html": [
       "<div>\n",
       "<style scoped>\n",
       "    .dataframe tbody tr th:only-of-type {\n",
       "        vertical-align: middle;\n",
       "    }\n",
       "\n",
       "    .dataframe tbody tr th {\n",
       "        vertical-align: top;\n",
       "    }\n",
       "\n",
       "    .dataframe thead th {\n",
       "        text-align: right;\n",
       "    }\n",
       "</style>\n",
       "<table border=\"1\" class=\"dataframe\">\n",
       "  <thead>\n",
       "    <tr style=\"text-align: right;\">\n",
       "      <th></th>\n",
       "      <th>Zone</th>\n",
       "      <th>Produit</th>\n",
       "      <th>Disponibilité intérieure</th>\n",
       "    </tr>\n",
       "  </thead>\n",
       "  <tbody>\n",
       "    <tr>\n",
       "      <th>3351</th>\n",
       "      <td>Chine, continentale</td>\n",
       "      <td>Riz (Eq Blanchi)</td>\n",
       "      <td>28.0</td>\n",
       "    </tr>\n",
       "    <tr>\n",
       "      <th>6266</th>\n",
       "      <td>Inde</td>\n",
       "      <td>Riz (Eq Blanchi)</td>\n",
       "      <td>20.0</td>\n",
       "    </tr>\n",
       "    <tr>\n",
       "      <th>6362</th>\n",
       "      <td>Indonésie</td>\n",
       "      <td>Riz (Eq Blanchi)</td>\n",
       "      <td>10.0</td>\n",
       "    </tr>\n",
       "    <tr>\n",
       "      <th>1331</th>\n",
       "      <td>Bangladesh</td>\n",
       "      <td>Riz (Eq Blanchi)</td>\n",
       "      <td>6.0</td>\n",
       "    </tr>\n",
       "    <tr>\n",
       "      <th>14768</th>\n",
       "      <td>Viet Nam</td>\n",
       "      <td>Riz (Eq Blanchi)</td>\n",
       "      <td>4.0</td>\n",
       "    </tr>\n",
       "  </tbody>\n",
       "</table>\n",
       "</div>"
      ],
      "text/plain": [
       "                      Zone           Produit  Disponibilité intérieure\n",
       "3351   Chine, continentale  Riz (Eq Blanchi)                      28.0\n",
       "6266                  Inde  Riz (Eq Blanchi)                      20.0\n",
       "6362             Indonésie  Riz (Eq Blanchi)                      10.0\n",
       "1331            Bangladesh  Riz (Eq Blanchi)                       6.0\n",
       "14768             Viet Nam  Riz (Eq Blanchi)                       4.0"
      ]
     },
     "execution_count": 178,
     "metadata": {},
     "output_type": "execute_result"
    }
   ],
   "source": [
    "#Pays producteurs de Riz\n",
    "df=dispo_alim.loc[dispo_alim['Produit']=='Riz (Eq Blanchi)',:].sort_values('Disponibilité intérieure',ascending=False)\n",
    "df['Disponibilité intérieure']=round(df['Disponibilité intérieure']/df['Disponibilité intérieure'].sum()*(100))\n",
    "df[['Zone','Produit','Disponibilité intérieure']].head(5)"
   ]
  },
  {
   "cell_type": "code",
   "execution_count": 179,
   "id": "5ecb21c2",
   "metadata": {
    "scrolled": true
   },
   "outputs": [
    {
     "data": {
      "text/html": [
       "<div>\n",
       "<style scoped>\n",
       "    .dataframe tbody tr th:only-of-type {\n",
       "        vertical-align: middle;\n",
       "    }\n",
       "\n",
       "    .dataframe tbody tr th {\n",
       "        vertical-align: top;\n",
       "    }\n",
       "\n",
       "    .dataframe thead th {\n",
       "        text-align: right;\n",
       "    }\n",
       "</style>\n",
       "<table border=\"1\" class=\"dataframe\">\n",
       "  <thead>\n",
       "    <tr style=\"text-align: right;\">\n",
       "      <th></th>\n",
       "      <th>Zone</th>\n",
       "      <th>Produit</th>\n",
       "      <th>Disponibilité intérieure</th>\n",
       "    </tr>\n",
       "  </thead>\n",
       "  <tbody>\n",
       "    <tr>\n",
       "      <th>3284</th>\n",
       "      <td>Chine, continentale</td>\n",
       "      <td>Blé</td>\n",
       "      <td>18.0</td>\n",
       "    </tr>\n",
       "    <tr>\n",
       "      <th>6199</th>\n",
       "      <td>Inde</td>\n",
       "      <td>Blé</td>\n",
       "      <td>13.0</td>\n",
       "    </tr>\n",
       "    <tr>\n",
       "      <th>4946</th>\n",
       "      <td>Fédération de Russie</td>\n",
       "      <td>Blé</td>\n",
       "      <td>5.0</td>\n",
       "    </tr>\n",
       "    <tr>\n",
       "      <th>15352</th>\n",
       "      <td>États-Unis d'Amérique</td>\n",
       "      <td>Blé</td>\n",
       "      <td>5.0</td>\n",
       "    </tr>\n",
       "    <tr>\n",
       "      <th>10525</th>\n",
       "      <td>Pakistan</td>\n",
       "      <td>Blé</td>\n",
       "      <td>4.0</td>\n",
       "    </tr>\n",
       "  </tbody>\n",
       "</table>\n",
       "</div>"
      ],
      "text/plain": [
       "                        Zone Produit  Disponibilité intérieure\n",
       "3284     Chine, continentale     Blé                      18.0\n",
       "6199                    Inde     Blé                      13.0\n",
       "4946    Fédération de Russie     Blé                       5.0\n",
       "15352  États-Unis d'Amérique     Blé                       5.0\n",
       "10525               Pakistan     Blé                       4.0"
      ]
     },
     "execution_count": 179,
     "metadata": {},
     "output_type": "execute_result"
    }
   ],
   "source": [
    "#Pays producteurs de Blé\n",
    "df=dispo_alim.loc[dispo_alim['Produit']=='Blé',:].sort_values('Disponibilité intérieure',ascending=False)\n",
    "df['Disponibilité intérieure']=round(df['Disponibilité intérieure']/df['Disponibilité intérieure'].sum()*(100))\n",
    "df[['Zone','Produit','Disponibilité intérieure']].head(5)"
   ]
  },
  {
   "cell_type": "markdown",
   "id": "abcdd171",
   "metadata": {},
   "source": [
    "La Chine et l'Inde sont les plus grands producteurs de riz et de blé."
   ]
  },
  {
   "cell_type": "markdown",
   "id": "081557e4",
   "metadata": {},
   "source": [
    "- **Pour aller plus loin :**\n",
    "\n",
    "Rechercher la part des ressources mondiales produites en Ukraine et en Russie : impacts possibles de la guerre"
   ]
  },
  {
   "cell_type": "markdown",
   "id": "91d78773",
   "metadata": {},
   "source": [
    "### 5- Top des produits destinés à l'alimentation animale<a class=\"anchor\" id=\"3_5\"></a>"
   ]
  },
  {
   "cell_type": "code",
   "execution_count": 180,
   "id": "1a86fbb0",
   "metadata": {
    "scrolled": false
   },
   "outputs": [
    {
     "data": {
      "text/html": [
       "<div>\n",
       "<style scoped>\n",
       "    .dataframe tbody tr th:only-of-type {\n",
       "        vertical-align: middle;\n",
       "    }\n",
       "\n",
       "    .dataframe tbody tr th {\n",
       "        vertical-align: top;\n",
       "    }\n",
       "\n",
       "    .dataframe thead th {\n",
       "        text-align: right;\n",
       "    }\n",
       "</style>\n",
       "<table border=\"1\" class=\"dataframe\">\n",
       "  <thead>\n",
       "    <tr style=\"text-align: right;\">\n",
       "      <th></th>\n",
       "      <th>Aliments pour animaux</th>\n",
       "      <th>Disponibilité intérieure</th>\n",
       "      <th>Proportion destinée à l'alimentation animale (%)</th>\n",
       "    </tr>\n",
       "    <tr>\n",
       "      <th>Produit</th>\n",
       "      <th></th>\n",
       "      <th></th>\n",
       "      <th></th>\n",
       "    </tr>\n",
       "  </thead>\n",
       "  <tbody>\n",
       "    <tr>\n",
       "      <th>Maïs</th>\n",
       "      <td>546116.0</td>\n",
       "      <td>955799.0</td>\n",
       "      <td>57.1</td>\n",
       "    </tr>\n",
       "    <tr>\n",
       "      <th>Blé</th>\n",
       "      <td>129668.0</td>\n",
       "      <td>679498.0</td>\n",
       "      <td>19.1</td>\n",
       "    </tr>\n",
       "    <tr>\n",
       "      <th>Orge</th>\n",
       "      <td>92658.0</td>\n",
       "      <td>140439.0</td>\n",
       "      <td>66.0</td>\n",
       "    </tr>\n",
       "    <tr>\n",
       "      <th>Manioc</th>\n",
       "      <td>87056.0</td>\n",
       "      <td>256664.0</td>\n",
       "      <td>33.9</td>\n",
       "    </tr>\n",
       "    <tr>\n",
       "      <th>Lait - Excl Beurre</th>\n",
       "      <td>81973.0</td>\n",
       "      <td>748864.0</td>\n",
       "      <td>10.9</td>\n",
       "    </tr>\n",
       "    <tr>\n",
       "      <th>...</th>\n",
       "      <td>...</td>\n",
       "      <td>...</td>\n",
       "      <td>...</td>\n",
       "    </tr>\n",
       "    <tr>\n",
       "      <th>Citrons &amp; Limes</th>\n",
       "      <td>0.0</td>\n",
       "      <td>15769.0</td>\n",
       "      <td>0.0</td>\n",
       "    </tr>\n",
       "    <tr>\n",
       "      <th>Piments</th>\n",
       "      <td>0.0</td>\n",
       "      <td>3362.0</td>\n",
       "      <td>0.0</td>\n",
       "    </tr>\n",
       "    <tr>\n",
       "      <th>Café</th>\n",
       "      <td>0.0</td>\n",
       "      <td>8176.0</td>\n",
       "      <td>0.0</td>\n",
       "    </tr>\n",
       "    <tr>\n",
       "      <th>Boissons Fermentés</th>\n",
       "      <td>0.0</td>\n",
       "      <td>30813.0</td>\n",
       "      <td>0.0</td>\n",
       "    </tr>\n",
       "    <tr>\n",
       "      <th>Épices, Autres</th>\n",
       "      <td>0.0</td>\n",
       "      <td>5372.0</td>\n",
       "      <td>0.0</td>\n",
       "    </tr>\n",
       "  </tbody>\n",
       "</table>\n",
       "<p>98 rows × 3 columns</p>\n",
       "</div>"
      ],
      "text/plain": [
       "                    Aliments pour animaux  Disponibilité intérieure  \\\n",
       "Produit                                                               \n",
       "Maïs                             546116.0                  955799.0   \n",
       "Blé                              129668.0                  679498.0   \n",
       "Orge                              92658.0                  140439.0   \n",
       "Manioc                            87056.0                  256664.0   \n",
       "Lait - Excl Beurre                81973.0                  748864.0   \n",
       "...                                   ...                       ...   \n",
       "Citrons & Limes                       0.0                   15769.0   \n",
       "Piments                               0.0                    3362.0   \n",
       "Café                                  0.0                    8176.0   \n",
       "Boissons Fermentés                    0.0                   30813.0   \n",
       "Épices, Autres                        0.0                    5372.0   \n",
       "\n",
       "                    Proportion destinée à l'alimentation animale (%)  \n",
       "Produit                                                               \n",
       "Maïs                                                            57.1  \n",
       "Blé                                                             19.1  \n",
       "Orge                                                            66.0  \n",
       "Manioc                                                          33.9  \n",
       "Lait - Excl Beurre                                              10.9  \n",
       "...                                                              ...  \n",
       "Citrons & Limes                                                  0.0  \n",
       "Piments                                                          0.0  \n",
       "Café                                                             0.0  \n",
       "Boissons Fermentés                                               0.0  \n",
       "Épices, Autres                                                   0.0  \n",
       "\n",
       "[98 rows x 3 columns]"
      ]
     },
     "execution_count": 180,
     "metadata": {},
     "output_type": "execute_result"
    }
   ],
   "source": [
    "dispo_alim_pdt=dispo_alim.groupby('Produit').sum().sort_values('Aliments pour animaux',ascending=False)\n",
    "dispo_alim_pdt[\"Proportion destinée à l'alimentation animale (%)\"]=round(dispo_alim_pdt['Aliments pour animaux']/dispo_alim_pdt['Disponibilité intérieure']*100,1)\n",
    "dispo_alim_pdt[['Aliments pour animaux','Disponibilité intérieure',\"Proportion destinée à l'alimentation animale (%)\"]]"
   ]
  },
  {
   "cell_type": "code",
   "execution_count": 181,
   "id": "c53ce4e0",
   "metadata": {
    "scrolled": false
   },
   "outputs": [
    {
     "data": {
      "image/png": "[encoded data removed]",
      "text/plain": [
       "<Figure size 720x504 with 1 Axes>"
      ]
     },
     "metadata": {
      "needs_background": "light"
     },
     "output_type": "display_data"
    }
   ],
   "source": [
    "dispo_alim_pdt=dispo_alim_pdt.reset_index()\n",
    "dispo_alim_pdt=dispo_alim_pdt.iloc[:5]\n",
    "dispo_alim_pdt.plot(x='Produit', y=['Aliments pour animaux','Disponibilité intérieure'],kind='bar',figsize=(10,7))\n",
    "plt.ylabel('Quantité (milliers de tonnes)', fontsize=14)\n",
    "plt.xticks(fontsize=14)\n",
    "plt.yticks(fontsize=14)\n",
    "plt.title('',fontweight='bold',fontsize=16)\n",
    "plt.grid(axis='y',c='gray',ls='-',lw=0.5)\n",
    "plt.show()"
   ]
  },
  {
   "cell_type": "code",
   "execution_count": 182,
   "id": "49f4f977",
   "metadata": {
    "scrolled": true
   },
   "outputs": [
    {
     "data": {
      "text/html": [
       "<div>\n",
       "<style scoped>\n",
       "    .dataframe tbody tr th:only-of-type {\n",
       "        vertical-align: middle;\n",
       "    }\n",
       "\n",
       "    .dataframe tbody tr th {\n",
       "        vertical-align: top;\n",
       "    }\n",
       "\n",
       "    .dataframe thead th {\n",
       "        text-align: right;\n",
       "    }\n",
       "</style>\n",
       "<table border=\"1\" class=\"dataframe\">\n",
       "  <thead>\n",
       "    <tr style=\"text-align: right;\">\n",
       "      <th></th>\n",
       "      <th>Produit</th>\n",
       "      <th>Aliments animaux/dispo intérieure (%)</th>\n",
       "    </tr>\n",
       "  </thead>\n",
       "  <tbody>\n",
       "    <tr>\n",
       "      <th>2</th>\n",
       "      <td>Orge</td>\n",
       "      <td>66.0</td>\n",
       "    </tr>\n",
       "    <tr>\n",
       "      <th>0</th>\n",
       "      <td>Maïs</td>\n",
       "      <td>57.1</td>\n",
       "    </tr>\n",
       "    <tr>\n",
       "      <th>3</th>\n",
       "      <td>Manioc</td>\n",
       "      <td>33.9</td>\n",
       "    </tr>\n",
       "    <tr>\n",
       "      <th>1</th>\n",
       "      <td>Blé</td>\n",
       "      <td>19.1</td>\n",
       "    </tr>\n",
       "    <tr>\n",
       "      <th>4</th>\n",
       "      <td>Lait - Excl Beurre</td>\n",
       "      <td>10.9</td>\n",
       "    </tr>\n",
       "  </tbody>\n",
       "</table>\n",
       "</div>"
      ],
      "text/plain": [
       "              Produit  Aliments animaux/dispo intérieure (%)\n",
       "2                Orge                                   66.0\n",
       "0                Maïs                                   57.1\n",
       "3              Manioc                                   33.9\n",
       "1                 Blé                                   19.1\n",
       "4  Lait - Excl Beurre                                   10.9"
      ]
     },
     "metadata": {},
     "output_type": "display_data"
    }
   ],
   "source": [
    "dispo_alim_pdt['Aliments animaux/dispo intérieure (%)']=round(dispo_alim_pdt['Aliments pour animaux']/dispo_alim_pdt['Disponibilité intérieure' ]*(100),1)\n",
    "dispo_alim_pdt=dispo_alim_pdt.sort_values('Aliments animaux/dispo intérieure (%)',ascending = False)\n",
    "display(dispo_alim_pdt[['Produit','Aliments animaux/dispo intérieure (%)']].iloc[:10])"
   ]
  },
  {
   "cell_type": "markdown",
   "id": "c1e4fedc",
   "metadata": {},
   "source": [
    "### 6- Evolution de la proportion de la population mondiale en sous-nutrition<a class=\"anchor\" id=\"3_6\"></a>"
   ]
  },
  {
   "cell_type": "code",
   "execution_count": 183,
   "id": "7a3692d6",
   "metadata": {},
   "outputs": [
    {
     "data": {
      "image/png": "[encoded data removed]",
      "text/plain": [
       "<Figure size 720x504 with 1 Axes>"
      ]
     },
     "metadata": {
      "needs_background": "light"
     },
     "output_type": "display_data"
    }
   ],
   "source": [
    "#Aggrégation par année\n",
    "A=round(sous_nutri.groupby(['Année moy'])['Population_sous_alimentee_millions'].sum()).reset_index()\n",
    "B=round(population.groupby(['Année'])['Population_milliers'].sum()).reset_index()\n",
    "#Jointure des data frames \n",
    "df=pd.merge(A,B,left_on='Année moy',right_on='Année',how='outer')\n",
    "#Suppression des colonnes inutiles\n",
    "df=df.drop(columns=['Année moy'])\n",
    "#Conversion de la population de milliers à millions\n",
    "df['Population_milliers']=round(df['Population_milliers']/(1000),2)\n",
    "#Renommer la colonne population\n",
    "df.rename(columns={'Population_milliers': 'Population_millions'}, inplace=True)\n",
    "#Calcul de la proportion de population sous-alimentée\n",
    "df['prop_ss_alimentée']=round(df['Population_sous_alimentee_millions']/df['Population_millions']*(100),2)\n",
    "#Affichage graphique\n",
    "plt.figure(figsize=(10,7))\n",
    "plt.plot(df['Année'], df['prop_ss_alimentée'],marker='o', linestyle='--')\n",
    "plt.title('Evolution de la proportion de la population mondiale en sous-nutrition', fontweight='bold', fontsize=14)\n",
    "plt.ylabel('Pourcentage de la population mondiale en sous-nutrition (%)',fontsize=11)\n",
    "plt.grid(axis='y',color='gray',linestyle='-', linewidth=0.5)\n",
    "plt.ylim(6,8)\n",
    "plt.yticks([6.0,6.5,7.0,7.5,8.0])\n",
    "plt.show()"
   ]
  },
  {
   "cell_type": "markdown",
   "id": "bbbbdfcd",
   "metadata": {},
   "source": [
    "**Depuis 2013, 1 personne sur 15 souffre de malnutrition dans le monde.**\n",
    "\n"
   ]
  },
  {
   "cell_type": "markdown",
   "id": "38b9d128",
   "metadata": {},
   "source": [
    "### 7- Répartition de la proportion de population en sous-nutrition en 2017<a class=\"anchor\" id=\"3_7\"></a>"
   ]
  },
  {
   "cell_type": "code",
   "execution_count": 184,
   "id": "eeaccd1d",
   "metadata": {
    "scrolled": false
   },
   "outputs": [
    {
     "data": {
      "image/png": "[encoded data removed]",
      "text/plain": [
       "<Figure size 720x504 with 1 Axes>"
      ]
     },
     "metadata": {
      "needs_background": "light"
     },
     "output_type": "display_data"
    },
    {
     "name": "stdout",
     "output_type": "stream",
     "text": [
      "12.5 % des pays ont plus d'un quart de leur population en sous-nutrition, soit 1 habitant sur 4.\n"
     ]
    }
   ],
   "source": [
    "#Filtrage sur l'année 2017\n",
    "A=sous_nutri.loc[sous_nutri['Année moy']==2017,:]\n",
    "B=population.loc[population['Année']==2017,:]\n",
    "#Jointure des data frames 2017\n",
    "dfpop_2017=pd.merge(A,B,left_on='Zone',right_on='Zone',how='outer')\n",
    "#Suppression des colonnes inutiles\n",
    "dfpop_2017=dfpop_2017.drop(columns=['Plage Année','Valeur_old','Année moy'])\n",
    "#Conversion de la population de milliers à millions\n",
    "dfpop_2017['Population_milliers']=round(dfpop_2017['Population_milliers']/(1000),2)\n",
    "#Renommer la colonne population\n",
    "dfpop_2017.rename(columns={'Population_milliers': 'Population_millions'}, inplace=True)\n",
    "#Calcul de la proportion de population sous-alimentée\n",
    "dfpop_2017['prop_ss_alimentée']=round(dfpop_2017['Population_sous_alimentee_millions']/dfpop_2017['Population_millions']*(100),2)\n",
    "#Affichage d'un histogramme pour la répartition des proportions de population sous-alimentées\n",
    "plt.figure(figsize=(10,7))\n",
    "plt.hist(dfpop_2017['prop_ss_alimentée'])\n",
    "plt.title('Répartition de la proportion de population en sous-nutrition en 2017',fontweight='bold', fontsize=14)\n",
    "plt.ylabel('Nombre de pays', fontsize=12)\n",
    "plt.xlabel('Proportion de la population en sous-nutrition (%)', fontsize=12)\n",
    "plt.grid(axis='y',color='gray',linestyle='-',linewidth=0.5)\n",
    "plt.show()\n",
    "#analyse\n",
    "print(round(dfpop_2017.loc[dfpop_2017['prop_ss_alimentée']>=25,'prop_ss_alimentée'].count()/dfpop_2017['prop_ss_alimentée'].count()*100,1),\"% des pays ont plus d'un quart de leur population en sous-nutrition, soit 1 habitant sur 4.\")\n"
   ]
  },
  {
   "cell_type": "markdown",
   "id": "a565d763",
   "metadata": {},
   "source": [
    "### 8- Evolution des aides alimentaires annuels<a class=\"anchor\" id=\"3_8\"></a>"
   ]
  },
  {
   "cell_type": "code",
   "execution_count": 185,
   "id": "5276efdf",
   "metadata": {
    "scrolled": false
   },
   "outputs": [
    {
     "data": {
      "text/html": [
       "<div>\n",
       "<style scoped>\n",
       "    .dataframe tbody tr th:only-of-type {\n",
       "        vertical-align: middle;\n",
       "    }\n",
       "\n",
       "    .dataframe tbody tr th {\n",
       "        vertical-align: top;\n",
       "    }\n",
       "\n",
       "    .dataframe thead th {\n",
       "        text-align: right;\n",
       "    }\n",
       "</style>\n",
       "<table border=\"1\" class=\"dataframe\">\n",
       "  <thead>\n",
       "    <tr style=\"text-align: right;\">\n",
       "      <th></th>\n",
       "      <th>Année</th>\n",
       "      <th>Aide_alimentaire_milliers_tonnes</th>\n",
       "    </tr>\n",
       "  </thead>\n",
       "  <tbody>\n",
       "    <tr>\n",
       "      <th>0</th>\n",
       "      <td>2013</td>\n",
       "      <td>4165.674</td>\n",
       "    </tr>\n",
       "    <tr>\n",
       "      <th>1</th>\n",
       "      <td>2014</td>\n",
       "      <td>3939.152</td>\n",
       "    </tr>\n",
       "    <tr>\n",
       "      <th>2</th>\n",
       "      <td>2015</td>\n",
       "      <td>2187.507</td>\n",
       "    </tr>\n",
       "    <tr>\n",
       "      <th>3</th>\n",
       "      <td>2016</td>\n",
       "      <td>743.568</td>\n",
       "    </tr>\n",
       "  </tbody>\n",
       "</table>\n",
       "</div>"
      ],
      "text/plain": [
       "   Année  Aide_alimentaire_milliers_tonnes\n",
       "0   2013                          4165.674\n",
       "1   2014                          3939.152\n",
       "2   2015                          2187.507\n",
       "3   2016                           743.568"
      ]
     },
     "metadata": {},
     "output_type": "display_data"
    },
    {
     "data": {
      "image/png": "[encoded data removed]",
      "text/plain": [
       "<Figure size 720x504 with 1 Axes>"
      ]
     },
     "metadata": {
      "needs_background": "light"
     },
     "output_type": "display_data"
    },
    {
     "name": "stdout",
     "output_type": "stream",
     "text": [
      "Entre 2013 et 2016, les aides alimentaires mondiales ont baissé de -82.0 %\n"
     ]
    }
   ],
   "source": [
    "#Aggrégation des aides alimentaires par année\n",
    "aide_alim_annee=aide_alim.groupby('Année')['Aide_alimentaire_tonnes'].sum().reset_index()\n",
    "aide_alim_annee['Aide_alimentaire_tonnes']/=(1000)\n",
    "aide_alim_annee.rename(columns={'Aide_alimentaire_tonnes': 'Aide_alimentaire_milliers_tonnes'}, inplace = True)\n",
    "display(aide_alim_annee)\n",
    "\n",
    "#Graphique évolution des aides alimentaires annuels\n",
    "plt.figure(figsize=(10,7))\n",
    "plt.plot(aide_alim_annee['Année'],aide_alim_annee['Aide_alimentaire_milliers_tonnes'],marker='o', linestyle='--')\n",
    "plt.xticks([2013,2014,2015,2016])\n",
    "plt.yticks([1000,2000,3000,4000,5000])\n",
    "plt.ylabel('Aide alimentaire (milliers de tonnes)',fontsize=11)\n",
    "plt.title('Evolution du volume des aides alimentaires', fontweight='bold', fontsize=14)\n",
    "plt.grid(axis='y',c='gray',lw=0.5,ls='-')\n",
    "plt.show()\n",
    "\n",
    "aide_alim_2013=aide_alim_annee.loc[aide_alim_annee['Année']==2013,['Aide_alimentaire_milliers_tonnes']].iloc[0]\n",
    "aide_alim_2016=aide_alim_annee.loc[aide_alim_annee['Année']==2016,['Aide_alimentaire_milliers_tonnes']].iloc[0]\n",
    "aide_alim_evol=round((aide_alim_2016-aide_alim_2013)/aide_alim_2013*(100))\n",
    "print('Entre 2013 et 2016, les aides alimentaires mondiales ont baissé de',aide_alim_evol.iloc[0],'%')"
   ]
  },
  {
   "cell_type": "markdown",
   "id": "f64d01f2",
   "metadata": {},
   "source": [
    "### 9- Aides alimentaires par catégories de produits<a class=\"anchor\" id=\"3_9\"></a>"
   ]
  },
  {
   "cell_type": "code",
   "execution_count": 186,
   "id": "72c5d849",
   "metadata": {
    "scrolled": false
   },
   "outputs": [
    {
     "data": {
      "text/html": [
       "<div>\n",
       "<style scoped>\n",
       "    .dataframe tbody tr th:only-of-type {\n",
       "        vertical-align: middle;\n",
       "    }\n",
       "\n",
       "    .dataframe tbody tr th {\n",
       "        vertical-align: top;\n",
       "    }\n",
       "\n",
       "    .dataframe thead th {\n",
       "        text-align: right;\n",
       "    }\n",
       "</style>\n",
       "<table border=\"1\" class=\"dataframe\">\n",
       "  <thead>\n",
       "    <tr style=\"text-align: right;\">\n",
       "      <th></th>\n",
       "      <th>Produit</th>\n",
       "      <th>Aide_alimentaire_tonnes</th>\n",
       "      <th>Proportion des aides globales (%)</th>\n",
       "    </tr>\n",
       "  </thead>\n",
       "  <tbody>\n",
       "    <tr>\n",
       "      <th>0</th>\n",
       "      <td>Céréales</td>\n",
       "      <td>4256884</td>\n",
       "      <td>38.6</td>\n",
       "    </tr>\n",
       "    <tr>\n",
       "      <th>1</th>\n",
       "      <td>Blé et Farin</td>\n",
       "      <td>1781515</td>\n",
       "      <td>16.1</td>\n",
       "    </tr>\n",
       "    <tr>\n",
       "      <th>2</th>\n",
       "      <td>Non-céréales</td>\n",
       "      <td>1261513</td>\n",
       "      <td>11.4</td>\n",
       "    </tr>\n",
       "    <tr>\n",
       "      <th>3</th>\n",
       "      <td>Céréales Secondaires</td>\n",
       "      <td>1166565</td>\n",
       "      <td>10.6</td>\n",
       "    </tr>\n",
       "    <tr>\n",
       "      <th>4</th>\n",
       "      <td>Riz, total</td>\n",
       "      <td>742418</td>\n",
       "      <td>6.7</td>\n",
       "    </tr>\n",
       "    <tr>\n",
       "      <th>5</th>\n",
       "      <td>Légumineuses Sèches,Tot.</td>\n",
       "      <td>737398</td>\n",
       "      <td>6.7</td>\n",
       "    </tr>\n",
       "    <tr>\n",
       "      <th>6</th>\n",
       "      <td>Mélanges et préparations</td>\n",
       "      <td>425839</td>\n",
       "      <td>3.9</td>\n",
       "    </tr>\n",
       "    <tr>\n",
       "      <th>7</th>\n",
       "      <td>Huiles végétales</td>\n",
       "      <td>344973</td>\n",
       "      <td>3.1</td>\n",
       "    </tr>\n",
       "    <tr>\n",
       "      <th>8</th>\n",
       "      <td>BulgurFarEnt</td>\n",
       "      <td>140547</td>\n",
       "      <td>1.3</td>\n",
       "    </tr>\n",
       "    <tr>\n",
       "      <th>9</th>\n",
       "      <td>Sucre, total</td>\n",
       "      <td>101014</td>\n",
       "      <td>0.9</td>\n",
       "    </tr>\n",
       "    <tr>\n",
       "      <th>10</th>\n",
       "      <td>Autres non-céréales</td>\n",
       "      <td>48871</td>\n",
       "      <td>0.4</td>\n",
       "    </tr>\n",
       "    <tr>\n",
       "      <th>11</th>\n",
       "      <td>Lait, total</td>\n",
       "      <td>12478</td>\n",
       "      <td>0.1</td>\n",
       "    </tr>\n",
       "    <tr>\n",
       "      <th>12</th>\n",
       "      <td>Fruits secs, total</td>\n",
       "      <td>9386</td>\n",
       "      <td>0.1</td>\n",
       "    </tr>\n",
       "    <tr>\n",
       "      <th>13</th>\n",
       "      <td>Poiss&amp;produi</td>\n",
       "      <td>6397</td>\n",
       "      <td>0.1</td>\n",
       "    </tr>\n",
       "    <tr>\n",
       "      <th>14</th>\n",
       "      <td>Viande Total</td>\n",
       "      <td>53</td>\n",
       "      <td>0.0</td>\n",
       "    </tr>\n",
       "    <tr>\n",
       "      <th>15</th>\n",
       "      <td>Graisses Com</td>\n",
       "      <td>50</td>\n",
       "      <td>0.0</td>\n",
       "    </tr>\n",
       "  </tbody>\n",
       "</table>\n",
       "</div>"
      ],
      "text/plain": [
       "                     Produit  Aide_alimentaire_tonnes  \\\n",
       "0                   Céréales                  4256884   \n",
       "1               Blé et Farin                  1781515   \n",
       "2               Non-céréales                  1261513   \n",
       "3       Céréales Secondaires                  1166565   \n",
       "4                 Riz, total                   742418   \n",
       "5   Légumineuses Sèches,Tot.                   737398   \n",
       "6   Mélanges et préparations                   425839   \n",
       "7           Huiles végétales                   344973   \n",
       "8               BulgurFarEnt                   140547   \n",
       "9               Sucre, total                   101014   \n",
       "10       Autres non-céréales                    48871   \n",
       "11               Lait, total                    12478   \n",
       "12        Fruits secs, total                     9386   \n",
       "13              Poiss&produi                     6397   \n",
       "14              Viande Total                       53   \n",
       "15              Graisses Com                       50   \n",
       "\n",
       "    Proportion des aides globales (%)  \n",
       "0                                38.6  \n",
       "1                                16.1  \n",
       "2                                11.4  \n",
       "3                                10.6  \n",
       "4                                 6.7  \n",
       "5                                 6.7  \n",
       "6                                 3.9  \n",
       "7                                 3.1  \n",
       "8                                 1.3  \n",
       "9                                 0.9  \n",
       "10                                0.4  \n",
       "11                                0.1  \n",
       "12                                0.1  \n",
       "13                                0.1  \n",
       "14                                0.0  \n",
       "15                                0.0  "
      ]
     },
     "execution_count": 186,
     "metadata": {},
     "output_type": "execute_result"
    }
   ],
   "source": [
    "aide_alim_pdt=aide_alim.groupby('Produit')['Aide_alimentaire_tonnes'].sum().sort_values(ascending=False).reset_index()\n",
    "aide_alim_pdt['Proportion des aides globales (%)']=round(aide_alim_pdt['Aide_alimentaire_tonnes']/sum(aide_alim_pdt['Aide_alimentaire_tonnes'])*(100),1)\n",
    "aide_alim_pdt"
   ]
  },
  {
   "cell_type": "markdown",
   "id": "4c6e9c54",
   "metadata": {},
   "source": [
    "Les céréales, ('céréales', 'céréales secondaires', 'blé et farine', 'riz'), représentent 72% des aides alimentaires mondiales."
   ]
  },
  {
   "cell_type": "markdown",
   "id": "fb97eb78",
   "metadata": {},
   "source": [
    "### 10- Répartion de la disponibilité alimentaire par habitant<a class=\"anchor\" id=\"3_10\"></a>"
   ]
  },
  {
   "cell_type": "code",
   "execution_count": 187,
   "id": "e16d4127",
   "metadata": {
    "scrolled": false
   },
   "outputs": [
    {
     "data": {
      "image/png": "[encoded data removed]",
      "text/plain": [
       "<Figure size 720x504 with 1 Axes>"
      ]
     },
     "metadata": {
      "needs_background": "light"
     },
     "output_type": "display_data"
    }
   ],
   "source": [
    "#Aggrégation par zone\n",
    "dispo_alim_hab=dispo_alim.groupby('Zone').sum()\n",
    "#Données de population pour l'année 2013\n",
    "pop_2017=dfpop.loc[dfpop['Année']==2017]\n",
    "#Jointure entre la dispo alimentaire et les données de population\n",
    "dispo_alim_hab=pd.merge(dispo_alim_hab,pop_2017,on='Zone',how='left')\n",
    "#Affichage d'un histogramme\n",
    "plt.figure(figsize=(10,7))\n",
    "plt.hist(dispo_alim_hab['Disponibilité alimentaire (cal/personne/jour)'])\n",
    "plt.title('Répartition de la disponibilité alimentaire par habitant',fontweight='bold',fontsize=14)\n",
    "plt.ylabel('Nombre de pays',fontsize=11)\n",
    "plt.xlabel('Disponibilité alimentaire (cal/personne/jour)',fontsize=11)\n",
    "plt.grid(axis='y',color='gray',linestyle='-',linewidth=0.5)\n",
    "plt.ylim(0,30)\n",
    "plt.show()"
   ]
  },
  {
   "cell_type": "code",
   "execution_count": 188,
   "id": "17406bbc",
   "metadata": {},
   "outputs": [
    {
     "name": "stdout",
     "output_type": "stream",
     "text": [
      "20  pays sur 174  ont une disponibilité alimentaire inférieure à 2250 kcal/jour/habitant.\n",
      "11.5 % des pays ont une disponibilité alimentaire inférieure à 2250 kcal/jour/habitant.\n"
     ]
    }
   ],
   "source": [
    "# Proportion des pays ayant un apport journalier inférieur à l'apport moyen de 2250 kcal/jour\n",
    "dispo_alim_hab_min=dispo_alim_hab.loc[dispo_alim_hab['Disponibilité alimentaire (cal/personne/jour)']<=2250,:]\n",
    "ratio_dispo_alim_hab_min=round(dispo_alim_hab_min['Disponibilité alimentaire (cal/personne/jour)'].count()/dispo_alim_hab['Disponibilité alimentaire (cal/personne/jour)'].count()*(100),1)\n",
    "nbpays_dispo_min=dispo_alim_hab_min['Disponibilité alimentaire (cal/personne/jour)'].count()\n",
    "nbpays=dispo_alim_hab['Disponibilité alimentaire (cal/personne/jour)'].count()\n",
    "print(nbpays_dispo_min,' pays sur',nbpays, ' ont une disponibilité alimentaire inférieure à 2250 kcal/jour/habitant.' )\n",
    "print(ratio_dispo_alim_hab_min,'% des pays ont une disponibilité alimentaire inférieure à 2250 kcal/jour/habitant.')"
   ]
  },
  {
   "cell_type": "markdown",
   "id": "ec168e2b",
   "metadata": {},
   "source": [
    "### 11- Zoom sur le top des pays en sous-nutrition : Haïti, RPD de Corée<a class=\"anchor\" id=\"3_11\"></a>"
   ]
  },
  {
   "cell_type": "markdown",
   "id": "44b08c5f",
   "metadata": {},
   "source": [
    "- **Evolution de la population sous-alimentée en Haïti, RPD de Corée et Madagascar en fonction de l'année**"
   ]
  },
  {
   "cell_type": "code",
   "execution_count": 189,
   "id": "99b6f2dd",
   "metadata": {},
   "outputs": [
    {
     "data": {
      "image/png": "[encoded data removed]",
      "text/plain": [
       "<Figure size 720x432 with 1 Axes>"
      ]
     },
     "metadata": {
      "needs_background": "light"
     },
     "output_type": "display_data"
    }
   ],
   "source": [
    "#Evolution de la population sous-alimentée en Haïti, RPD de Corée et Madagascar en fonction de l'année\n",
    "dfpop_top3=dfpop.loc[(dfpop['Zone']=='Haïti')|(dfpop['Zone']=='République populaire démocratique de Corée'),:]\n",
    "dfpop_top3=dfpop_top3.sort_values(['Année','Zone'])\n",
    "\n",
    "plt.figure(figsize=(10,6))\n",
    "for Zone in dfpop_top3['Zone'].unique():\n",
    "    df=dfpop_top3.loc[dfpop_top3['Zone']==Zone,:]\n",
    "    plt.plot(df['Année'],df['Population sous alimentée (%)'],marker='o', linestyle='--',label=Zone)\n",
    "plt.legend()\n",
    "plt.title('Evolution de la population sous-alimentée en Haïti et RPD de Corée ',fontsize=14,fontweight='bold')\n",
    "plt.ylabel('Proportion de la population sous alimentée (%)',fontsize=11)\n",
    "plt.grid(axis='y',color='gray',linestyle='-')\n",
    "plt.show()\n"
   ]
  },
  {
   "cell_type": "markdown",
   "id": "489d2f17",
   "metadata": {},
   "source": [
    "- **Evolution de l'aide alimentaire versée à Haïti, RPD de Corée et Madagascar en fonction de l'année**"
   ]
  },
  {
   "cell_type": "code",
   "execution_count": 190,
   "id": "92b41b63",
   "metadata": {},
   "outputs": [
    {
     "data": {
      "text/html": [
       "<div>\n",
       "<style scoped>\n",
       "    .dataframe tbody tr th:only-of-type {\n",
       "        vertical-align: middle;\n",
       "    }\n",
       "\n",
       "    .dataframe tbody tr th {\n",
       "        vertical-align: top;\n",
       "    }\n",
       "\n",
       "    .dataframe thead th {\n",
       "        text-align: right;\n",
       "    }\n",
       "</style>\n",
       "<table border=\"1\" class=\"dataframe\">\n",
       "  <thead>\n",
       "    <tr style=\"text-align: right;\">\n",
       "      <th></th>\n",
       "      <th>Pays</th>\n",
       "      <th>Année</th>\n",
       "      <th>Aide_alimentaire_tonnes</th>\n",
       "    </tr>\n",
       "  </thead>\n",
       "  <tbody>\n",
       "    <tr>\n",
       "      <th>76</th>\n",
       "      <td>Haïti</td>\n",
       "      <td>2013</td>\n",
       "      <td>61214</td>\n",
       "    </tr>\n",
       "    <tr>\n",
       "      <th>77</th>\n",
       "      <td>Haïti</td>\n",
       "      <td>2014</td>\n",
       "      <td>33108</td>\n",
       "    </tr>\n",
       "    <tr>\n",
       "      <th>78</th>\n",
       "      <td>Haïti</td>\n",
       "      <td>2015</td>\n",
       "      <td>9666</td>\n",
       "    </tr>\n",
       "    <tr>\n",
       "      <th>79</th>\n",
       "      <td>Haïti</td>\n",
       "      <td>2016</td>\n",
       "      <td>12462</td>\n",
       "    </tr>\n",
       "    <tr>\n",
       "      <th>174</th>\n",
       "      <td>République populaire démocratique de Corée</td>\n",
       "      <td>2013</td>\n",
       "      <td>71324</td>\n",
       "    </tr>\n",
       "    <tr>\n",
       "      <th>175</th>\n",
       "      <td>République populaire démocratique de Corée</td>\n",
       "      <td>2014</td>\n",
       "      <td>43182</td>\n",
       "    </tr>\n",
       "    <tr>\n",
       "      <th>176</th>\n",
       "      <td>République populaire démocratique de Corée</td>\n",
       "      <td>2015</td>\n",
       "      <td>70506</td>\n",
       "    </tr>\n",
       "    <tr>\n",
       "      <th>177</th>\n",
       "      <td>République populaire démocratique de Corée</td>\n",
       "      <td>2016</td>\n",
       "      <td>2400</td>\n",
       "    </tr>\n",
       "  </tbody>\n",
       "</table>\n",
       "</div>"
      ],
      "text/plain": [
       "                                           Pays  Année  \\\n",
       "76                                        Haïti   2013   \n",
       "77                                        Haïti   2014   \n",
       "78                                        Haïti   2015   \n",
       "79                                        Haïti   2016   \n",
       "174  République populaire démocratique de Corée   2013   \n",
       "175  République populaire démocratique de Corée   2014   \n",
       "176  République populaire démocratique de Corée   2015   \n",
       "177  République populaire démocratique de Corée   2016   \n",
       "\n",
       "     Aide_alimentaire_tonnes  \n",
       "76                     61214  \n",
       "77                     33108  \n",
       "78                      9666  \n",
       "79                     12462  \n",
       "174                    71324  \n",
       "175                    43182  \n",
       "176                    70506  \n",
       "177                     2400  "
      ]
     },
     "metadata": {},
     "output_type": "display_data"
    },
    {
     "data": {
      "image/png": "[encoded data removed]",
      "text/plain": [
       "<Figure size 720x432 with 1 Axes>"
      ]
     },
     "metadata": {
      "needs_background": "light"
     },
     "output_type": "display_data"
    }
   ],
   "source": [
    "#Evolution de l'aide alimentaire versée à Haïti, RPD de Corée et Madagascar en fonction de l'année\n",
    "df_aide_top3=aide_alim.groupby(['Pays bénéficiaire','Année'])['Aide_alimentaire_tonnes'].sum()\n",
    "df_aide_top3=df_aide_top3.reset_index()\n",
    "df_aide_top3.columns=['Pays','Année','Aide_alimentaire_tonnes']\n",
    "df_aide_top3=df_aide_top3.loc[(df_aide_top3['Pays']=='Haïti')|(df_aide_top3['Pays']=='République populaire démocratique de Corée'),:]\n",
    "display(df_aide_top3)\n",
    "\n",
    "# Affichage du graphique\n",
    "plt.figure(figsize=(10,6))\n",
    "for Pays in df_aide_top3['Pays'].unique():\n",
    "    df=df_aide_top3.loc[df_aide_top3['Pays']==Pays,:]\n",
    "    plt.plot(df['Année'],df['Aide_alimentaire_tonnes'],marker='o', linestyle='--',label=Pays)\n",
    "plt.legend()\n",
    "plt.title(\"Evolution de l'aide alimentaire versée à Haïti et RPD de Corée\",fontsize=14,fontweight='bold')\n",
    "plt.ylabel('Aide alimentaire (tonnes)',fontsize=11)\n",
    "plt.xticks([2013,2014,2015,2016])\n",
    "plt.grid(axis='y',color='gray',linestyle='-')\n",
    "plt.show()"
   ]
  },
  {
   "cell_type": "markdown",
   "id": "65e3b590",
   "metadata": {},
   "source": [
    "**Analyse:**\n",
    "\n",
    "- **Haïti :**\n",
    "    - Sous-nutrition: très élévée et constante autour de 48%, presque 1 habitant sur 2 en sous-nutrition.\n",
    "    - Aide alimentaire: forte baisse entre 2013 et 2016 : **-80%**\n",
    "    - Contexte: Les causes de l’insécurité alimentaire en Haïti sont multiples : le phénomène est fréquemment lié à la pauvreté, à une mauvaise exploitation et au manque de terres agricoles, aux catastrophes naturelles (sécheresses, inondations et tempêtes), aux prix élevés des denrées alimentaires et à un faible niveau d’éducation. De plus, l'instabilité politique est persistante et l'inflation croissante. [Source](https://news.un.org/fr/story/2022/03/1116792)\n",
    "- **République populaire démocratique de Corée :** \n",
    "    - Sous_nutrition: en augmentation de 7 points (41% en 2013, 48% en 2018), presque 1 habitant sur 2 en sous-nutrition en 2018\n",
    "    - Aide alimentaire: forte baisse entre 2013 et 2016, **-97%**\n",
    "    - Contexte: Ce pays n'est pas favorable à l'agriculture : montagneux, il n'a qu'une courte saison agricole. En 2017, une forte sécheresse a affectée les récoltes\n",
    "\n",
    "\n",
    "**La crise sanitaire de 2020 (Covid-19) et la crise ukrainienne risquent de renforcer l'insécurité alimentaire déjà alarmante de ces pays.**"
   ]
  }
 ],
 "metadata": {
  "kernelspec": {
   "display_name": "Python 3 (ipykernel)",
   "language": "python",
   "name": "python3"
  },
  "language_info": {
   "codemirror_mode": {
    "name": "ipython",
    "version": 3
   },
   "file_extension": ".py",
   "mimetype": "text/x-python",
   "name": "python",
   "nbconvert_exporter": "python",
   "pygments_lexer": "ipython3",
   "version": "3.9.12"
  }
 },
 "nbformat": 4,
 "nbformat_minor": 5
}
